{
  "cells": [
    {
      "cell_type": "markdown",
      "metadata": {
        "id": "7DypfZNNwVcx"
      },
      "source": [
        "# Install Requirements"
      ]
    },
    {
      "cell_type": "code",
      "source": [
        "from google.colab import drive\n",
        "drive.mount('/content/drive')"
      ],
      "metadata": {
        "id": "SuJ_8f-I8ONS"
      },
      "execution_count": null,
      "outputs": []
    },
    {
      "cell_type": "code",
      "source": [
        "!cp -r \"/content/drive/MyDrive/AI dr nesma\" /content/data\n",
        "!pip install ultralytics"
      ],
      "metadata": {
        "collapsed": true,
        "id": "Tw7QWquZ8WH_"
      },
      "execution_count": null,
      "outputs": []
    },
    {
      "cell_type": "code",
      "execution_count": 34,
      "metadata": {
        "collapsed": true,
        "id": "dZxlTdL-qJgP"
      },
      "outputs": [],
      "source": [
        "import os, cv2\n",
        "import shutil\n",
        "import random\n",
        "import numpy as np\n",
        "from PIL import Image, ImageFilter\n",
        "from ultralytics import YOLO\n",
        "from sklearn.preprocessing import LabelEncoder\n",
        "from sklearn.model_selection import train_test_split\n",
        "from sklearn.metrics import classification_report, confusion_matrix"
      ]
    },
    {
      "cell_type": "code",
      "execution_count": 4,
      "metadata": {
        "colab": {
          "base_uri": "https://localhost:8080/"
        },
        "id": "rOMf-mJQx4IB",
        "outputId": "65f4933c-32cb-47a9-b69a-04e97b650d3a"
      },
      "outputs": [
        {
          "output_type": "execute_result",
          "data": {
            "text/plain": [
              "['Benign melanocytic nevus',\n",
              " 'Melanoma',\n",
              " 'Wart',\n",
              " 'Herpes Zoster',\n",
              " 'Tinea capitis',\n",
              " 'Tinea circinata',\n",
              " 'Psoraisis',\n",
              " 'Normal skin',\n",
              " 'Tinea Versicolor',\n",
              " 'Vitiligo',\n",
              " 'Basal cell carcinoma',\n",
              " 'Alopecia areata']"
            ]
          },
          "metadata": {},
          "execution_count": 4
        }
      ],
      "source": [
        "os.listdir('./data')"
      ]
    },
    {
      "cell_type": "markdown",
      "metadata": {
        "id": "vJrRwi7o8M2K"
      },
      "source": [
        "## `Split data into training testing validation`"
      ]
    },
    {
      "cell_type": "code",
      "source": [
        "source_dir = \"./data\"\n",
        "dest_dir = \"./Data-medical\"\n",
        "classes = os.listdir(source_dir)\n",
        "\n",
        "os.makedirs(os.path.join(dest_dir, \"train\"), exist_ok=True)\n",
        "os.makedirs(os.path.join(dest_dir, \"val\"), exist_ok=True)\n",
        "os.makedirs(os.path.join(dest_dir, \"test\"), exist_ok=True)\n",
        "\n",
        "# === AUGMENTATION FUNCTIONS ===\n",
        "def add_noise(img):\n",
        "    noise = np.random.normal(0, 25, img.shape).astype(np.uint8)\n",
        "    noisy_img = cv2.add(img, noise)\n",
        "    return noisy_img\n",
        "\n",
        "def rotate_image(img, angle=15):\n",
        "    h, w = img.shape[:2]\n",
        "    matrix = cv2.getRotationMatrix2D((w//2, h//2), angle, 1)\n",
        "    return cv2.warpAffine(img, matrix, (w, h))\n",
        "\n",
        "def blur_image(img):\n",
        "    return cv2.GaussianBlur(img, (5, 5), 0)\n",
        "\n",
        "def apply_augmentations(img_path):\n",
        "    img = cv2.imread(img_path)\n",
        "    img_augmented = []\n",
        "    img_augmented.append(img)\n",
        "    img_augmented.append(add_noise(img))\n",
        "    img_augmented.append(rotate_image(img, angle=random.choice([-15, 15])))\n",
        "    img_augmented.append(blur_image(img))\n",
        "    return img_augmented\n",
        "\n",
        "# === ORGANIZE AND AUGMENT ===\n",
        "for class_name in classes:\n",
        "    os.makedirs(os.path.join(dest_dir, \"train\", class_name), exist_ok=True)\n",
        "    os.makedirs(os.path.join(dest_dir, \"val\", class_name), exist_ok=True)\n",
        "    os.makedirs(os.path.join(dest_dir, \"test\", class_name), exist_ok=True)\n",
        "\n",
        "    class_images = [f for f in os.listdir(os.path.join(source_dir, class_name))\n",
        "                    if f.lower().endswith(('.png', '.jpg', '.jpeg'))]\n",
        "\n",
        "    print(f\"Organizing images for class: {class_name}...\")\n",
        "    train_files, temp_files = train_test_split(class_images, test_size=0.2, random_state=42)\n",
        "    val_files, test_files = train_test_split(temp_files, test_size=0.5, random_state=42)\n",
        "    print(f\"Train: {len(train_files)}, Val: {len(val_files)}, Test: {len(test_files)}\")\n",
        "\n",
        "    # === COPY + AUGMENT ===\n",
        "    for idx, file in enumerate(train_files):\n",
        "        src = os.path.join(source_dir, class_name, file)\n",
        "\n",
        "        # Apply augmentations\n",
        "        augmented_imgs = apply_augmentations(src)\n",
        "\n",
        "        for i, aug_img in enumerate(augmented_imgs):\n",
        "            dst_filename = f\"{os.path.splitext(file)[0]}_aug{i}.jpg\"\n",
        "            dst = os.path.join(dest_dir, \"train\", class_name, dst_filename)\n",
        "            cv2.imwrite(dst, aug_img)\n",
        "\n",
        "    # Just copy val/test images without augmentation\n",
        "    for file in val_files:\n",
        "        src = os.path.join(source_dir, class_name, file)\n",
        "        dst = os.path.join(dest_dir, \"val\", class_name, file)\n",
        "        shutil.copy(src, dst)\n",
        "\n",
        "    for file in test_files:\n",
        "        src = os.path.join(source_dir, class_name, file)\n",
        "        dst = os.path.join(dest_dir, \"test\", class_name, file)\n",
        "        shutil.copy(src, dst)\n",
        "\n",
        "print(\"✅ Dataset organized and augmented successfully!\")"
      ],
      "metadata": {
        "colab": {
          "base_uri": "https://localhost:8080/"
        },
        "collapsed": true,
        "id": "bRJEF7KW-s1b",
        "outputId": "5120f3d1-c4a9-4b90-bbcd-87828ff8ae6f"
      },
      "execution_count": 5,
      "outputs": [
        {
          "output_type": "stream",
          "name": "stdout",
          "text": [
            "Organizing images for class: Benign melanocytic nevus...\n",
            "Train: 190, Val: 24, Test: 24\n",
            "Organizing images for class: Melanoma...\n",
            "Train: 230, Val: 29, Test: 29\n",
            "Organizing images for class: Wart...\n",
            "Train: 180, Val: 22, Test: 23\n",
            "Organizing images for class: Herpes Zoster...\n",
            "Train: 180, Val: 22, Test: 23\n",
            "Organizing images for class: Tinea capitis...\n",
            "Train: 107, Val: 13, Test: 14\n",
            "Organizing images for class: Tinea circinata...\n",
            "Train: 135, Val: 17, Test: 17\n",
            "Organizing images for class: Psoraisis...\n",
            "Train: 199, Val: 25, Test: 25\n",
            "Organizing images for class: Normal skin...\n",
            "Train: 146, Val: 18, Test: 19\n",
            "Organizing images for class: Tinea Versicolor...\n",
            "Train: 177, Val: 22, Test: 23\n",
            "Organizing images for class: Vitiligo...\n",
            "Train: 254, Val: 32, Test: 32\n",
            "Organizing images for class: Basal cell carcinoma...\n",
            "Train: 159, Val: 20, Test: 20\n",
            "Organizing images for class: Alopecia areata...\n",
            "Train: 136, Val: 17, Test: 17\n",
            "✅ Dataset organized and augmented successfully!\n"
          ]
        }
      ]
    },
    {
      "cell_type": "markdown",
      "metadata": {
        "id": "_tdVO6hM8M2L"
      },
      "source": [
        "## `Train model`"
      ]
    },
    {
      "cell_type": "code",
      "execution_count": 6,
      "metadata": {
        "colab": {
          "base_uri": "https://localhost:8080/"
        },
        "id": "Fy9MJqcNN8xm",
        "outputId": "9a383956-165f-48fd-9d09-ffffbc2d7711"
      },
      "outputs": [
        {
          "metadata": {
            "tags": null
          },
          "name": "stdout",
          "output_type": "stream",
          "text": [
            "Ultralytics 8.3.159 🚀 Python-3.11.13 torch-2.6.0+cu124 CUDA:0 (NVIDIA A100-SXM4-40GB, 40507MiB)\n",
            "\u001b[34m\u001b[1mengine/trainer: \u001b[0magnostic_nms=False, amp=True, augment=False, auto_augment=randaugment, batch=16, bgr=0.0, box=7.5, cache=False, cfg=None, classes=None, close_mosaic=10, cls=0.5, conf=None, copy_paste=0.0, copy_paste_mode=flip, cos_lr=False, cutmix=0.0, data=./Data-medical, degrees=0.0, deterministic=True, device=None, dfl=1.5, dnn=False, dropout=0.0, dynamic=False, embed=None, epochs=100, erasing=0.4, exist_ok=False, fliplr=0.5, flipud=0.0, format=torchscript, fraction=1.0, freeze=None, half=False, hsv_h=0.015, hsv_s=0.7, hsv_v=0.4, imgsz=224, int8=False, iou=0.7, keras=False, kobj=1.0, line_width=None, lr0=0.01, lrf=0.01, mask_ratio=4, max_det=300, mixup=0.0, mode=train, model=/content/new_model.pt, momentum=0.937, mosaic=1.0, multi_scale=False, name=train, nbs=64, nms=False, opset=None, optimize=False, optimizer=auto, overlap_mask=True, patience=100, perspective=0.0, plots=True, pose=12.0, pretrained=True, profile=False, project=None, rect=False, resume=False, retina_masks=False, save=True, save_conf=False, save_crop=False, save_dir=runs/classify/train, save_frames=False, save_json=False, save_period=-1, save_txt=False, scale=0.5, seed=0, shear=0.0, show=False, show_boxes=True, show_conf=True, show_labels=True, simplify=True, single_cls=False, source=None, split=val, stream_buffer=False, task=classify, time=None, tracker=botsort.yaml, translate=0.1, val=True, verbose=True, vid_stride=1, visualize=False, warmup_bias_lr=0.1, warmup_epochs=3.0, warmup_momentum=0.8, weight_decay=0.0005, workers=8, workspace=None\n",
            "\u001b[34m\u001b[1mtrain:\u001b[0m /content/Data-medical/train... found 8364 images in 12 classes ✅ \n",
            "\u001b[34m\u001b[1mval:\u001b[0m /content/Data-medical/val... found 261 images in 12 classes ✅ \n",
            "\u001b[34m\u001b[1mtest:\u001b[0m /content/Data-medical/test... found 266 images in 12 classes ✅ \n",
            "\n",
            "                   from  n    params  module                                       arguments                     \n",
            "  0                  -1  1      1392  ultralytics.nn.modules.conv.Conv             [3, 48, 3, 2]                 \n",
            "  1                  -1  1     41664  ultralytics.nn.modules.conv.Conv             [48, 96, 3, 2]                \n",
            "  2                  -1  2    111360  ultralytics.nn.modules.block.C2f             [96, 96, 2, True]             \n",
            "  3                  -1  1    166272  ultralytics.nn.modules.conv.Conv             [96, 192, 3, 2]               \n",
            "  4                  -1  4    813312  ultralytics.nn.modules.block.C2f             [192, 192, 4, True]           \n",
            "  5                  -1  1    664320  ultralytics.nn.modules.conv.Conv             [192, 384, 3, 2]              \n",
            "  6                  -1  4   3248640  ultralytics.nn.modules.block.C2f             [384, 384, 4, True]           \n",
            "  7                  -1  1   2655744  ultralytics.nn.modules.conv.Conv             [384, 768, 3, 2]              \n",
            "  8                  -1  2   7084032  ultralytics.nn.modules.block.C2f             [768, 768, 2, True]           \n",
            "  9                  -1  1   1000972  ultralytics.nn.modules.head.Classify         [768, 12]                     \n",
            "YOLOv8m-cls summary: 80 layers, 15,787,708 parameters, 15,787,708 gradients, 41.9 GFLOPs\n",
            "Transferred 230/230 items from pretrained weights\n",
            "\u001b[34m\u001b[1mAMP: \u001b[0mrunning Automatic Mixed Precision (AMP) checks...\n",
            "Downloading https://github.com/ultralytics/assets/releases/download/v8.3.0/yolo11n.pt to 'yolo11n.pt'...\n"
          ]
        },
        {
          "metadata": {
            "tags": null
          },
          "name": "stderr",
          "output_type": "stream",
          "text": [
            "100%|██████████| 5.35M/5.35M [00:00<00:00, 336MB/s]\n"
          ]
        },
        {
          "metadata": {
            "tags": null
          },
          "name": "stdout",
          "output_type": "stream",
          "text": [
            "\u001b[34m\u001b[1mAMP: \u001b[0mchecks passed ✅\n",
            "\u001b[34m\u001b[1mtrain: \u001b[0mFast image access ✅ (ping: 0.0±0.0 ms, read: 3146.6±938.1 MB/s, size: 680.4 KB)\n"
          ]
        },
        {
          "metadata": {
            "tags": null
          },
          "name": "stderr",
          "output_type": "stream",
          "text": [
            "\u001b[34m\u001b[1mtrain: \u001b[0mScanning /content/Data-medical/train... 8364 images, 0 corrupt: 100%|██████████| 8364/8364 [00:02<00:00, 3446.33it/s]\n"
          ]
        },
        {
          "metadata": {
            "tags": null
          },
          "name": "stdout",
          "output_type": "stream",
          "text": [
            "\u001b[34m\u001b[1mtrain: \u001b[0mNew cache created: /content/Data-medical/train.cache\n",
            "\u001b[34m\u001b[1mval: \u001b[0mFast image access ✅ (ping: 0.0±0.0 ms, read: 1762.7±2002.3 MB/s, size: 937.5 KB)\n"
          ]
        },
        {
          "metadata": {
            "tags": null
          },
          "name": "stderr",
          "output_type": "stream",
          "text": [
            "\u001b[34m\u001b[1mval: \u001b[0mScanning /content/Data-medical/val... 261 images, 0 corrupt: 100%|██████████| 261/261 [00:02<00:00, 91.35it/s] "
          ]
        },
        {
          "metadata": {
            "tags": null
          },
          "name": "stdout",
          "output_type": "stream",
          "text": [
            "\u001b[34m\u001b[1mval: \u001b[0m/content/Data-medical/val/Alopecia areata/009315HB_fee391183f15cb4d62773032fe0be92d.jpg: corrupt JPEG restored and saved\n",
            "\u001b[34m\u001b[1mval: \u001b[0m/content/Data-medical/val/Alopecia areata/20220920_105729.jpg: corrupt JPEG restored and saved\n",
            "\u001b[34m\u001b[1mval: \u001b[0m/content/Data-medical/val/Alopecia areata/20221220_112958.jpg: corrupt JPEG restored and saved\n",
            "\u001b[34m\u001b[1mval: \u001b[0m/content/Data-medical/val/Alopecia areata/27982tn.jpg: corrupt JPEG restored and saved\n",
            "\u001b[34m\u001b[1mval: \u001b[0m/content/Data-medical/val/Alopecia areata/Alopecia_Areata_Beard-1200x628-Facebook.jpg: corrupt JPEG restored and saved\n",
            "\u001b[34m\u001b[1mval: \u001b[0m/content/Data-medical/val/Alopecia areata/alopecia-areata-wat-is-het-hoe-herken-je-het.jpg: corrupt JPEG restored and saved\n",
            "\u001b[34m\u001b[1mval: \u001b[0m/content/Data-medical/val/Alopecia areata/alopecia-barbae-v2_d.jpg: corrupt JPEG restored and saved\n",
            "\u001b[34m\u001b[1mval: \u001b[0m/content/Data-medical/val/Alopecia areata/alopeciaAreata_33309_lg.jpg: corrupt JPEG restored and saved\n",
            "\u001b[34m\u001b[1mval: \u001b[0m/content/Data-medical/val/Alopecia areata/alopeciaAreata_8336_lg (1).jpg: corrupt JPEG restored and saved\n",
            "\u001b[34m\u001b[1mval: \u001b[0m/content/Data-medical/val/Alopecia areata/alopeciaAreata_8337_lg.jpg: corrupt JPEG restored and saved\n",
            "\u001b[34m\u001b[1mval: \u001b[0m/content/Data-medical/val/Alopecia areata/alopeciaareatasmpmenbefore-scaled-1280x1920.jpg: corrupt JPEG restored and saved\n",
            "\u001b[34m\u001b[1mval: \u001b[0m/content/Data-medical/val/Alopecia areata/female_alopecia-areata-body4.jpg: corrupt JPEG restored and saved\n",
            "\u001b[34m\u001b[1mval: \u001b[0m/content/Data-medical/val/Alopecia areata/is-this-vellus-hair-in-october-i-developed-some-bald-spots-v0-mgxkugxin28a1.jpg: corrupt JPEG restored and saved\n",
            "\u001b[34m\u001b[1mval: \u001b[0m/content/Data-medical/val/Alopecia areata/ophiasis.jpg: corrupt JPEG restored and saved\n",
            "\u001b[34m\u001b[1mval: \u001b[0m/content/Data-medical/val/Basal cell carcinoma/1_BCC_solid_fee391183f15cb4d62773032fe0be92d.jpg: corrupt JPEG restored and saved\n",
            "\u001b[34m\u001b[1mval: \u001b[0m/content/Data-medical/val/Basal cell carcinoma/26672.jpg: corrupt JPEG restored and saved\n",
            "\u001b[34m\u001b[1mval: \u001b[0m/content/Data-medical/val/Basal cell carcinoma/360_F_114183215_ZGAgLLQr9776sHGxScrfOSWEtgoK1vJR.jpg: corrupt JPEG restored and saved\n",
            "\u001b[34m\u001b[1mval: \u001b[0m/content/Data-medical/val/Basal cell carcinoma/533307_0_En_62-1_Fig2_HTML.jpg: corrupt JPEG restored and saved\n",
            "\u001b[34m\u001b[1mval: \u001b[0m/content/Data-medical/val/Basal cell carcinoma/C0609424-Nodular_basal_cell_carcinoma_of_the_ear.jpg: corrupt JPEG restored and saved\n",
            "\u001b[34m\u001b[1mval: \u001b[0m/content/Data-medical/val/Basal cell carcinoma/Nancy-Bury-BCC-Version-2.jpg: corrupt JPEG restored and saved\n",
            "\u001b[34m\u001b[1mval: \u001b[0m/content/Data-medical/val/Basal cell carcinoma/Screenshot_20250409_202438_Gallery.jpg: corrupt JPEG restored and saved\n",
            "\u001b[34m\u001b[1mval: \u001b[0m/content/Data-medical/val/Basal cell carcinoma/Screenshot_20250409_220615_Gallery.jpg: corrupt JPEG restored and saved\n",
            "\u001b[34m\u001b[1mval: \u001b[0m/content/Data-medical/val/Basal cell carcinoma/basal-cell-carcinoma-225x300.jpg: corrupt JPEG restored and saved\n",
            "\u001b[34m\u001b[1mval: \u001b[0m/content/Data-medical/val/Basal cell carcinoma/basal-cell-carcinoma-kelowna.jpg: corrupt JPEG restored and saved\n",
            "\u001b[34m\u001b[1mval: \u001b[0m/content/Data-medical/val/Basal cell carcinoma/basal-cell-carcinoma-trunk-photo.jpg: corrupt JPEG restored and saved\n",
            "\u001b[34m\u001b[1mval: \u001b[0m/content/Data-medical/val/Basal cell carcinoma/bcc-104.jpg: corrupt JPEG restored and saved\n",
            "\u001b[34m\u001b[1mval: \u001b[0m/content/Data-medical/val/Basal cell carcinoma/nbcc2.jpg: corrupt JPEG restored and saved\n",
            "\u001b[34m\u001b[1mval: \u001b[0m/content/Data-medical/val/Basal cell carcinoma/nodular-basal-cell-carcinoma-eyelid-image-.jpg: corrupt JPEG restored and saved\n",
            "\u001b[34m\u001b[1mval: \u001b[0m/content/Data-medical/val/Basal cell carcinoma/pigmented-basal-cell-carcinoma-1.jpg: corrupt JPEG restored and saved\n",
            "\u001b[34m\u001b[1mval: \u001b[0m/content/Data-medical/val/Basal cell carcinoma/what-does-basal-cell-carcinoma-look-like.jpg: corrupt JPEG restored and saved\n",
            "\u001b[34m\u001b[1mval: \u001b[0m/content/Data-medical/val/Benign melanocytic nevus/AdobeStock_266671269.jpg: corrupt JPEG restored and saved\n",
            "\u001b[34m\u001b[1mval: \u001b[0m/content/Data-medical/val/Herpes Zoster/1-s2.0-S0002939406004430-gr3.jpg: corrupt JPEG restored and saved\n",
            "\u001b[34m\u001b[1mval: \u001b[0m/content/Data-medical/val/Herpes Zoster/87_VI-shingles (6).jpg: corrupt JPEG restored and saved\n",
            "\u001b[34m\u001b[1mval: \u001b[0m/content/Data-medical/val/Herpes Zoster/F1.large (1).jpg: corrupt JPEG restored and saved\n",
            "\u001b[34m\u001b[1mval: \u001b[0m/content/Data-medical/val/Herpes Zoster/Herpes-patient.jpg: corrupt JPEG restored and saved\n",
            "\u001b[34m\u001b[1mval: \u001b[0m/content/Data-medical/val/Herpes Zoster/IMG-20220930-WA0001.jpg: corrupt JPEG restored and saved\n",
            "\u001b[34m\u001b[1mval: \u001b[0m/content/Data-medical/val/Herpes Zoster/Oral-Herpes-Zoster-Photo.-JETem-2019-e1563224128989.jpg: corrupt JPEG restored and saved\n",
            "\u001b[34m\u001b[1mval: \u001b[0m/content/Data-medical/val/Herpes Zoster/Shingles-Post-Herpetic-Neuralgia-Silicon-Valley-Pain-Clinic-2.jpg: corrupt JPEG restored and saved\n",
            "\u001b[34m\u001b[1mval: \u001b[0m/content/Data-medical/val/Herpes Zoster/Sinusitis-contagion-prevention-and-management-tips-1-1024x682.jpg: corrupt JPEG restored and saved\n",
            "\u001b[34m\u001b[1mval: \u001b[0m/content/Data-medical/val/Herpes Zoster/big_55590ee17dbc6.jpg: corrupt JPEG restored and saved\n",
            "\u001b[34m\u001b[1mval: \u001b[0m/content/Data-medical/val/Herpes Zoster/cp_jul_4001.jpg: corrupt JPEG restored and saved\n",
            "\u001b[34m\u001b[1mval: \u001b[0m/content/Data-medical/val/Herpes Zoster/file.jpg: corrupt JPEG restored and saved\n",
            "\u001b[34m\u001b[1mval: \u001b[0m/content/Data-medical/val/Herpes Zoster/hero-image-mobile.jpg: corrupt JPEG restored and saved\n",
            "\u001b[34m\u001b[1mval: \u001b[0m/content/Data-medical/val/Herpes Zoster/shingles-rash-300x209.jpg: corrupt JPEG restored and saved\n",
            "\u001b[34m\u001b[1mval: \u001b[0m/content/Data-medical/val/Herpes Zoster/zoster-14.jpg: corrupt JPEG restored and saved\n",
            "\u001b[34m\u001b[1mval: \u001b[0m/content/Data-medical/val/Normal skin/10.10.jpg: corrupt JPEG restored and saved\n",
            "\u001b[34m\u001b[1mval: \u001b[0m/content/Data-medical/val/Normal skin/16.3.jpg: corrupt JPEG restored and saved\n",
            "\u001b[34m\u001b[1mval: \u001b[0m/content/Data-medical/val/Normal skin/4.5.jpg: corrupt JPEG restored and saved\n",
            "\u001b[34m\u001b[1mval: \u001b[0m/content/Data-medical/val/Normal skin/8.6.jpg: corrupt JPEG restored and saved\n",
            "\u001b[34m\u001b[1mval: \u001b[0m/content/Data-medical/val/Normal skin/img158.jpg: corrupt JPEG restored and saved\n",
            "\u001b[34m\u001b[1mval: \u001b[0m/content/Data-medical/val/Normal skin/img231.jpg: corrupt JPEG restored and saved\n",
            "\u001b[34m\u001b[1mval: \u001b[0m/content/Data-medical/val/Normal skin/img355.jpg: corrupt JPEG restored and saved\n",
            "\u001b[34m\u001b[1mval: \u001b[0m/content/Data-medical/val/Normal skin/img497.jpg: corrupt JPEG restored and saved\n",
            "\u001b[34m\u001b[1mval: \u001b[0m/content/Data-medical/val/Normal skin/img512.jpg: corrupt JPEG restored and saved\n",
            "\u001b[34m\u001b[1mval: \u001b[0m/content/Data-medical/val/Normal skin/img66.jpg: corrupt JPEG restored and saved\n",
            "\u001b[34m\u001b[1mval: \u001b[0m/content/Data-medical/val/Normal skin/img69.jpg: corrupt JPEG restored and saved\n",
            "\u001b[34m\u001b[1mval: \u001b[0m/content/Data-medical/val/Normal skin/img76.jpg: corrupt JPEG restored and saved\n",
            "\u001b[34m\u001b[1mval: \u001b[0m/content/Data-medical/val/Normal skin/macro-photo-big-pore-on-600w-2374662145.jpg: corrupt JPEG restored and saved\n",
            "\u001b[34m\u001b[1mval: \u001b[0m/content/Data-medical/val/Psoraisis/109079.jpg: corrupt JPEG restored and saved\n",
            "\u001b[34m\u001b[1mval: \u001b[0m/content/Data-medical/val/Psoraisis/43b6acff388d8ed6022fa0a578df6416.jpg: corrupt JPEG restored and saved\n",
            "\u001b[34m\u001b[1mval: \u001b[0m/content/Data-medical/val/Psoraisis/IMG-20250224-WA0044.jpg: corrupt JPEG restored and saved\n",
            "\u001b[34m\u001b[1mval: \u001b[0m/content/Data-medical/val/Psoraisis/Psoriasis-Chronic-Plaque-165.jpg: corrupt JPEG restored and saved\n",
            "\u001b[34m\u001b[1mval: \u001b[0m/content/Data-medical/val/Psoraisis/Psoriasis-Chronic-Plaque-168.jpg: corrupt JPEG restored and saved\n",
            "\u001b[34m\u001b[1mval: \u001b[0m/content/Data-medical/val/Psoraisis/Psoriasis-Hand-57.jpg: corrupt JPEG restored and saved\n",
            "\u001b[34m\u001b[1mval: \u001b[0m/content/Data-medical/val/Psoraisis/Screenshot_20250131_233832_MobiOffice.jpg: corrupt JPEG restored and saved\n",
            "\u001b[34m\u001b[1mval: \u001b[0m/content/Data-medical/val/Psoraisis/Screenshot_20250131_233846_MobiOffice.jpg: corrupt JPEG restored and saved\n",
            "\u001b[34m\u001b[1mval: \u001b[0m/content/Data-medical/val/Psoraisis/Screenshot_20250131_233910_MobiOffice.jpg: corrupt JPEG restored and saved\n",
            "\u001b[34m\u001b[1mval: \u001b[0m/content/Data-medical/val/Psoraisis/Screenshot_20250131_233924_MobiOffice.jpg: corrupt JPEG restored and saved\n",
            "\u001b[34m\u001b[1mval: \u001b[0m/content/Data-medical/val/Psoraisis/Screenshot_20250131_234008_MobiOffice.jpg: corrupt JPEG restored and saved\n",
            "\u001b[34m\u001b[1mval: \u001b[0m/content/Data-medical/val/Psoraisis/Screenshot_20250131_234055_MobiOffice.jpg: corrupt JPEG restored and saved\n",
            "\u001b[34m\u001b[1mval: \u001b[0m/content/Data-medical/val/Psoraisis/chronic-plaque-psoriasis-013.jpg: corrupt JPEG restored and saved\n",
            "\u001b[34m\u001b[1mval: \u001b[0m/content/Data-medical/val/Psoraisis/chronic-plaque-psoriasis-017.jpg: corrupt JPEG restored and saved\n",
            "\u001b[34m\u001b[1mval: \u001b[0m/content/Data-medical/val/Psoraisis/psoriasis-4.jpg: corrupt JPEG restored and saved\n",
            "\u001b[34m\u001b[1mval: \u001b[0m/content/Data-medical/val/Psoraisis/psoriasis-on-arm.jpg: corrupt JPEG restored and saved\n",
            "\u001b[34m\u001b[1mval: \u001b[0m/content/Data-medical/val/Psoraisis/psoriasis_12271_lg.jpg: corrupt JPEG restored and saved\n",
            "\u001b[34m\u001b[1mval: \u001b[0m/content/Data-medical/val/Psoraisis/scalp-psoriasis-0010.jpg: corrupt JPEG restored and saved\n",
            "\u001b[34m\u001b[1mval: \u001b[0m/content/Data-medical/val/Tinea Versicolor/1233_1.jpg: corrupt JPEG restored and saved\n",
            "\u001b[34m\u001b[1mval: \u001b[0m/content/Data-medical/val/Tinea Versicolor/1233_2.jpg: corrupt JPEG restored and saved\n",
            "\u001b[34m\u001b[1mval: \u001b[0m/content/Data-medical/val/Tinea Versicolor/159_2.jpg: corrupt JPEG restored and saved\n",
            "\u001b[34m\u001b[1mval: \u001b[0m/content/Data-medical/val/Tinea Versicolor/20241103_102647.jpg: corrupt JPEG restored and saved\n",
            "\u001b[34m\u001b[1mval: \u001b[0m/content/Data-medical/val/Tinea Versicolor/225 (3).jpeg: corrupt JPEG restored and saved\n",
            "\u001b[34m\u001b[1mval: \u001b[0m/content/Data-medical/val/Tinea Versicolor/3-s2.0-B9780323999922000104-f19-04-9780323999922.jpg: corrupt JPEG restored and saved\n",
            "\u001b[34m\u001b[1mval: \u001b[0m/content/Data-medical/val/Tinea Versicolor/360_F_489433777_BdOM38A09O8B2qNAmdHpdIuqClkpUpFf.jpg: corrupt JPEG restored and saved\n",
            "\u001b[34m\u001b[1mval: \u001b[0m/content/Data-medical/val/Tinea Versicolor/Pityriasis_versicolor11.jpg: corrupt JPEG restored and saved\n",
            "\u001b[34m\u001b[1mval: \u001b[0m/content/Data-medical/val/Tinea Versicolor/Screenshot_20241125_005438_Facebook.jpg: corrupt JPEG restored and saved\n",
            "\u001b[34m\u001b[1mval: \u001b[0m/content/Data-medical/val/Tinea Versicolor/istockphoto-1412941825-612x612.jpg: corrupt JPEG restored and saved\n",
            "\u001b[34m\u001b[1mval: \u001b[0m/content/Data-medical/val/Tinea Versicolor/pityriasis-versicolor-0014.jpg: corrupt JPEG restored and saved\n",
            "\u001b[34m\u001b[1mval: \u001b[0m/content/Data-medical/val/Tinea Versicolor/tineaVersicolor_2767_lg.jpg: corrupt JPEG restored and saved\n",
            "\u001b[34m\u001b[1mval: \u001b[0m/content/Data-medical/val/Tinea capitis/1-s2.0-S2211753919300351-gr1 (1).jpg: corrupt JPEG restored and saved\n",
            "\u001b[34m\u001b[1mval: \u001b[0m/content/Data-medical/val/Tinea capitis/IMG-20250318-WA0012.jpg: corrupt JPEG restored and saved\n",
            "\u001b[34m\u001b[1mval: \u001b[0m/content/Data-medical/val/Tinea capitis/Kérion_02.jpg: corrupt JPEG restored and saved\n",
            "\u001b[34m\u001b[1mval: \u001b[0m/content/Data-medical/val/Tinea capitis/Tinea-capitis-presentation-in-Xinjiang-A-Tinea-capitis-White-tinea-localized-patch.jpg: corrupt JPEG restored and saved\n",
            "\u001b[34m\u001b[1mval: \u001b[0m/content/Data-medical/val/Tinea capitis/Tinea_capitis01.jpg: corrupt JPEG restored and saved\n",
            "\u001b[34m\u001b[1mval: \u001b[0m/content/Data-medical/val/Tinea capitis/Tinea_capitis14.jpg: corrupt JPEG restored and saved\n",
            "\u001b[34m\u001b[1mval: \u001b[0m/content/Data-medical/val/Tinea capitis/ijdvl_2010_76_5_527_69078_f4-2.jpg: corrupt JPEG restored and saved\n",
            "\u001b[34m\u001b[1mval: \u001b[0m/content/Data-medical/val/Tinea capitis/tinea-capitis-0011.jpg: corrupt JPEG restored and saved\n",
            "\u001b[34m\u001b[1mval: \u001b[0m/content/Data-medical/val/Tinea circinata/1000_F_536600750_8kGlfZ5cOpoA3BfmcpSlaYeIP7geOXT3 (1).jpg: corrupt JPEG restored and saved\n",
            "\u001b[34m\u001b[1mval: \u001b[0m/content/Data-medical/val/Tinea circinata/60_FU-ringworm (10).jpeg: corrupt JPEG restored and saved\n",
            "\u001b[34m\u001b[1mval: \u001b[0m/content/Data-medical/val/Tinea circinata/Fig_11_tinea_corporis05_fee391183f15cb4d62773032fe0be92d.jpg: corrupt JPEG restored and saved\n",
            "\u001b[34m\u001b[1mval: \u001b[0m/content/Data-medical/val/Tinea circinata/IMG-20240830-WA0017.jpg: corrupt JPEG restored and saved\n",
            "\u001b[34m\u001b[1mval: \u001b[0m/content/Data-medical/val/Tinea circinata/Tinea_corporis02.jpg: corrupt JPEG restored and saved\n",
            "\u001b[34m\u001b[1mval: \u001b[0m/content/Data-medical/val/Tinea circinata/Tinea_corporis05.jpg: corrupt JPEG restored and saved\n",
            "\u001b[34m\u001b[1mval: \u001b[0m/content/Data-medical/val/Tinea circinata/Tinea_corporis21.jpg: corrupt JPEG restored and saved\n",
            "\u001b[34m\u001b[1mval: \u001b[0m/content/Data-medical/val/Tinea circinata/Tinea_corporis35.jpg: corrupt JPEG restored and saved\n",
            "\u001b[34m\u001b[1mval: \u001b[0m/content/Data-medical/val/Tinea circinata/Tinea_corporis36.jpg: corrupt JPEG restored and saved\n",
            "\u001b[34m\u001b[1mval: \u001b[0m/content/Data-medical/val/Tinea circinata/Tinea_corporis98.jpg: corrupt JPEG restored and saved\n",
            "\u001b[34m\u001b[1mval: \u001b[0m/content/Data-medical/val/Tinea circinata/Tinea_corporis99.jpg: corrupt JPEG restored and saved\n",
            "\u001b[34m\u001b[1mval: \u001b[0m/content/Data-medical/val/Tinea circinata/c0563243-800px-wm.jpg: corrupt JPEG restored and saved\n",
            "\u001b[34m\u001b[1mval: \u001b[0m/content/Data-medical/val/Tinea circinata/tineaCorporisRingwormofBody_31372_lg.jpg: corrupt JPEG restored and saved\n",
            "\u001b[34m\u001b[1mval: \u001b[0m/content/Data-medical/val/Tinea circinata/tineaCorporisRingwormofBody_31373_lg.jpg: corrupt JPEG restored and saved\n",
            "\u001b[34m\u001b[1mval: \u001b[0m/content/Data-medical/val/Tinea circinata/tineaCorporisRingwormofBody_31381_lg.jpg: corrupt JPEG restored and saved\n",
            "\u001b[34m\u001b[1mval: \u001b[0m/content/Data-medical/val/Vitiligo/10184.jpeg: corrupt JPEG restored and saved\n",
            "\u001b[34m\u001b[1mval: \u001b[0m/content/Data-medical/val/Vitiligo/10704.jpeg: corrupt JPEG restored and saved\n",
            "\u001b[34m\u001b[1mval: \u001b[0m/content/Data-medical/val/Vitiligo/10707.jpeg: corrupt JPEG restored and saved\n",
            "\u001b[34m\u001b[1mval: \u001b[0m/content/Data-medical/val/Vitiligo/20220830_102726.jpg: corrupt JPEG restored and saved\n",
            "\u001b[34m\u001b[1mval: \u001b[0m/content/Data-medical/val/Vitiligo/27961tn.jpg: corrupt JPEG restored and saved\n",
            "\u001b[34m\u001b[1mval: \u001b[0m/content/Data-medical/val/Vitiligo/IMG-20241120-WA0051.jpg: corrupt JPEG restored and saved\n",
            "\u001b[34m\u001b[1mval: \u001b[0m/content/Data-medical/val/Vitiligo/IMG-20241120-WA0067.jpg: corrupt JPEG restored and saved\n",
            "\u001b[34m\u001b[1mval: \u001b[0m/content/Data-medical/val/Vitiligo/IMG-20241120-WA0072.jpg: corrupt JPEG restored and saved\n",
            "\u001b[34m\u001b[1mval: \u001b[0m/content/Data-medical/val/Vitiligo/IMG-20241120-WA0082.jpg: corrupt JPEG restored and saved\n",
            "\u001b[34m\u001b[1mval: \u001b[0m/content/Data-medical/val/Vitiligo/IMG20230831111441.jpg: corrupt JPEG restored and saved\n",
            "\u001b[34m\u001b[1mval: \u001b[0m/content/Data-medical/val/Vitiligo/Vitiligo-treatment-kudasan-gandhinagar-best-doctor.jpg: corrupt JPEG restored and saved\n",
            "\u001b[34m\u001b[1mval: \u001b[0m/content/Data-medical/val/Vitiligo/iStock-1332262928-1.jpg: corrupt JPEG restored and saved\n",
            "\u001b[34m\u001b[1mval: \u001b[0m/content/Data-medical/val/Vitiligo/ijdvl_2012_78_6_715_102362_f6.jpg: corrupt JPEG restored and saved\n",
            "\u001b[34m\u001b[1mval: \u001b[0m/content/Data-medical/val/Vitiligo/istockphoto-1332871830-612x612.jpg: corrupt JPEG restored and saved\n",
            "\u001b[34m\u001b[1mval: \u001b[0m/content/Data-medical/val/Vitiligo/roi370.jpg: corrupt JPEG restored and saved\n",
            "\u001b[34m\u001b[1mval: \u001b[0m/content/Data-medical/val/Vitiligo/roi371.jpg: corrupt JPEG restored and saved\n",
            "\u001b[34m\u001b[1mval: \u001b[0m/content/Data-medical/val/Vitiligo/roi373.jpg: corrupt JPEG restored and saved\n",
            "\u001b[34m\u001b[1mval: \u001b[0m/content/Data-medical/val/Vitiligo/roi399.jpg: corrupt JPEG restored and saved\n",
            "\u001b[34m\u001b[1mval: \u001b[0m/content/Data-medical/val/Wart/1-s2.0-S1578219016301329-gr1.jpg: corrupt JPEG restored and saved\n",
            "\u001b[34m\u001b[1mval: \u001b[0m/content/Data-medical/val/Wart/2317642.jpg: corrupt JPEG restored and saved\n",
            "\u001b[34m\u001b[1mval: \u001b[0m/content/Data-medical/val/Wart/IMG-20250312-WA0020.jpg: corrupt JPEG restored and saved\n",
            "\u001b[34m\u001b[1mval: \u001b[0m/content/Data-medical/val/Wart/Screenshot_20250305_151049_Gallery.jpg: corrupt JPEG restored and saved\n",
            "\u001b[34m\u001b[1mval: \u001b[0m/content/Data-medical/val/Wart/aee79b43-4bc4-43c4-a733-2907f3388282.jpg: corrupt JPEG restored and saved\n",
            "\u001b[34m\u001b[1mval: \u001b[0m/content/Data-medical/val/Wart/after-slider1.jpg: corrupt JPEG restored and saved\n",
            "\u001b[34m\u001b[1mval: \u001b[0m/content/Data-medical/val/Wart/c0168260-800px-wm.jpg: corrupt JPEG restored and saved\n",
            "\u001b[34m\u001b[1mval: \u001b[0m/content/Data-medical/val/Wart/c0478506-800px-wm.jpg: corrupt JPEG restored and saved\n",
            "\u001b[34m\u001b[1mval: \u001b[0m/content/Data-medical/val/Wart/commonWartVerrucaVulgaris_29476_lg.jpg: corrupt JPEG restored and saved\n",
            "\u001b[34m\u001b[1mval: \u001b[0m/content/Data-medical/val/Wart/dijg_a_12168545_f0003_c (1).jpg: corrupt JPEG restored and saved\n",
            "\u001b[34m\u001b[1mval: \u001b[0m/content/Data-medical/val/Wart/periungual-warts.jpg: corrupt JPEG restored and saved\n",
            "\u001b[34m\u001b[1mval: \u001b[0m/content/Data-medical/val/Wart/viral-wart-04.jpg: corrupt JPEG restored and saved\n",
            "\u001b[34m\u001b[1mval: \u001b[0m/content/Data-medical/val/Wart/viral-wart-18.jpg: corrupt JPEG restored and saved\n",
            "\u001b[34m\u001b[1mval: \u001b[0m/content/Data-medical/val/Wart/viral-wart-19.jpg: corrupt JPEG restored and saved\n",
            "\u001b[34m\u001b[1mval: \u001b[0m/content/Data-medical/val/Wart/wart22.jpg: corrupt JPEG restored and saved\n",
            "\u001b[34m\u001b[1mval: \u001b[0m/content/Data-medical/val/Wart/wart26.jpg: corrupt JPEG restored and saved\n",
            "\u001b[34m\u001b[1mval: \u001b[0mNew cache created: /content/Data-medical/val.cache\n"
          ]
        },
        {
          "metadata": {
            "tags": null
          },
          "name": "stderr",
          "output_type": "stream",
          "text": [
            "\n"
          ]
        },
        {
          "metadata": {
            "tags": null
          },
          "name": "stdout",
          "output_type": "stream",
          "text": [
            "\u001b[34m\u001b[1moptimizer:\u001b[0m 'optimizer=auto' found, ignoring 'lr0=0.01' and 'momentum=0.937' and determining best 'optimizer', 'lr0' and 'momentum' automatically... \n",
            "\u001b[34m\u001b[1moptimizer:\u001b[0m SGD(lr=0.01, momentum=0.9) with parameter groups 38 weight(decay=0.0), 39 weight(decay=0.0005), 39 bias(decay=0.0)\n",
            "Image sizes 224 train, 224 val\n",
            "Using 8 dataloader workers\n",
            "Logging results to \u001b[1mruns/classify/train\u001b[0m\n",
            "Starting training for 100 epochs...\n",
            "\n",
            "      Epoch    GPU_mem       loss  Instances       Size\n"
          ]
        },
        {
          "metadata": {
            "tags": null
          },
          "name": "stderr",
          "output_type": "stream",
          "text": [
            "      1/100     0.834G      6.196         16        224:   3%|▎         | 14/523 [00:01<00:57,  8.83it/s]"
          ]
        },
        {
          "metadata": {
            "tags": null
          },
          "name": "stdout",
          "output_type": "stream",
          "text": [
            "Downloading https://ultralytics.com/assets/Arial.ttf to '/root/.config/Ultralytics/Arial.ttf'...\n"
          ]
        },
        {
          "metadata": {
            "tags": null
          },
          "name": "stderr",
          "output_type": "stream",
          "text": [
            "      1/100     0.834G      6.138         16        224:   4%|▍         | 21/523 [00:03<01:14,  6.77it/s]\n",
            "100%|██████████| 755k/755k [00:00<00:00, 47.4MB/s]\n",
            "      1/100     0.861G       1.85         12        224: 100%|██████████| 523/523 [00:59<00:00,  8.82it/s]\n",
            "               classes   top1_acc   top5_acc: 100%|██████████| 9/9 [00:00<00:00, 19.11it/s]"
          ]
        },
        {
          "metadata": {
            "tags": null
          },
          "name": "stdout",
          "output_type": "stream",
          "text": [
            "                   all      0.881      0.996\n"
          ]
        },
        {
          "metadata": {
            "tags": null
          },
          "name": "stderr",
          "output_type": "stream",
          "text": [
            "\n"
          ]
        },
        {
          "metadata": {
            "tags": null
          },
          "name": "stdout",
          "output_type": "stream",
          "text": [
            "\n",
            "      Epoch    GPU_mem       loss  Instances       Size\n"
          ]
        },
        {
          "metadata": {
            "tags": null
          },
          "name": "stderr",
          "output_type": "stream",
          "text": [
            "      2/100     0.936G     0.7029         12        224: 100%|██████████| 523/523 [00:57<00:00,  9.09it/s]\n",
            "               classes   top1_acc   top5_acc: 100%|██████████| 9/9 [00:00<00:00, 48.32it/s]\n"
          ]
        },
        {
          "metadata": {
            "tags": null
          },
          "name": "stdout",
          "output_type": "stream",
          "text": [
            "                   all       0.87      0.989\n",
            "\n",
            "      Epoch    GPU_mem       loss  Instances       Size\n"
          ]
        },
        {
          "metadata": {
            "tags": null
          },
          "name": "stderr",
          "output_type": "stream",
          "text": [
            "      3/100     0.955G     0.6318         12        224: 100%|██████████| 523/523 [00:56<00:00,  9.20it/s]\n",
            "               classes   top1_acc   top5_acc: 100%|██████████| 9/9 [00:00<00:00, 64.97it/s]"
          ]
        },
        {
          "metadata": {
            "tags": null
          },
          "name": "stdout",
          "output_type": "stream",
          "text": [
            "                   all      0.797      0.992\n"
          ]
        },
        {
          "metadata": {
            "tags": null
          },
          "name": "stderr",
          "output_type": "stream",
          "text": [
            "\n"
          ]
        },
        {
          "metadata": {
            "tags": null
          },
          "name": "stdout",
          "output_type": "stream",
          "text": [
            "\n",
            "      Epoch    GPU_mem       loss  Instances       Size\n"
          ]
        },
        {
          "metadata": {
            "tags": null
          },
          "name": "stderr",
          "output_type": "stream",
          "text": [
            "      4/100      1.06G     0.6558         12        224: 100%|██████████| 523/523 [00:56<00:00,  9.19it/s]\n",
            "               classes   top1_acc   top5_acc: 100%|██████████| 9/9 [00:00<00:00, 43.46it/s]"
          ]
        },
        {
          "metadata": {
            "tags": null
          },
          "name": "stdout",
          "output_type": "stream",
          "text": [
            "                   all      0.889          1\n"
          ]
        },
        {
          "metadata": {
            "tags": null
          },
          "name": "stderr",
          "output_type": "stream",
          "text": [
            "\n"
          ]
        },
        {
          "metadata": {
            "tags": null
          },
          "name": "stdout",
          "output_type": "stream",
          "text": [
            "\n",
            "      Epoch    GPU_mem       loss  Instances       Size\n"
          ]
        },
        {
          "metadata": {
            "tags": null
          },
          "name": "stderr",
          "output_type": "stream",
          "text": [
            "      5/100      1.08G     0.5793         12        224: 100%|██████████| 523/523 [00:56<00:00,  9.27it/s]\n",
            "               classes   top1_acc   top5_acc: 100%|██████████| 9/9 [00:00<00:00, 53.30it/s]\n"
          ]
        },
        {
          "metadata": {
            "tags": null
          },
          "name": "stdout",
          "output_type": "stream",
          "text": [
            "                   all      0.858      0.996\n",
            "\n",
            "      Epoch    GPU_mem       loss  Instances       Size\n"
          ]
        },
        {
          "metadata": {
            "tags": null
          },
          "name": "stderr",
          "output_type": "stream",
          "text": [
            "      6/100      1.12G     0.4992         12        224: 100%|██████████| 523/523 [00:56<00:00,  9.31it/s]\n",
            "               classes   top1_acc   top5_acc: 100%|██████████| 9/9 [00:00<00:00, 38.08it/s]"
          ]
        },
        {
          "metadata": {
            "tags": null
          },
          "name": "stdout",
          "output_type": "stream",
          "text": [
            "                   all       0.82      0.989\n"
          ]
        },
        {
          "metadata": {
            "tags": null
          },
          "name": "stderr",
          "output_type": "stream",
          "text": [
            "\n"
          ]
        },
        {
          "metadata": {
            "tags": null
          },
          "name": "stdout",
          "output_type": "stream",
          "text": [
            "\n",
            "      Epoch    GPU_mem       loss  Instances       Size\n"
          ]
        },
        {
          "metadata": {
            "tags": null
          },
          "name": "stderr",
          "output_type": "stream",
          "text": [
            "      7/100      1.17G     0.4668         12        224: 100%|██████████| 523/523 [00:57<00:00,  9.13it/s]\n",
            "               classes   top1_acc   top5_acc: 100%|██████████| 9/9 [00:00<00:00, 50.87it/s]"
          ]
        },
        {
          "metadata": {
            "tags": null
          },
          "name": "stdout",
          "output_type": "stream",
          "text": [
            "                   all      0.843          1\n"
          ]
        },
        {
          "metadata": {
            "tags": null
          },
          "name": "stderr",
          "output_type": "stream",
          "text": [
            "\n"
          ]
        },
        {
          "metadata": {
            "tags": null
          },
          "name": "stdout",
          "output_type": "stream",
          "text": [
            "\n",
            "      Epoch    GPU_mem       loss  Instances       Size\n"
          ]
        },
        {
          "metadata": {
            "tags": null
          },
          "name": "stderr",
          "output_type": "stream",
          "text": [
            "      8/100      1.28G     0.4107         12        224: 100%|██████████| 523/523 [00:57<00:00,  9.06it/s]\n",
            "               classes   top1_acc   top5_acc: 100%|██████████| 9/9 [00:00<00:00, 40.84it/s]"
          ]
        },
        {
          "metadata": {
            "tags": null
          },
          "name": "stdout",
          "output_type": "stream",
          "text": [
            "                   all      0.862          1\n"
          ]
        },
        {
          "metadata": {
            "tags": null
          },
          "name": "stderr",
          "output_type": "stream",
          "text": [
            "\n"
          ]
        },
        {
          "metadata": {
            "tags": null
          },
          "name": "stdout",
          "output_type": "stream",
          "text": [
            "\n",
            "      Epoch    GPU_mem       loss  Instances       Size\n"
          ]
        },
        {
          "metadata": {
            "tags": null
          },
          "name": "stderr",
          "output_type": "stream",
          "text": [
            "      9/100      1.39G     0.3654         12        224: 100%|██████████| 523/523 [00:56<00:00,  9.30it/s]\n",
            "               classes   top1_acc   top5_acc: 100%|██████████| 9/9 [00:00<00:00, 62.65it/s]"
          ]
        },
        {
          "metadata": {
            "tags": null
          },
          "name": "stdout",
          "output_type": "stream",
          "text": [
            "                   all      0.858          1\n"
          ]
        },
        {
          "metadata": {
            "tags": null
          },
          "name": "stderr",
          "output_type": "stream",
          "text": [
            "\n"
          ]
        },
        {
          "metadata": {
            "tags": null
          },
          "name": "stdout",
          "output_type": "stream",
          "text": [
            "\n",
            "      Epoch    GPU_mem       loss  Instances       Size\n"
          ]
        },
        {
          "metadata": {
            "tags": null
          },
          "name": "stderr",
          "output_type": "stream",
          "text": [
            "     10/100      1.41G     0.3432         12        224: 100%|██████████| 523/523 [00:58<00:00,  9.01it/s]\n",
            "               classes   top1_acc   top5_acc: 100%|██████████| 9/9 [00:00<00:00, 47.15it/s]"
          ]
        },
        {
          "metadata": {
            "tags": null
          },
          "name": "stdout",
          "output_type": "stream",
          "text": [
            "                   all      0.874      0.996\n"
          ]
        },
        {
          "metadata": {
            "tags": null
          },
          "name": "stderr",
          "output_type": "stream",
          "text": [
            "\n"
          ]
        },
        {
          "metadata": {
            "tags": null
          },
          "name": "stdout",
          "output_type": "stream",
          "text": [
            "\n",
            "      Epoch    GPU_mem       loss  Instances       Size\n"
          ]
        },
        {
          "metadata": {
            "tags": null
          },
          "name": "stderr",
          "output_type": "stream",
          "text": [
            "     11/100      1.42G     0.3214         12        224: 100%|██████████| 523/523 [00:57<00:00,  9.16it/s]\n",
            "               classes   top1_acc   top5_acc: 100%|██████████| 9/9 [00:00<00:00, 57.49it/s]"
          ]
        },
        {
          "metadata": {
            "tags": null
          },
          "name": "stdout",
          "output_type": "stream",
          "text": [
            "                   all      0.916          1\n"
          ]
        },
        {
          "metadata": {
            "tags": null
          },
          "name": "stderr",
          "output_type": "stream",
          "text": [
            "\n"
          ]
        },
        {
          "metadata": {
            "tags": null
          },
          "name": "stdout",
          "output_type": "stream",
          "text": [
            "\n",
            "      Epoch    GPU_mem       loss  Instances       Size\n"
          ]
        },
        {
          "metadata": {
            "tags": null
          },
          "name": "stderr",
          "output_type": "stream",
          "text": [
            "     12/100      1.52G     0.2918         12        224: 100%|██████████| 523/523 [00:57<00:00,  9.12it/s]\n",
            "               classes   top1_acc   top5_acc: 100%|██████████| 9/9 [00:00<00:00, 43.69it/s]"
          ]
        },
        {
          "metadata": {
            "tags": null
          },
          "name": "stdout",
          "output_type": "stream",
          "text": [
            "                   all      0.904      0.996\n"
          ]
        },
        {
          "metadata": {
            "tags": null
          },
          "name": "stderr",
          "output_type": "stream",
          "text": [
            "\n"
          ]
        },
        {
          "metadata": {
            "tags": null
          },
          "name": "stdout",
          "output_type": "stream",
          "text": [
            "\n",
            "      Epoch    GPU_mem       loss  Instances       Size\n"
          ]
        },
        {
          "metadata": {
            "tags": null
          },
          "name": "stderr",
          "output_type": "stream",
          "text": [
            "     13/100      1.55G     0.3026         12        224: 100%|██████████| 523/523 [00:59<00:00,  8.80it/s]\n",
            "               classes   top1_acc   top5_acc: 100%|██████████| 9/9 [00:00<00:00, 34.29it/s]"
          ]
        },
        {
          "metadata": {
            "tags": null
          },
          "name": "stdout",
          "output_type": "stream",
          "text": [
            "                   all      0.885      0.996\n"
          ]
        },
        {
          "metadata": {
            "tags": null
          },
          "name": "stderr",
          "output_type": "stream",
          "text": [
            "\n"
          ]
        },
        {
          "metadata": {
            "tags": null
          },
          "name": "stdout",
          "output_type": "stream",
          "text": [
            "\n",
            "      Epoch    GPU_mem       loss  Instances       Size\n"
          ]
        },
        {
          "metadata": {
            "tags": null
          },
          "name": "stderr",
          "output_type": "stream",
          "text": [
            "     14/100      1.61G     0.2643         12        224: 100%|██████████| 523/523 [00:57<00:00,  9.12it/s]\n",
            "               classes   top1_acc   top5_acc: 100%|██████████| 9/9 [00:00<00:00, 48.25it/s]\n"
          ]
        },
        {
          "metadata": {
            "tags": null
          },
          "name": "stdout",
          "output_type": "stream",
          "text": [
            "                   all      0.877          1\n",
            "\n",
            "      Epoch    GPU_mem       loss  Instances       Size\n"
          ]
        },
        {
          "metadata": {
            "tags": null
          },
          "name": "stderr",
          "output_type": "stream",
          "text": [
            "     15/100      1.66G     0.2568         12        224: 100%|██████████| 523/523 [00:56<00:00,  9.21it/s]\n",
            "               classes   top1_acc   top5_acc: 100%|██████████| 9/9 [00:00<00:00, 35.35it/s]"
          ]
        },
        {
          "metadata": {
            "tags": null
          },
          "name": "stdout",
          "output_type": "stream",
          "text": [
            "                   all      0.851          1\n"
          ]
        },
        {
          "metadata": {
            "tags": null
          },
          "name": "stderr",
          "output_type": "stream",
          "text": [
            "\n"
          ]
        },
        {
          "metadata": {
            "tags": null
          },
          "name": "stdout",
          "output_type": "stream",
          "text": [
            "\n",
            "      Epoch    GPU_mem       loss  Instances       Size\n"
          ]
        },
        {
          "metadata": {
            "tags": null
          },
          "name": "stderr",
          "output_type": "stream",
          "text": [
            "     16/100      1.77G     0.2454         12        224: 100%|██████████| 523/523 [00:57<00:00,  9.15it/s]\n",
            "               classes   top1_acc   top5_acc: 100%|██████████| 9/9 [00:00<00:00, 34.48it/s]"
          ]
        },
        {
          "metadata": {
            "tags": null
          },
          "name": "stdout",
          "output_type": "stream",
          "text": [
            "                   all      0.889          1\n"
          ]
        },
        {
          "metadata": {
            "tags": null
          },
          "name": "stderr",
          "output_type": "stream",
          "text": [
            "\n"
          ]
        },
        {
          "metadata": {
            "tags": null
          },
          "name": "stdout",
          "output_type": "stream",
          "text": [
            "\n",
            "      Epoch    GPU_mem       loss  Instances       Size\n"
          ]
        },
        {
          "metadata": {
            "tags": null
          },
          "name": "stderr",
          "output_type": "stream",
          "text": [
            "     17/100       1.8G     0.2294         12        224: 100%|██████████| 523/523 [00:57<00:00,  9.14it/s]\n",
            "               classes   top1_acc   top5_acc: 100%|██████████| 9/9 [00:00<00:00, 63.32it/s]"
          ]
        },
        {
          "metadata": {
            "tags": null
          },
          "name": "stdout",
          "output_type": "stream",
          "text": [
            "                   all      0.893      0.996\n"
          ]
        },
        {
          "metadata": {
            "tags": null
          },
          "name": "stderr",
          "output_type": "stream",
          "text": [
            "\n"
          ]
        },
        {
          "metadata": {
            "tags": null
          },
          "name": "stdout",
          "output_type": "stream",
          "text": [
            "\n",
            "      Epoch    GPU_mem       loss  Instances       Size\n"
          ]
        },
        {
          "metadata": {
            "tags": null
          },
          "name": "stderr",
          "output_type": "stream",
          "text": [
            "     18/100      1.87G     0.2278         12        224: 100%|██████████| 523/523 [00:56<00:00,  9.22it/s]\n",
            "               classes   top1_acc   top5_acc: 100%|██████████| 9/9 [00:00<00:00, 65.62it/s]"
          ]
        },
        {
          "metadata": {
            "tags": null
          },
          "name": "stdout",
          "output_type": "stream",
          "text": [
            "                   all      0.843      0.996\n"
          ]
        },
        {
          "metadata": {
            "tags": null
          },
          "name": "stderr",
          "output_type": "stream",
          "text": [
            "\n"
          ]
        },
        {
          "metadata": {
            "tags": null
          },
          "name": "stdout",
          "output_type": "stream",
          "text": [
            "\n",
            "      Epoch    GPU_mem       loss  Instances       Size\n"
          ]
        },
        {
          "metadata": {
            "tags": null
          },
          "name": "stderr",
          "output_type": "stream",
          "text": [
            "     19/100      1.92G     0.2255         12        224: 100%|██████████| 523/523 [00:58<00:00,  8.89it/s]\n",
            "               classes   top1_acc   top5_acc: 100%|██████████| 9/9 [00:00<00:00, 57.79it/s]"
          ]
        },
        {
          "metadata": {
            "tags": null
          },
          "name": "stdout",
          "output_type": "stream",
          "text": [
            "                   all      0.866      0.996\n"
          ]
        },
        {
          "metadata": {
            "tags": null
          },
          "name": "stderr",
          "output_type": "stream",
          "text": [
            "\n"
          ]
        },
        {
          "metadata": {
            "tags": null
          },
          "name": "stdout",
          "output_type": "stream",
          "text": [
            "\n",
            "      Epoch    GPU_mem       loss  Instances       Size\n"
          ]
        },
        {
          "metadata": {
            "tags": null
          },
          "name": "stderr",
          "output_type": "stream",
          "text": [
            "     20/100      1.98G     0.2122         12        224: 100%|██████████| 523/523 [00:57<00:00,  9.10it/s]\n",
            "               classes   top1_acc   top5_acc: 100%|██████████| 9/9 [00:00<00:00, 35.47it/s]"
          ]
        },
        {
          "metadata": {
            "tags": null
          },
          "name": "stdout",
          "output_type": "stream",
          "text": [
            "                   all      0.881          1\n"
          ]
        },
        {
          "metadata": {
            "tags": null
          },
          "name": "stderr",
          "output_type": "stream",
          "text": [
            "\n"
          ]
        },
        {
          "metadata": {
            "tags": null
          },
          "name": "stdout",
          "output_type": "stream",
          "text": [
            "\n",
            "      Epoch    GPU_mem       loss  Instances       Size\n"
          ]
        },
        {
          "metadata": {
            "tags": null
          },
          "name": "stderr",
          "output_type": "stream",
          "text": [
            "     21/100      2.04G     0.1961         12        224: 100%|██████████| 523/523 [00:57<00:00,  9.14it/s]\n",
            "               classes   top1_acc   top5_acc: 100%|██████████| 9/9 [00:00<00:00, 28.66it/s]"
          ]
        },
        {
          "metadata": {
            "tags": null
          },
          "name": "stdout",
          "output_type": "stream",
          "text": [
            "                   all      0.881          1\n"
          ]
        },
        {
          "metadata": {
            "tags": null
          },
          "name": "stderr",
          "output_type": "stream",
          "text": [
            "\n"
          ]
        },
        {
          "metadata": {
            "tags": null
          },
          "name": "stdout",
          "output_type": "stream",
          "text": [
            "\n",
            "      Epoch    GPU_mem       loss  Instances       Size\n"
          ]
        },
        {
          "metadata": {
            "tags": null
          },
          "name": "stderr",
          "output_type": "stream",
          "text": [
            "     22/100       2.1G     0.1969         12        224: 100%|██████████| 523/523 [00:58<00:00,  9.00it/s]\n",
            "               classes   top1_acc   top5_acc: 100%|██████████| 9/9 [00:00<00:00, 66.19it/s]"
          ]
        },
        {
          "metadata": {
            "tags": null
          },
          "name": "stdout",
          "output_type": "stream",
          "text": [
            "                   all        0.9          1\n"
          ]
        },
        {
          "metadata": {
            "tags": null
          },
          "name": "stderr",
          "output_type": "stream",
          "text": [
            "\n"
          ]
        },
        {
          "metadata": {
            "tags": null
          },
          "name": "stdout",
          "output_type": "stream",
          "text": [
            "\n",
            "      Epoch    GPU_mem       loss  Instances       Size\n"
          ]
        },
        {
          "metadata": {
            "tags": null
          },
          "name": "stderr",
          "output_type": "stream",
          "text": [
            "     23/100      2.16G     0.1816         12        224: 100%|██████████| 523/523 [00:56<00:00,  9.26it/s]\n",
            "               classes   top1_acc   top5_acc: 100%|██████████| 9/9 [00:00<00:00, 51.45it/s]"
          ]
        },
        {
          "metadata": {
            "tags": null
          },
          "name": "stdout",
          "output_type": "stream",
          "text": [
            "                   all      0.897          1\n"
          ]
        },
        {
          "metadata": {
            "tags": null
          },
          "name": "stderr",
          "output_type": "stream",
          "text": [
            "\n"
          ]
        },
        {
          "metadata": {
            "tags": null
          },
          "name": "stdout",
          "output_type": "stream",
          "text": [
            "\n",
            "      Epoch    GPU_mem       loss  Instances       Size\n"
          ]
        },
        {
          "metadata": {
            "tags": null
          },
          "name": "stderr",
          "output_type": "stream",
          "text": [
            "     24/100      2.23G     0.1848         12        224: 100%|██████████| 523/523 [00:57<00:00,  9.08it/s]\n",
            "               classes   top1_acc   top5_acc: 100%|██████████| 9/9 [00:00<00:00, 42.26it/s]"
          ]
        },
        {
          "metadata": {
            "tags": null
          },
          "name": "stdout",
          "output_type": "stream",
          "text": [
            "                   all      0.889          1\n"
          ]
        },
        {
          "metadata": {
            "tags": null
          },
          "name": "stderr",
          "output_type": "stream",
          "text": [
            "\n"
          ]
        },
        {
          "metadata": {
            "tags": null
          },
          "name": "stdout",
          "output_type": "stream",
          "text": [
            "\n",
            "      Epoch    GPU_mem       loss  Instances       Size\n"
          ]
        },
        {
          "metadata": {
            "tags": null
          },
          "name": "stderr",
          "output_type": "stream",
          "text": [
            "     25/100      2.28G     0.1854         12        224: 100%|██████████| 523/523 [00:58<00:00,  8.93it/s]\n",
            "               classes   top1_acc   top5_acc: 100%|██████████| 9/9 [00:00<00:00, 42.12it/s]"
          ]
        },
        {
          "metadata": {
            "tags": null
          },
          "name": "stdout",
          "output_type": "stream",
          "text": [
            "                   all      0.897          1\n"
          ]
        },
        {
          "metadata": {
            "tags": null
          },
          "name": "stderr",
          "output_type": "stream",
          "text": [
            "\n"
          ]
        },
        {
          "metadata": {
            "tags": null
          },
          "name": "stdout",
          "output_type": "stream",
          "text": [
            "\n",
            "      Epoch    GPU_mem       loss  Instances       Size\n"
          ]
        },
        {
          "metadata": {
            "tags": null
          },
          "name": "stderr",
          "output_type": "stream",
          "text": [
            "     26/100      2.38G     0.1725         12        224: 100%|██████████| 523/523 [00:57<00:00,  9.04it/s]\n",
            "               classes   top1_acc   top5_acc: 100%|██████████| 9/9 [00:00<00:00, 35.93it/s]"
          ]
        },
        {
          "metadata": {
            "tags": null
          },
          "name": "stdout",
          "output_type": "stream",
          "text": [
            "                   all      0.885      0.992\n"
          ]
        },
        {
          "metadata": {
            "tags": null
          },
          "name": "stderr",
          "output_type": "stream",
          "text": [
            "\n"
          ]
        },
        {
          "metadata": {
            "tags": null
          },
          "name": "stdout",
          "output_type": "stream",
          "text": [
            "\n",
            "      Epoch    GPU_mem       loss  Instances       Size\n"
          ]
        },
        {
          "metadata": {
            "tags": null
          },
          "name": "stderr",
          "output_type": "stream",
          "text": [
            "     27/100      2.43G      0.155         12        224: 100%|██████████| 523/523 [00:57<00:00,  9.17it/s]\n",
            "               classes   top1_acc   top5_acc: 100%|██████████| 9/9 [00:00<00:00, 46.21it/s]"
          ]
        },
        {
          "metadata": {
            "tags": null
          },
          "name": "stdout",
          "output_type": "stream",
          "text": [
            "                   all      0.923          1\n"
          ]
        },
        {
          "metadata": {
            "tags": null
          },
          "name": "stderr",
          "output_type": "stream",
          "text": [
            "\n"
          ]
        },
        {
          "metadata": {
            "tags": null
          },
          "name": "stdout",
          "output_type": "stream",
          "text": [
            "\n",
            "      Epoch    GPU_mem       loss  Instances       Size\n"
          ]
        },
        {
          "metadata": {
            "tags": null
          },
          "name": "stderr",
          "output_type": "stream",
          "text": [
            "     28/100      2.54G     0.1677         12        224: 100%|██████████| 523/523 [00:57<00:00,  9.16it/s]\n",
            "               classes   top1_acc   top5_acc: 100%|██████████| 9/9 [00:00<00:00, 67.99it/s]"
          ]
        },
        {
          "metadata": {
            "tags": null
          },
          "name": "stdout",
          "output_type": "stream",
          "text": [
            "                   all      0.912          1\n"
          ]
        },
        {
          "metadata": {
            "tags": null
          },
          "name": "stderr",
          "output_type": "stream",
          "text": [
            "\n"
          ]
        },
        {
          "metadata": {
            "tags": null
          },
          "name": "stdout",
          "output_type": "stream",
          "text": [
            "\n",
            "      Epoch    GPU_mem       loss  Instances       Size\n"
          ]
        },
        {
          "metadata": {
            "tags": null
          },
          "name": "stderr",
          "output_type": "stream",
          "text": [
            "     29/100      2.55G     0.1572         12        224: 100%|██████████| 523/523 [00:56<00:00,  9.18it/s]\n",
            "               classes   top1_acc   top5_acc: 100%|██████████| 9/9 [00:00<00:00, 69.18it/s]"
          ]
        },
        {
          "metadata": {
            "tags": null
          },
          "name": "stdout",
          "output_type": "stream",
          "text": [
            "                   all      0.893          1\n"
          ]
        },
        {
          "metadata": {
            "tags": null
          },
          "name": "stderr",
          "output_type": "stream",
          "text": [
            "\n"
          ]
        },
        {
          "metadata": {
            "tags": null
          },
          "name": "stdout",
          "output_type": "stream",
          "text": [
            "\n",
            "      Epoch    GPU_mem       loss  Instances       Size\n"
          ]
        },
        {
          "metadata": {
            "tags": null
          },
          "name": "stderr",
          "output_type": "stream",
          "text": [
            "     30/100       2.6G      0.144         12        224: 100%|██████████| 523/523 [00:57<00:00,  9.14it/s]\n",
            "               classes   top1_acc   top5_acc: 100%|██████████| 9/9 [00:00<00:00, 37.04it/s]"
          ]
        },
        {
          "metadata": {
            "tags": null
          },
          "name": "stdout",
          "output_type": "stream",
          "text": [
            "                   all      0.908      0.996\n"
          ]
        },
        {
          "metadata": {
            "tags": null
          },
          "name": "stderr",
          "output_type": "stream",
          "text": [
            "\n"
          ]
        },
        {
          "metadata": {
            "tags": null
          },
          "name": "stdout",
          "output_type": "stream",
          "text": [
            "\n",
            "      Epoch    GPU_mem       loss  Instances       Size\n"
          ]
        },
        {
          "metadata": {
            "tags": null
          },
          "name": "stderr",
          "output_type": "stream",
          "text": [
            "     31/100      2.65G      0.138         12        224: 100%|██████████| 523/523 [00:57<00:00,  9.12it/s]\n",
            "               classes   top1_acc   top5_acc: 100%|██████████| 9/9 [00:00<00:00, 63.34it/s]"
          ]
        },
        {
          "metadata": {
            "tags": null
          },
          "name": "stdout",
          "output_type": "stream",
          "text": [
            "                   all      0.939          1\n"
          ]
        },
        {
          "metadata": {
            "tags": null
          },
          "name": "stderr",
          "output_type": "stream",
          "text": [
            "\n"
          ]
        },
        {
          "metadata": {
            "tags": null
          },
          "name": "stdout",
          "output_type": "stream",
          "text": [
            "\n",
            "      Epoch    GPU_mem       loss  Instances       Size\n"
          ]
        },
        {
          "metadata": {
            "tags": null
          },
          "name": "stderr",
          "output_type": "stream",
          "text": [
            "     32/100      2.72G     0.1473         12        224: 100%|██████████| 523/523 [00:55<00:00,  9.35it/s]\n",
            "               classes   top1_acc   top5_acc: 100%|██████████| 9/9 [00:00<00:00, 39.83it/s]"
          ]
        },
        {
          "metadata": {
            "tags": null
          },
          "name": "stdout",
          "output_type": "stream",
          "text": [
            "                   all      0.904      0.996\n"
          ]
        },
        {
          "metadata": {
            "tags": null
          },
          "name": "stderr",
          "output_type": "stream",
          "text": [
            "\n"
          ]
        },
        {
          "metadata": {
            "tags": null
          },
          "name": "stdout",
          "output_type": "stream",
          "text": [
            "\n",
            "      Epoch    GPU_mem       loss  Instances       Size\n"
          ]
        },
        {
          "metadata": {
            "tags": null
          },
          "name": "stderr",
          "output_type": "stream",
          "text": [
            "     33/100      2.79G     0.1494         12        224: 100%|██████████| 523/523 [00:59<00:00,  8.84it/s]\n",
            "               classes   top1_acc   top5_acc: 100%|██████████| 9/9 [00:00<00:00, 71.07it/s]"
          ]
        },
        {
          "metadata": {
            "tags": null
          },
          "name": "stdout",
          "output_type": "stream",
          "text": [
            "                   all      0.881          1\n"
          ]
        },
        {
          "metadata": {
            "tags": null
          },
          "name": "stderr",
          "output_type": "stream",
          "text": [
            "\n"
          ]
        },
        {
          "metadata": {
            "tags": null
          },
          "name": "stdout",
          "output_type": "stream",
          "text": [
            "\n",
            "      Epoch    GPU_mem       loss  Instances       Size\n"
          ]
        },
        {
          "metadata": {
            "tags": null
          },
          "name": "stderr",
          "output_type": "stream",
          "text": [
            "     34/100      2.87G     0.1404         12        224: 100%|██████████| 523/523 [00:57<00:00,  9.08it/s]\n",
            "               classes   top1_acc   top5_acc: 100%|██████████| 9/9 [00:00<00:00, 37.39it/s]"
          ]
        },
        {
          "metadata": {
            "tags": null
          },
          "name": "stdout",
          "output_type": "stream",
          "text": [
            "                   all      0.881          1\n"
          ]
        },
        {
          "metadata": {
            "tags": null
          },
          "name": "stderr",
          "output_type": "stream",
          "text": [
            "\n"
          ]
        },
        {
          "metadata": {
            "tags": null
          },
          "name": "stdout",
          "output_type": "stream",
          "text": [
            "\n",
            "      Epoch    GPU_mem       loss  Instances       Size\n"
          ]
        },
        {
          "metadata": {
            "tags": null
          },
          "name": "stderr",
          "output_type": "stream",
          "text": [
            "     35/100       2.9G     0.1305         12        224: 100%|██████████| 523/523 [00:55<00:00,  9.43it/s]\n",
            "               classes   top1_acc   top5_acc: 100%|██████████| 9/9 [00:00<00:00, 32.32it/s]"
          ]
        },
        {
          "metadata": {
            "tags": null
          },
          "name": "stdout",
          "output_type": "stream",
          "text": [
            "                   all       0.92          1\n"
          ]
        },
        {
          "metadata": {
            "tags": null
          },
          "name": "stderr",
          "output_type": "stream",
          "text": [
            "\n"
          ]
        },
        {
          "metadata": {
            "tags": null
          },
          "name": "stdout",
          "output_type": "stream",
          "text": [
            "\n",
            "      Epoch    GPU_mem       loss  Instances       Size\n"
          ]
        },
        {
          "metadata": {
            "tags": null
          },
          "name": "stderr",
          "output_type": "stream",
          "text": [
            "     36/100      2.98G     0.1248         12        224: 100%|██████████| 523/523 [00:57<00:00,  9.10it/s]\n",
            "               classes   top1_acc   top5_acc: 100%|██████████| 9/9 [00:00<00:00, 46.91it/s]"
          ]
        },
        {
          "metadata": {
            "tags": null
          },
          "name": "stdout",
          "output_type": "stream",
          "text": [
            "                   all      0.908          1\n"
          ]
        },
        {
          "metadata": {
            "tags": null
          },
          "name": "stderr",
          "output_type": "stream",
          "text": [
            "\n"
          ]
        },
        {
          "metadata": {
            "tags": null
          },
          "name": "stdout",
          "output_type": "stream",
          "text": [
            "\n",
            "      Epoch    GPU_mem       loss  Instances       Size\n"
          ]
        },
        {
          "metadata": {
            "tags": null
          },
          "name": "stderr",
          "output_type": "stream",
          "text": [
            "     37/100      3.08G     0.1332         12        224: 100%|██████████| 523/523 [00:58<00:00,  8.94it/s]\n",
            "               classes   top1_acc   top5_acc: 100%|██████████| 9/9 [00:00<00:00, 48.39it/s]\n"
          ]
        },
        {
          "metadata": {
            "tags": null
          },
          "name": "stdout",
          "output_type": "stream",
          "text": [
            "                   all      0.885      0.996\n",
            "\n",
            "      Epoch    GPU_mem       loss  Instances       Size\n"
          ]
        },
        {
          "metadata": {
            "tags": null
          },
          "name": "stderr",
          "output_type": "stream",
          "text": [
            "     38/100       3.1G     0.1289         12        224: 100%|██████████| 523/523 [00:57<00:00,  9.05it/s]\n",
            "               classes   top1_acc   top5_acc: 100%|██████████| 9/9 [00:00<00:00, 61.17it/s]"
          ]
        },
        {
          "metadata": {
            "tags": null
          },
          "name": "stdout",
          "output_type": "stream",
          "text": [
            "                   all       0.92      0.996\n"
          ]
        },
        {
          "metadata": {
            "tags": null
          },
          "name": "stderr",
          "output_type": "stream",
          "text": [
            "\n"
          ]
        },
        {
          "metadata": {
            "tags": null
          },
          "name": "stdout",
          "output_type": "stream",
          "text": [
            "\n",
            "      Epoch    GPU_mem       loss  Instances       Size\n"
          ]
        },
        {
          "metadata": {
            "tags": null
          },
          "name": "stderr",
          "output_type": "stream",
          "text": [
            "     39/100      3.14G     0.1189         12        224: 100%|██████████| 523/523 [00:57<00:00,  9.09it/s]\n",
            "               classes   top1_acc   top5_acc: 100%|██████████| 9/9 [00:00<00:00, 52.72it/s]"
          ]
        },
        {
          "metadata": {
            "tags": null
          },
          "name": "stdout",
          "output_type": "stream",
          "text": [
            "                   all      0.904          1\n"
          ]
        },
        {
          "metadata": {
            "tags": null
          },
          "name": "stderr",
          "output_type": "stream",
          "text": [
            "\n"
          ]
        },
        {
          "metadata": {
            "tags": null
          },
          "name": "stdout",
          "output_type": "stream",
          "text": [
            "\n",
            "      Epoch    GPU_mem       loss  Instances       Size\n"
          ]
        },
        {
          "metadata": {
            "tags": null
          },
          "name": "stderr",
          "output_type": "stream",
          "text": [
            "     40/100      3.25G     0.1204         12        224: 100%|██████████| 523/523 [00:57<00:00,  9.09it/s]\n",
            "               classes   top1_acc   top5_acc: 100%|██████████| 9/9 [00:00<00:00, 40.11it/s]"
          ]
        },
        {
          "metadata": {
            "tags": null
          },
          "name": "stdout",
          "output_type": "stream",
          "text": [
            "                   all        0.9      0.996\n"
          ]
        },
        {
          "metadata": {
            "tags": null
          },
          "name": "stderr",
          "output_type": "stream",
          "text": [
            "\n"
          ]
        },
        {
          "metadata": {
            "tags": null
          },
          "name": "stdout",
          "output_type": "stream",
          "text": [
            "\n",
            "      Epoch    GPU_mem       loss  Instances       Size\n"
          ]
        },
        {
          "metadata": {
            "tags": null
          },
          "name": "stderr",
          "output_type": "stream",
          "text": [
            "     41/100      3.26G     0.1093         12        224: 100%|██████████| 523/523 [00:56<00:00,  9.27it/s]\n",
            "               classes   top1_acc   top5_acc: 100%|██████████| 9/9 [00:00<00:00, 36.39it/s]"
          ]
        },
        {
          "metadata": {
            "tags": null
          },
          "name": "stdout",
          "output_type": "stream",
          "text": [
            "                   all      0.904          1\n"
          ]
        },
        {
          "metadata": {
            "tags": null
          },
          "name": "stderr",
          "output_type": "stream",
          "text": [
            "\n"
          ]
        },
        {
          "metadata": {
            "tags": null
          },
          "name": "stdout",
          "output_type": "stream",
          "text": [
            "\n",
            "      Epoch    GPU_mem       loss  Instances       Size\n"
          ]
        },
        {
          "metadata": {
            "tags": null
          },
          "name": "stderr",
          "output_type": "stream",
          "text": [
            "     42/100      3.32G     0.1142         12        224: 100%|██████████| 523/523 [00:57<00:00,  9.11it/s]\n",
            "               classes   top1_acc   top5_acc: 100%|██████████| 9/9 [00:00<00:00, 59.33it/s]"
          ]
        },
        {
          "metadata": {
            "tags": null
          },
          "name": "stdout",
          "output_type": "stream",
          "text": [
            "                   all      0.877          1\n"
          ]
        },
        {
          "metadata": {
            "tags": null
          },
          "name": "stderr",
          "output_type": "stream",
          "text": [
            "\n"
          ]
        },
        {
          "metadata": {
            "tags": null
          },
          "name": "stdout",
          "output_type": "stream",
          "text": [
            "\n",
            "      Epoch    GPU_mem       loss  Instances       Size\n"
          ]
        },
        {
          "metadata": {
            "tags": null
          },
          "name": "stderr",
          "output_type": "stream",
          "text": [
            "     43/100      3.37G     0.1148         12        224: 100%|██████████| 523/523 [00:57<00:00,  9.11it/s]\n",
            "               classes   top1_acc   top5_acc: 100%|██████████| 9/9 [00:00<00:00, 41.19it/s]"
          ]
        },
        {
          "metadata": {
            "tags": null
          },
          "name": "stdout",
          "output_type": "stream",
          "text": [
            "                   all      0.908          1\n"
          ]
        },
        {
          "metadata": {
            "tags": null
          },
          "name": "stderr",
          "output_type": "stream",
          "text": [
            "\n"
          ]
        },
        {
          "metadata": {
            "tags": null
          },
          "name": "stdout",
          "output_type": "stream",
          "text": [
            "\n",
            "      Epoch    GPU_mem       loss  Instances       Size\n"
          ]
        },
        {
          "metadata": {
            "tags": null
          },
          "name": "stderr",
          "output_type": "stream",
          "text": [
            "     44/100      3.45G     0.1055         12        224: 100%|██████████| 523/523 [00:58<00:00,  8.96it/s]\n",
            "               classes   top1_acc   top5_acc: 100%|██████████| 9/9 [00:00<00:00, 39.08it/s]"
          ]
        },
        {
          "metadata": {
            "tags": null
          },
          "name": "stdout",
          "output_type": "stream",
          "text": [
            "                   all      0.904          1\n"
          ]
        },
        {
          "metadata": {
            "tags": null
          },
          "name": "stderr",
          "output_type": "stream",
          "text": [
            "\n"
          ]
        },
        {
          "metadata": {
            "tags": null
          },
          "name": "stdout",
          "output_type": "stream",
          "text": [
            "\n",
            "      Epoch    GPU_mem       loss  Instances       Size\n"
          ]
        },
        {
          "metadata": {
            "tags": null
          },
          "name": "stderr",
          "output_type": "stream",
          "text": [
            "     45/100      3.51G    0.09764         12        224: 100%|██████████| 523/523 [00:56<00:00,  9.23it/s]\n",
            "               classes   top1_acc   top5_acc: 100%|██████████| 9/9 [00:00<00:00, 49.94it/s]"
          ]
        },
        {
          "metadata": {
            "tags": null
          },
          "name": "stdout",
          "output_type": "stream",
          "text": [
            "                   all      0.897      0.996\n"
          ]
        },
        {
          "metadata": {
            "tags": null
          },
          "name": "stderr",
          "output_type": "stream",
          "text": [
            "\n"
          ]
        },
        {
          "metadata": {
            "tags": null
          },
          "name": "stdout",
          "output_type": "stream",
          "text": [
            "\n",
            "      Epoch    GPU_mem       loss  Instances       Size\n"
          ]
        },
        {
          "metadata": {
            "tags": null
          },
          "name": "stderr",
          "output_type": "stream",
          "text": [
            "     46/100      3.57G    0.09317         12        224: 100%|██████████| 523/523 [00:57<00:00,  9.06it/s]\n",
            "               classes   top1_acc   top5_acc: 100%|██████████| 9/9 [00:00<00:00, 43.86it/s]"
          ]
        },
        {
          "metadata": {
            "tags": null
          },
          "name": "stdout",
          "output_type": "stream",
          "text": [
            "                   all      0.885          1\n"
          ]
        },
        {
          "metadata": {
            "tags": null
          },
          "name": "stderr",
          "output_type": "stream",
          "text": [
            "\n"
          ]
        },
        {
          "metadata": {
            "tags": null
          },
          "name": "stdout",
          "output_type": "stream",
          "text": [
            "\n",
            "      Epoch    GPU_mem       loss  Instances       Size\n"
          ]
        },
        {
          "metadata": {
            "tags": null
          },
          "name": "stderr",
          "output_type": "stream",
          "text": [
            "     47/100      3.62G    0.09758         12        224: 100%|██████████| 523/523 [00:57<00:00,  9.04it/s]\n",
            "               classes   top1_acc   top5_acc: 100%|██████████| 9/9 [00:00<00:00, 58.32it/s]"
          ]
        },
        {
          "metadata": {
            "tags": null
          },
          "name": "stdout",
          "output_type": "stream",
          "text": [
            "                   all        0.9          1\n"
          ]
        },
        {
          "metadata": {
            "tags": null
          },
          "name": "stderr",
          "output_type": "stream",
          "text": [
            "\n"
          ]
        },
        {
          "metadata": {
            "tags": null
          },
          "name": "stdout",
          "output_type": "stream",
          "text": [
            "\n",
            "      Epoch    GPU_mem       loss  Instances       Size\n"
          ]
        },
        {
          "metadata": {
            "tags": null
          },
          "name": "stderr",
          "output_type": "stream",
          "text": [
            "     48/100      3.73G     0.0948         12        224: 100%|██████████| 523/523 [00:56<00:00,  9.19it/s]\n",
            "               classes   top1_acc   top5_acc: 100%|██████████| 9/9 [00:00<00:00, 41.91it/s]"
          ]
        },
        {
          "metadata": {
            "tags": null
          },
          "name": "stdout",
          "output_type": "stream",
          "text": [
            "                   all      0.893          1\n"
          ]
        },
        {
          "metadata": {
            "tags": null
          },
          "name": "stderr",
          "output_type": "stream",
          "text": [
            "\n"
          ]
        },
        {
          "metadata": {
            "tags": null
          },
          "name": "stdout",
          "output_type": "stream",
          "text": [
            "\n",
            "      Epoch    GPU_mem       loss  Instances       Size\n"
          ]
        },
        {
          "metadata": {
            "tags": null
          },
          "name": "stderr",
          "output_type": "stream",
          "text": [
            "     49/100      3.75G    0.09086         12        224: 100%|██████████| 523/523 [00:56<00:00,  9.21it/s]\n",
            "               classes   top1_acc   top5_acc: 100%|██████████| 9/9 [00:00<00:00, 53.70it/s]"
          ]
        },
        {
          "metadata": {
            "tags": null
          },
          "name": "stdout",
          "output_type": "stream",
          "text": [
            "                   all      0.881      0.996\n"
          ]
        },
        {
          "metadata": {
            "tags": null
          },
          "name": "stderr",
          "output_type": "stream",
          "text": [
            "\n"
          ]
        },
        {
          "metadata": {
            "tags": null
          },
          "name": "stdout",
          "output_type": "stream",
          "text": [
            "\n",
            "      Epoch    GPU_mem       loss  Instances       Size\n"
          ]
        },
        {
          "metadata": {
            "tags": null
          },
          "name": "stderr",
          "output_type": "stream",
          "text": [
            "     50/100      3.84G    0.08489         12        224: 100%|██████████| 523/523 [00:58<00:00,  8.94it/s]\n",
            "               classes   top1_acc   top5_acc: 100%|██████████| 9/9 [00:00<00:00, 39.13it/s]"
          ]
        },
        {
          "metadata": {
            "tags": null
          },
          "name": "stdout",
          "output_type": "stream",
          "text": [
            "                   all      0.897          1\n"
          ]
        },
        {
          "metadata": {
            "tags": null
          },
          "name": "stderr",
          "output_type": "stream",
          "text": [
            "\n"
          ]
        },
        {
          "metadata": {
            "tags": null
          },
          "name": "stdout",
          "output_type": "stream",
          "text": [
            "\n",
            "      Epoch    GPU_mem       loss  Instances       Size\n"
          ]
        },
        {
          "metadata": {
            "tags": null
          },
          "name": "stderr",
          "output_type": "stream",
          "text": [
            "     51/100      3.88G    0.08405         12        224: 100%|██████████| 523/523 [00:58<00:00,  9.00it/s]\n",
            "               classes   top1_acc   top5_acc: 100%|██████████| 9/9 [00:00<00:00, 50.83it/s]"
          ]
        },
        {
          "metadata": {
            "tags": null
          },
          "name": "stdout",
          "output_type": "stream",
          "text": [
            "                   all      0.908          1\n"
          ]
        },
        {
          "metadata": {
            "tags": null
          },
          "name": "stderr",
          "output_type": "stream",
          "text": [
            "\n"
          ]
        },
        {
          "metadata": {
            "tags": null
          },
          "name": "stdout",
          "output_type": "stream",
          "text": [
            "\n",
            "      Epoch    GPU_mem       loss  Instances       Size\n"
          ]
        },
        {
          "metadata": {
            "tags": null
          },
          "name": "stderr",
          "output_type": "stream",
          "text": [
            "     52/100      3.99G    0.08557         12        224: 100%|██████████| 523/523 [00:57<00:00,  9.14it/s]\n",
            "               classes   top1_acc   top5_acc: 100%|██████████| 9/9 [00:00<00:00, 44.35it/s]"
          ]
        },
        {
          "metadata": {
            "tags": null
          },
          "name": "stdout",
          "output_type": "stream",
          "text": [
            "                   all        0.9      0.996\n"
          ]
        },
        {
          "metadata": {
            "tags": null
          },
          "name": "stderr",
          "output_type": "stream",
          "text": [
            "\n"
          ]
        },
        {
          "metadata": {
            "tags": null
          },
          "name": "stdout",
          "output_type": "stream",
          "text": [
            "\n",
            "      Epoch    GPU_mem       loss  Instances       Size\n"
          ]
        },
        {
          "metadata": {
            "tags": null
          },
          "name": "stderr",
          "output_type": "stream",
          "text": [
            "     53/100         4G    0.08714         12        224: 100%|██████████| 523/523 [00:58<00:00,  9.00it/s]\n",
            "               classes   top1_acc   top5_acc: 100%|██████████| 9/9 [00:00<00:00, 51.84it/s]"
          ]
        },
        {
          "metadata": {
            "tags": null
          },
          "name": "stdout",
          "output_type": "stream",
          "text": [
            "                   all        0.9      0.996\n"
          ]
        },
        {
          "metadata": {
            "tags": null
          },
          "name": "stderr",
          "output_type": "stream",
          "text": [
            "\n"
          ]
        },
        {
          "metadata": {
            "tags": null
          },
          "name": "stdout",
          "output_type": "stream",
          "text": [
            "\n",
            "      Epoch    GPU_mem       loss  Instances       Size\n"
          ]
        },
        {
          "metadata": {
            "tags": null
          },
          "name": "stderr",
          "output_type": "stream",
          "text": [
            "     54/100      4.06G    0.07866         12        224: 100%|██████████| 523/523 [00:56<00:00,  9.24it/s]\n",
            "               classes   top1_acc   top5_acc: 100%|██████████| 9/9 [00:00<00:00, 42.03it/s]"
          ]
        },
        {
          "metadata": {
            "tags": null
          },
          "name": "stdout",
          "output_type": "stream",
          "text": [
            "                   all      0.908          1\n"
          ]
        },
        {
          "metadata": {
            "tags": null
          },
          "name": "stderr",
          "output_type": "stream",
          "text": [
            "\n"
          ]
        },
        {
          "metadata": {
            "tags": null
          },
          "name": "stdout",
          "output_type": "stream",
          "text": [
            "\n",
            "      Epoch    GPU_mem       loss  Instances       Size\n"
          ]
        },
        {
          "metadata": {
            "tags": null
          },
          "name": "stderr",
          "output_type": "stream",
          "text": [
            "     55/100      4.12G    0.07572         12        224: 100%|██████████| 523/523 [00:56<00:00,  9.20it/s]\n",
            "               classes   top1_acc   top5_acc: 100%|██████████| 9/9 [00:00<00:00, 44.23it/s]"
          ]
        },
        {
          "metadata": {
            "tags": null
          },
          "name": "stdout",
          "output_type": "stream",
          "text": [
            "                   all      0.885          1\n"
          ]
        },
        {
          "metadata": {
            "tags": null
          },
          "name": "stderr",
          "output_type": "stream",
          "text": [
            "\n"
          ]
        },
        {
          "metadata": {
            "tags": null
          },
          "name": "stdout",
          "output_type": "stream",
          "text": [
            "\n",
            "      Epoch    GPU_mem       loss  Instances       Size\n"
          ]
        },
        {
          "metadata": {
            "tags": null
          },
          "name": "stderr",
          "output_type": "stream",
          "text": [
            "     56/100      4.17G     0.0756         12        224: 100%|██████████| 523/523 [00:57<00:00,  9.11it/s]\n",
            "               classes   top1_acc   top5_acc: 100%|██████████| 9/9 [00:00<00:00, 40.10it/s]"
          ]
        },
        {
          "metadata": {
            "tags": null
          },
          "name": "stdout",
          "output_type": "stream",
          "text": [
            "                   all      0.877          1\n"
          ]
        },
        {
          "metadata": {
            "tags": null
          },
          "name": "stderr",
          "output_type": "stream",
          "text": [
            "\n"
          ]
        },
        {
          "metadata": {
            "tags": null
          },
          "name": "stdout",
          "output_type": "stream",
          "text": [
            "\n",
            "      Epoch    GPU_mem       loss  Instances       Size\n"
          ]
        },
        {
          "metadata": {
            "tags": null
          },
          "name": "stderr",
          "output_type": "stream",
          "text": [
            "     57/100      4.28G    0.06938         12        224: 100%|██████████| 523/523 [00:57<00:00,  9.14it/s]\n",
            "               classes   top1_acc   top5_acc: 100%|██████████| 9/9 [00:00<00:00, 45.10it/s]"
          ]
        },
        {
          "metadata": {
            "tags": null
          },
          "name": "stdout",
          "output_type": "stream",
          "text": [
            "                   all      0.897          1\n"
          ]
        },
        {
          "metadata": {
            "tags": null
          },
          "name": "stderr",
          "output_type": "stream",
          "text": [
            "\n"
          ]
        },
        {
          "metadata": {
            "tags": null
          },
          "name": "stdout",
          "output_type": "stream",
          "text": [
            "\n",
            "      Epoch    GPU_mem       loss  Instances       Size\n"
          ]
        },
        {
          "metadata": {
            "tags": null
          },
          "name": "stderr",
          "output_type": "stream",
          "text": [
            "     58/100       4.3G    0.07217         12        224: 100%|██████████| 523/523 [00:57<00:00,  9.09it/s]\n",
            "               classes   top1_acc   top5_acc: 100%|██████████| 9/9 [00:00<00:00, 42.58it/s]"
          ]
        },
        {
          "metadata": {
            "tags": null
          },
          "name": "stdout",
          "output_type": "stream",
          "text": [
            "                   all      0.904      0.996\n"
          ]
        },
        {
          "metadata": {
            "tags": null
          },
          "name": "stderr",
          "output_type": "stream",
          "text": [
            "\n"
          ]
        },
        {
          "metadata": {
            "tags": null
          },
          "name": "stdout",
          "output_type": "stream",
          "text": [
            "\n",
            "      Epoch    GPU_mem       loss  Instances       Size\n"
          ]
        },
        {
          "metadata": {
            "tags": null
          },
          "name": "stderr",
          "output_type": "stream",
          "text": [
            "     59/100      4.37G    0.07148         12        224: 100%|██████████| 523/523 [00:58<00:00,  9.01it/s]\n",
            "               classes   top1_acc   top5_acc: 100%|██████████| 9/9 [00:00<00:00, 39.20it/s]"
          ]
        },
        {
          "metadata": {
            "tags": null
          },
          "name": "stdout",
          "output_type": "stream",
          "text": [
            "                   all        0.9      0.996\n"
          ]
        },
        {
          "metadata": {
            "tags": null
          },
          "name": "stderr",
          "output_type": "stream",
          "text": [
            "\n"
          ]
        },
        {
          "metadata": {
            "tags": null
          },
          "name": "stdout",
          "output_type": "stream",
          "text": [
            "\n",
            "      Epoch    GPU_mem       loss  Instances       Size\n"
          ]
        },
        {
          "metadata": {
            "tags": null
          },
          "name": "stderr",
          "output_type": "stream",
          "text": [
            "     60/100      4.43G    0.06875         12        224: 100%|██████████| 523/523 [00:56<00:00,  9.19it/s]\n",
            "               classes   top1_acc   top5_acc: 100%|██████████| 9/9 [00:00<00:00, 69.69it/s]"
          ]
        },
        {
          "metadata": {
            "tags": null
          },
          "name": "stdout",
          "output_type": "stream",
          "text": [
            "                   all      0.912      0.996\n"
          ]
        },
        {
          "metadata": {
            "tags": null
          },
          "name": "stderr",
          "output_type": "stream",
          "text": [
            "\n"
          ]
        },
        {
          "metadata": {
            "tags": null
          },
          "name": "stdout",
          "output_type": "stream",
          "text": [
            "\n",
            "      Epoch    GPU_mem       loss  Instances       Size\n"
          ]
        },
        {
          "metadata": {
            "tags": null
          },
          "name": "stderr",
          "output_type": "stream",
          "text": [
            "     61/100       4.5G    0.06323         12        224: 100%|██████████| 523/523 [00:58<00:00,  8.93it/s]\n",
            "               classes   top1_acc   top5_acc: 100%|██████████| 9/9 [00:00<00:00, 45.03it/s]"
          ]
        },
        {
          "metadata": {
            "tags": null
          },
          "name": "stdout",
          "output_type": "stream",
          "text": [
            "                   all       0.92          1\n"
          ]
        },
        {
          "metadata": {
            "tags": null
          },
          "name": "stderr",
          "output_type": "stream",
          "text": [
            "\n"
          ]
        },
        {
          "metadata": {
            "tags": null
          },
          "name": "stdout",
          "output_type": "stream",
          "text": [
            "\n",
            "      Epoch    GPU_mem       loss  Instances       Size\n"
          ]
        },
        {
          "metadata": {
            "tags": null
          },
          "name": "stderr",
          "output_type": "stream",
          "text": [
            "     62/100      4.54G    0.06501         12        224: 100%|██████████| 523/523 [00:57<00:00,  9.05it/s]\n",
            "               classes   top1_acc   top5_acc: 100%|██████████| 9/9 [00:00<00:00, 48.07it/s]"
          ]
        },
        {
          "metadata": {
            "tags": null
          },
          "name": "stdout",
          "output_type": "stream",
          "text": [
            "                   all      0.908      0.996\n"
          ]
        },
        {
          "metadata": {
            "tags": null
          },
          "name": "stderr",
          "output_type": "stream",
          "text": [
            "\n"
          ]
        },
        {
          "metadata": {
            "tags": null
          },
          "name": "stdout",
          "output_type": "stream",
          "text": [
            "\n",
            "      Epoch    GPU_mem       loss  Instances       Size\n"
          ]
        },
        {
          "metadata": {
            "tags": null
          },
          "name": "stderr",
          "output_type": "stream",
          "text": [
            "     63/100      4.61G    0.06195         12        224: 100%|██████████| 523/523 [00:57<00:00,  9.10it/s]\n",
            "               classes   top1_acc   top5_acc: 100%|██████████| 9/9 [00:00<00:00, 48.50it/s]\n"
          ]
        },
        {
          "metadata": {
            "tags": null
          },
          "name": "stdout",
          "output_type": "stream",
          "text": [
            "                   all      0.916      0.996\n",
            "\n",
            "      Epoch    GPU_mem       loss  Instances       Size\n"
          ]
        },
        {
          "metadata": {
            "tags": null
          },
          "name": "stderr",
          "output_type": "stream",
          "text": [
            "     64/100      4.67G    0.06799         12        224: 100%|██████████| 523/523 [00:57<00:00,  9.15it/s]\n",
            "               classes   top1_acc   top5_acc: 100%|██████████| 9/9 [00:00<00:00, 37.30it/s]"
          ]
        },
        {
          "metadata": {
            "tags": null
          },
          "name": "stdout",
          "output_type": "stream",
          "text": [
            "                   all      0.916          1\n"
          ]
        },
        {
          "metadata": {
            "tags": null
          },
          "name": "stderr",
          "output_type": "stream",
          "text": [
            "\n"
          ]
        },
        {
          "metadata": {
            "tags": null
          },
          "name": "stdout",
          "output_type": "stream",
          "text": [
            "\n",
            "      Epoch    GPU_mem       loss  Instances       Size\n"
          ]
        },
        {
          "metadata": {
            "tags": null
          },
          "name": "stderr",
          "output_type": "stream",
          "text": [
            "     65/100      4.73G       0.06         12        224: 100%|██████████| 523/523 [00:58<00:00,  8.91it/s]\n",
            "               classes   top1_acc   top5_acc: 100%|██████████| 9/9 [00:00<00:00, 43.28it/s]"
          ]
        },
        {
          "metadata": {
            "tags": null
          },
          "name": "stdout",
          "output_type": "stream",
          "text": [
            "                   all      0.916      0.996\n"
          ]
        },
        {
          "metadata": {
            "tags": null
          },
          "name": "stderr",
          "output_type": "stream",
          "text": [
            "\n"
          ]
        },
        {
          "metadata": {
            "tags": null
          },
          "name": "stdout",
          "output_type": "stream",
          "text": [
            "\n",
            "      Epoch    GPU_mem       loss  Instances       Size\n"
          ]
        },
        {
          "output_type": "stream",
          "name": "stderr",
          "text": [
            "     66/100      4.79G    0.05705         12        224: 100%|██████████| 523/523 [00:57<00:00,  9.13it/s]\n",
            "               classes   top1_acc   top5_acc: 100%|██████████| 9/9 [00:00<00:00, 44.39it/s]"
          ]
        },
        {
          "output_type": "stream",
          "name": "stdout",
          "text": [
            "                   all      0.916      0.996\n"
          ]
        },
        {
          "output_type": "stream",
          "name": "stderr",
          "text": [
            "\n"
          ]
        },
        {
          "output_type": "stream",
          "name": "stdout",
          "text": [
            "\n",
            "      Epoch    GPU_mem       loss  Instances       Size\n"
          ]
        },
        {
          "output_type": "stream",
          "name": "stderr",
          "text": [
            "     67/100      4.85G    0.05264         12        224: 100%|██████████| 523/523 [00:56<00:00,  9.26it/s]\n",
            "               classes   top1_acc   top5_acc: 100%|██████████| 9/9 [00:00<00:00, 44.19it/s]"
          ]
        },
        {
          "output_type": "stream",
          "name": "stdout",
          "text": [
            "                   all      0.927      0.996\n"
          ]
        },
        {
          "output_type": "stream",
          "name": "stderr",
          "text": [
            "\n"
          ]
        },
        {
          "output_type": "stream",
          "name": "stdout",
          "text": [
            "\n",
            "      Epoch    GPU_mem       loss  Instances       Size\n"
          ]
        },
        {
          "output_type": "stream",
          "name": "stderr",
          "text": [
            "     68/100      4.92G    0.05268         12        224: 100%|██████████| 523/523 [00:56<00:00,  9.25it/s]\n",
            "               classes   top1_acc   top5_acc: 100%|██████████| 9/9 [00:00<00:00, 72.49it/s]"
          ]
        },
        {
          "output_type": "stream",
          "name": "stdout",
          "text": [
            "                   all      0.908      0.996\n"
          ]
        },
        {
          "output_type": "stream",
          "name": "stderr",
          "text": [
            "\n"
          ]
        },
        {
          "output_type": "stream",
          "name": "stdout",
          "text": [
            "\n",
            "      Epoch    GPU_mem       loss  Instances       Size\n"
          ]
        },
        {
          "output_type": "stream",
          "name": "stderr",
          "text": [
            "     69/100      4.99G    0.05243         12        224: 100%|██████████| 523/523 [00:56<00:00,  9.22it/s]\n",
            "               classes   top1_acc   top5_acc: 100%|██████████| 9/9 [00:00<00:00, 63.70it/s]"
          ]
        },
        {
          "output_type": "stream",
          "name": "stdout",
          "text": [
            "                   all      0.893      0.996\n"
          ]
        },
        {
          "output_type": "stream",
          "name": "stderr",
          "text": [
            "\n"
          ]
        },
        {
          "output_type": "stream",
          "name": "stdout",
          "text": [
            "\n",
            "      Epoch    GPU_mem       loss  Instances       Size\n"
          ]
        },
        {
          "output_type": "stream",
          "name": "stderr",
          "text": [
            "     70/100      5.05G    0.05004         12        224: 100%|██████████| 523/523 [00:57<00:00,  9.12it/s]\n",
            "               classes   top1_acc   top5_acc: 100%|██████████| 9/9 [00:00<00:00, 40.48it/s]"
          ]
        },
        {
          "output_type": "stream",
          "name": "stdout",
          "text": [
            "                   all        0.9      0.996\n"
          ]
        },
        {
          "output_type": "stream",
          "name": "stderr",
          "text": [
            "\n"
          ]
        },
        {
          "output_type": "stream",
          "name": "stdout",
          "text": [
            "\n",
            "      Epoch    GPU_mem       loss  Instances       Size\n"
          ]
        },
        {
          "output_type": "stream",
          "name": "stderr",
          "text": [
            "     71/100      5.11G     0.0484         12        224: 100%|██████████| 523/523 [00:56<00:00,  9.23it/s]\n",
            "               classes   top1_acc   top5_acc: 100%|██████████| 9/9 [00:00<00:00, 45.10it/s]"
          ]
        },
        {
          "output_type": "stream",
          "name": "stdout",
          "text": [
            "                   all        0.9      0.996\n"
          ]
        },
        {
          "output_type": "stream",
          "name": "stderr",
          "text": [
            "\n"
          ]
        },
        {
          "output_type": "stream",
          "name": "stdout",
          "text": [
            "\n",
            "      Epoch    GPU_mem       loss  Instances       Size\n"
          ]
        },
        {
          "output_type": "stream",
          "name": "stderr",
          "text": [
            "     72/100      5.16G    0.04779         12        224: 100%|██████████| 523/523 [00:58<00:00,  8.96it/s]\n",
            "               classes   top1_acc   top5_acc: 100%|██████████| 9/9 [00:00<00:00, 37.08it/s]"
          ]
        },
        {
          "output_type": "stream",
          "name": "stdout",
          "text": [
            "                   all      0.893      0.996\n"
          ]
        },
        {
          "output_type": "stream",
          "name": "stderr",
          "text": [
            "\n"
          ]
        },
        {
          "output_type": "stream",
          "name": "stdout",
          "text": [
            "\n",
            "      Epoch    GPU_mem       loss  Instances       Size\n"
          ]
        },
        {
          "output_type": "stream",
          "name": "stderr",
          "text": [
            "     73/100      5.27G    0.04582         12        224: 100%|██████████| 523/523 [00:57<00:00,  9.12it/s]\n",
            "               classes   top1_acc   top5_acc: 100%|██████████| 9/9 [00:00<00:00, 61.97it/s]"
          ]
        },
        {
          "output_type": "stream",
          "name": "stdout",
          "text": [
            "                   all      0.904      0.996\n"
          ]
        },
        {
          "output_type": "stream",
          "name": "stderr",
          "text": [
            "\n"
          ]
        },
        {
          "output_type": "stream",
          "name": "stdout",
          "text": [
            "\n",
            "      Epoch    GPU_mem       loss  Instances       Size\n"
          ]
        },
        {
          "output_type": "stream",
          "name": "stderr",
          "text": [
            "     74/100      5.29G    0.04324         12        224: 100%|██████████| 523/523 [00:57<00:00,  9.10it/s]\n",
            "               classes   top1_acc   top5_acc: 100%|██████████| 9/9 [00:00<00:00, 66.72it/s]\n"
          ]
        },
        {
          "output_type": "stream",
          "name": "stdout",
          "text": [
            "                   all      0.904      0.996\n",
            "\n",
            "      Epoch    GPU_mem       loss  Instances       Size\n"
          ]
        },
        {
          "output_type": "stream",
          "name": "stderr",
          "text": [
            "     75/100      5.34G    0.04758         12        224: 100%|██████████| 523/523 [00:56<00:00,  9.19it/s]\n",
            "               classes   top1_acc   top5_acc: 100%|██████████| 9/9 [00:00<00:00, 44.68it/s]"
          ]
        },
        {
          "output_type": "stream",
          "name": "stdout",
          "text": [
            "                   all      0.904      0.996\n"
          ]
        },
        {
          "output_type": "stream",
          "name": "stderr",
          "text": [
            "\n"
          ]
        },
        {
          "output_type": "stream",
          "name": "stdout",
          "text": [
            "\n",
            "      Epoch    GPU_mem       loss  Instances       Size\n"
          ]
        },
        {
          "output_type": "stream",
          "name": "stderr",
          "text": [
            "     76/100      5.41G    0.04343         12        224: 100%|██████████| 523/523 [00:56<00:00,  9.31it/s]\n",
            "               classes   top1_acc   top5_acc: 100%|██████████| 9/9 [00:00<00:00, 39.18it/s]"
          ]
        },
        {
          "output_type": "stream",
          "name": "stdout",
          "text": [
            "                   all      0.897      0.996\n"
          ]
        },
        {
          "output_type": "stream",
          "name": "stderr",
          "text": [
            "\n"
          ]
        },
        {
          "output_type": "stream",
          "name": "stdout",
          "text": [
            "\n",
            "      Epoch    GPU_mem       loss  Instances       Size\n"
          ]
        },
        {
          "output_type": "stream",
          "name": "stderr",
          "text": [
            "     77/100      5.48G    0.03791         12        224: 100%|██████████| 523/523 [00:56<00:00,  9.24it/s]\n",
            "               classes   top1_acc   top5_acc: 100%|██████████| 9/9 [00:00<00:00, 43.68it/s]"
          ]
        },
        {
          "output_type": "stream",
          "name": "stdout",
          "text": [
            "                   all      0.908      0.996\n"
          ]
        },
        {
          "output_type": "stream",
          "name": "stderr",
          "text": [
            "\n"
          ]
        },
        {
          "output_type": "stream",
          "name": "stdout",
          "text": [
            "\n",
            "      Epoch    GPU_mem       loss  Instances       Size\n"
          ]
        },
        {
          "output_type": "stream",
          "name": "stderr",
          "text": [
            "     78/100      5.54G    0.04188         12        224: 100%|██████████| 523/523 [00:55<00:00,  9.44it/s]\n",
            "               classes   top1_acc   top5_acc: 100%|██████████| 9/9 [00:00<00:00, 49.56it/s]\n"
          ]
        },
        {
          "output_type": "stream",
          "name": "stdout",
          "text": [
            "                   all      0.904      0.992\n",
            "\n",
            "      Epoch    GPU_mem       loss  Instances       Size\n"
          ]
        },
        {
          "output_type": "stream",
          "name": "stderr",
          "text": [
            "     79/100       5.6G    0.03521         12        224: 100%|██████████| 523/523 [00:56<00:00,  9.31it/s]\n",
            "               classes   top1_acc   top5_acc: 100%|██████████| 9/9 [00:00<00:00, 39.17it/s]"
          ]
        },
        {
          "output_type": "stream",
          "name": "stdout",
          "text": [
            "                   all      0.908      0.992\n"
          ]
        },
        {
          "output_type": "stream",
          "name": "stderr",
          "text": [
            "\n"
          ]
        },
        {
          "output_type": "stream",
          "name": "stdout",
          "text": [
            "\n",
            "      Epoch    GPU_mem       loss  Instances       Size\n"
          ]
        },
        {
          "output_type": "stream",
          "name": "stderr",
          "text": [
            "     80/100      5.67G    0.03725         12        224: 100%|██████████| 523/523 [00:57<00:00,  9.15it/s]\n",
            "               classes   top1_acc   top5_acc: 100%|██████████| 9/9 [00:00<00:00, 48.05it/s]"
          ]
        },
        {
          "output_type": "stream",
          "name": "stdout",
          "text": [
            "                   all      0.912      0.992\n"
          ]
        },
        {
          "output_type": "stream",
          "name": "stderr",
          "text": [
            "\n"
          ]
        },
        {
          "output_type": "stream",
          "name": "stdout",
          "text": [
            "\n",
            "      Epoch    GPU_mem       loss  Instances       Size\n"
          ]
        },
        {
          "output_type": "stream",
          "name": "stderr",
          "text": [
            "     81/100      5.74G    0.03686         12        224: 100%|██████████| 523/523 [00:55<00:00,  9.44it/s]\n",
            "               classes   top1_acc   top5_acc: 100%|██████████| 9/9 [00:00<00:00, 41.41it/s]"
          ]
        },
        {
          "output_type": "stream",
          "name": "stdout",
          "text": [
            "                   all      0.908      0.996\n"
          ]
        },
        {
          "output_type": "stream",
          "name": "stderr",
          "text": [
            "\n"
          ]
        },
        {
          "output_type": "stream",
          "name": "stdout",
          "text": [
            "\n",
            "      Epoch    GPU_mem       loss  Instances       Size\n"
          ]
        },
        {
          "output_type": "stream",
          "name": "stderr",
          "text": [
            "     82/100       5.8G    0.03399         12        224: 100%|██████████| 523/523 [00:57<00:00,  9.10it/s]\n",
            "               classes   top1_acc   top5_acc: 100%|██████████| 9/9 [00:00<00:00, 42.32it/s]"
          ]
        },
        {
          "output_type": "stream",
          "name": "stdout",
          "text": [
            "                   all      0.912      0.996\n"
          ]
        },
        {
          "output_type": "stream",
          "name": "stderr",
          "text": [
            "\n"
          ]
        },
        {
          "output_type": "stream",
          "name": "stdout",
          "text": [
            "\n",
            "      Epoch    GPU_mem       loss  Instances       Size\n"
          ]
        },
        {
          "output_type": "stream",
          "name": "stderr",
          "text": [
            "     83/100      5.85G     0.0372         12        224: 100%|██████████| 523/523 [00:57<00:00,  9.09it/s]\n",
            "               classes   top1_acc   top5_acc: 100%|██████████| 9/9 [00:00<00:00, 35.43it/s]"
          ]
        },
        {
          "output_type": "stream",
          "name": "stdout",
          "text": [
            "                   all        0.9      0.992\n"
          ]
        },
        {
          "output_type": "stream",
          "name": "stderr",
          "text": [
            "\n"
          ]
        },
        {
          "output_type": "stream",
          "name": "stdout",
          "text": [
            "\n",
            "      Epoch    GPU_mem       loss  Instances       Size\n"
          ]
        },
        {
          "output_type": "stream",
          "name": "stderr",
          "text": [
            "     84/100      5.91G     0.0354         12        224: 100%|██████████| 523/523 [00:56<00:00,  9.18it/s]\n",
            "               classes   top1_acc   top5_acc: 100%|██████████| 9/9 [00:00<00:00, 31.38it/s]"
          ]
        },
        {
          "output_type": "stream",
          "name": "stdout",
          "text": [
            "                   all        0.9      0.996\n"
          ]
        },
        {
          "output_type": "stream",
          "name": "stderr",
          "text": [
            "\n"
          ]
        },
        {
          "output_type": "stream",
          "name": "stdout",
          "text": [
            "\n",
            "      Epoch    GPU_mem       loss  Instances       Size\n"
          ]
        },
        {
          "output_type": "stream",
          "name": "stderr",
          "text": [
            "     85/100      5.97G    0.03726         12        224: 100%|██████████| 523/523 [00:57<00:00,  9.09it/s]\n",
            "               classes   top1_acc   top5_acc: 100%|██████████| 9/9 [00:00<00:00, 45.03it/s]"
          ]
        },
        {
          "output_type": "stream",
          "name": "stdout",
          "text": [
            "                   all      0.904      0.996\n"
          ]
        },
        {
          "output_type": "stream",
          "name": "stderr",
          "text": [
            "\n"
          ]
        },
        {
          "output_type": "stream",
          "name": "stdout",
          "text": [
            "\n",
            "      Epoch    GPU_mem       loss  Instances       Size\n"
          ]
        },
        {
          "output_type": "stream",
          "name": "stderr",
          "text": [
            "     86/100      6.04G    0.03427         12        224: 100%|██████████| 523/523 [00:56<00:00,  9.25it/s]\n",
            "               classes   top1_acc   top5_acc: 100%|██████████| 9/9 [00:00<00:00, 54.04it/s]"
          ]
        },
        {
          "output_type": "stream",
          "name": "stdout",
          "text": [
            "                   all      0.912      0.996\n"
          ]
        },
        {
          "output_type": "stream",
          "name": "stderr",
          "text": [
            "\n"
          ]
        },
        {
          "output_type": "stream",
          "name": "stdout",
          "text": [
            "\n",
            "      Epoch    GPU_mem       loss  Instances       Size\n"
          ]
        },
        {
          "output_type": "stream",
          "name": "stderr",
          "text": [
            "     87/100      6.09G    0.03087         12        224: 100%|██████████| 523/523 [00:58<00:00,  8.93it/s]\n",
            "               classes   top1_acc   top5_acc: 100%|██████████| 9/9 [00:00<00:00, 40.55it/s]"
          ]
        },
        {
          "output_type": "stream",
          "name": "stdout",
          "text": [
            "                   all      0.912      0.996\n"
          ]
        },
        {
          "output_type": "stream",
          "name": "stderr",
          "text": [
            "\n"
          ]
        },
        {
          "output_type": "stream",
          "name": "stdout",
          "text": [
            "\n",
            "      Epoch    GPU_mem       loss  Instances       Size\n"
          ]
        },
        {
          "output_type": "stream",
          "name": "stderr",
          "text": [
            "     88/100      6.16G    0.03249         12        224: 100%|██████████| 523/523 [00:55<00:00,  9.34it/s]\n",
            "               classes   top1_acc   top5_acc: 100%|██████████| 9/9 [00:00<00:00, 41.38it/s]"
          ]
        },
        {
          "output_type": "stream",
          "name": "stdout",
          "text": [
            "                   all      0.912      0.996\n"
          ]
        },
        {
          "output_type": "stream",
          "name": "stderr",
          "text": [
            "\n"
          ]
        },
        {
          "output_type": "stream",
          "name": "stdout",
          "text": [
            "\n",
            "      Epoch    GPU_mem       loss  Instances       Size\n"
          ]
        },
        {
          "output_type": "stream",
          "name": "stderr",
          "text": [
            "     89/100      6.21G    0.02862         12        224: 100%|██████████| 523/523 [00:56<00:00,  9.22it/s]\n",
            "               classes   top1_acc   top5_acc: 100%|██████████| 9/9 [00:00<00:00, 38.60it/s]"
          ]
        },
        {
          "output_type": "stream",
          "name": "stdout",
          "text": [
            "                   all      0.916      0.996\n"
          ]
        },
        {
          "output_type": "stream",
          "name": "stderr",
          "text": [
            "\n"
          ]
        },
        {
          "output_type": "stream",
          "name": "stdout",
          "text": [
            "\n",
            "      Epoch    GPU_mem       loss  Instances       Size\n"
          ]
        },
        {
          "output_type": "stream",
          "name": "stderr",
          "text": [
            "     90/100      6.27G    0.02493         12        224: 100%|██████████| 523/523 [00:56<00:00,  9.21it/s]\n",
            "               classes   top1_acc   top5_acc: 100%|██████████| 9/9 [00:00<00:00, 66.20it/s]"
          ]
        },
        {
          "output_type": "stream",
          "name": "stdout",
          "text": [
            "                   all       0.92      0.996\n"
          ]
        },
        {
          "output_type": "stream",
          "name": "stderr",
          "text": [
            "\n"
          ]
        },
        {
          "output_type": "stream",
          "name": "stdout",
          "text": [
            "\n",
            "      Epoch    GPU_mem       loss  Instances       Size\n"
          ]
        },
        {
          "output_type": "stream",
          "name": "stderr",
          "text": [
            "     91/100      6.35G     0.0293         12        224: 100%|██████████| 523/523 [00:57<00:00,  9.05it/s]\n",
            "               classes   top1_acc   top5_acc: 100%|██████████| 9/9 [00:00<00:00, 35.31it/s]"
          ]
        },
        {
          "output_type": "stream",
          "name": "stdout",
          "text": [
            "                   all      0.916      0.996\n"
          ]
        },
        {
          "output_type": "stream",
          "name": "stderr",
          "text": [
            "\n"
          ]
        },
        {
          "output_type": "stream",
          "name": "stdout",
          "text": [
            "\n",
            "      Epoch    GPU_mem       loss  Instances       Size\n"
          ]
        },
        {
          "output_type": "stream",
          "name": "stderr",
          "text": [
            "     92/100      6.42G    0.02684         12        224: 100%|██████████| 523/523 [00:57<00:00,  9.11it/s]\n",
            "               classes   top1_acc   top5_acc: 100%|██████████| 9/9 [00:00<00:00, 34.40it/s]"
          ]
        },
        {
          "output_type": "stream",
          "name": "stdout",
          "text": [
            "                   all      0.916      0.996\n"
          ]
        },
        {
          "output_type": "stream",
          "name": "stderr",
          "text": [
            "\n"
          ]
        },
        {
          "output_type": "stream",
          "name": "stdout",
          "text": [
            "\n",
            "      Epoch    GPU_mem       loss  Instances       Size\n"
          ]
        },
        {
          "output_type": "stream",
          "name": "stderr",
          "text": [
            "     93/100      6.53G    0.03019         12        224: 100%|██████████| 523/523 [00:57<00:00,  9.08it/s]\n",
            "               classes   top1_acc   top5_acc: 100%|██████████| 9/9 [00:00<00:00, 44.30it/s]"
          ]
        },
        {
          "output_type": "stream",
          "name": "stdout",
          "text": [
            "                   all      0.912      0.996\n"
          ]
        },
        {
          "output_type": "stream",
          "name": "stderr",
          "text": [
            "\n"
          ]
        },
        {
          "output_type": "stream",
          "name": "stdout",
          "text": [
            "\n",
            "      Epoch    GPU_mem       loss  Instances       Size\n"
          ]
        },
        {
          "output_type": "stream",
          "name": "stderr",
          "text": [
            "     94/100      6.55G    0.02526         12        224: 100%|██████████| 523/523 [00:57<00:00,  9.05it/s]\n",
            "               classes   top1_acc   top5_acc: 100%|██████████| 9/9 [00:00<00:00, 42.42it/s]"
          ]
        },
        {
          "output_type": "stream",
          "name": "stdout",
          "text": [
            "                   all      0.916      0.996\n"
          ]
        },
        {
          "output_type": "stream",
          "name": "stderr",
          "text": [
            "\n"
          ]
        },
        {
          "output_type": "stream",
          "name": "stdout",
          "text": [
            "\n",
            "      Epoch    GPU_mem       loss  Instances       Size\n"
          ]
        },
        {
          "output_type": "stream",
          "name": "stderr",
          "text": [
            "     95/100      6.58G    0.02476         12        224: 100%|██████████| 523/523 [00:58<00:00,  8.91it/s]\n",
            "               classes   top1_acc   top5_acc: 100%|██████████| 9/9 [00:00<00:00, 70.82it/s]"
          ]
        },
        {
          "output_type": "stream",
          "name": "stdout",
          "text": [
            "                   all       0.92      0.996\n"
          ]
        },
        {
          "output_type": "stream",
          "name": "stderr",
          "text": [
            "\n"
          ]
        },
        {
          "output_type": "stream",
          "name": "stdout",
          "text": [
            "\n",
            "      Epoch    GPU_mem       loss  Instances       Size\n"
          ]
        },
        {
          "output_type": "stream",
          "name": "stderr",
          "text": [
            "     96/100      6.64G    0.02602         12        224: 100%|██████████| 523/523 [00:56<00:00,  9.34it/s]\n",
            "               classes   top1_acc   top5_acc: 100%|██████████| 9/9 [00:00<00:00, 43.33it/s]"
          ]
        },
        {
          "output_type": "stream",
          "name": "stdout",
          "text": [
            "                   all       0.92      0.996\n"
          ]
        },
        {
          "output_type": "stream",
          "name": "stderr",
          "text": [
            "\n"
          ]
        },
        {
          "output_type": "stream",
          "name": "stdout",
          "text": [
            "\n",
            "      Epoch    GPU_mem       loss  Instances       Size\n"
          ]
        },
        {
          "output_type": "stream",
          "name": "stderr",
          "text": [
            "     97/100      6.71G    0.02636         12        224: 100%|██████████| 523/523 [00:57<00:00,  9.17it/s]\n",
            "               classes   top1_acc   top5_acc: 100%|██████████| 9/9 [00:00<00:00, 61.59it/s]"
          ]
        },
        {
          "output_type": "stream",
          "name": "stdout",
          "text": [
            "                   all       0.92      0.996\n"
          ]
        },
        {
          "output_type": "stream",
          "name": "stderr",
          "text": [
            "\n"
          ]
        },
        {
          "output_type": "stream",
          "name": "stdout",
          "text": [
            "\n",
            "      Epoch    GPU_mem       loss  Instances       Size\n"
          ]
        },
        {
          "output_type": "stream",
          "name": "stderr",
          "text": [
            "     98/100      6.77G    0.02241         12        224: 100%|██████████| 523/523 [00:57<00:00,  9.13it/s]\n",
            "               classes   top1_acc   top5_acc: 100%|██████████| 9/9 [00:00<00:00, 41.28it/s]"
          ]
        },
        {
          "output_type": "stream",
          "name": "stdout",
          "text": [
            "                   all      0.916      0.996\n"
          ]
        },
        {
          "output_type": "stream",
          "name": "stderr",
          "text": [
            "\n"
          ]
        },
        {
          "output_type": "stream",
          "name": "stdout",
          "text": [
            "\n",
            "      Epoch    GPU_mem       loss  Instances       Size\n"
          ]
        },
        {
          "output_type": "stream",
          "name": "stderr",
          "text": [
            "     99/100      6.82G    0.02721         12        224: 100%|██████████| 523/523 [00:55<00:00,  9.43it/s]\n",
            "               classes   top1_acc   top5_acc: 100%|██████████| 9/9 [00:00<00:00, 46.45it/s]\n"
          ]
        },
        {
          "output_type": "stream",
          "name": "stdout",
          "text": [
            "                   all      0.912      0.996\n",
            "\n",
            "      Epoch    GPU_mem       loss  Instances       Size\n"
          ]
        },
        {
          "output_type": "stream",
          "name": "stderr",
          "text": [
            "    100/100      6.89G    0.02376         12        224: 100%|██████████| 523/523 [00:56<00:00,  9.19it/s]\n",
            "               classes   top1_acc   top5_acc: 100%|██████████| 9/9 [00:00<00:00, 35.69it/s]"
          ]
        },
        {
          "output_type": "stream",
          "name": "stdout",
          "text": [
            "                   all      0.912      0.996\n"
          ]
        },
        {
          "output_type": "stream",
          "name": "stderr",
          "text": [
            "\n"
          ]
        },
        {
          "output_type": "stream",
          "name": "stdout",
          "text": [
            "\n",
            "100 epochs completed in 1.614 hours.\n",
            "Optimizer stripped from runs/classify/train/weights/last.pt, 31.7MB\n",
            "Optimizer stripped from runs/classify/train/weights/best.pt, 31.7MB\n",
            "\n",
            "Validating runs/classify/train/weights/best.pt...\n",
            "Ultralytics 8.3.159 🚀 Python-3.11.13 torch-2.6.0+cu124 CUDA:0 (NVIDIA A100-SXM4-40GB, 40507MiB)\n",
            "YOLOv8m-cls summary (fused): 42 layers, 15,778,028 parameters, 0 gradients, 41.6 GFLOPs\n",
            "\u001b[34m\u001b[1mtrain:\u001b[0m /content/Data-medical/train... found 8364 images in 12 classes ✅ \n",
            "\u001b[34m\u001b[1mval:\u001b[0m /content/Data-medical/val... found 261 images in 12 classes ✅ \n",
            "\u001b[34m\u001b[1mtest:\u001b[0m /content/Data-medical/test... found 266 images in 12 classes ✅ \n"
          ]
        },
        {
          "output_type": "stream",
          "name": "stderr",
          "text": [
            "               classes   top1_acc   top5_acc: 100%|██████████| 9/9 [00:00<00:00, 11.62it/s]\n"
          ]
        },
        {
          "output_type": "stream",
          "name": "stdout",
          "text": [
            "                   all      0.939          1\n",
            "Speed: 0.1ms preprocess, 1.1ms inference, 0.0ms loss, 0.0ms postprocess per image\n",
            "Results saved to \u001b[1mruns/classify/train\u001b[0m\n"
          ]
        }
      ],
      "source": [
        "model = YOLO('/content/new_model.pt')\n",
        "results = model.train(data='./Data-medical', epochs=100)"
      ]
    },
    {
      "cell_type": "markdown",
      "metadata": {
        "id": "SHHezPlc8M2M"
      },
      "source": [
        "## `Evaluation`"
      ]
    },
    {
      "cell_type": "code",
      "execution_count": null,
      "metadata": {
        "id": "2Lv72re-8M2N"
      },
      "outputs": [],
      "source": [
        "# Evaluate on test set\n",
        "metrics = model.val(data='./Data-medical', split='test')"
      ]
    },
    {
      "cell_type": "code",
      "execution_count": 8,
      "metadata": {
        "colab": {
          "base_uri": "https://localhost:8080/"
        },
        "id": "_RI8ochu8M2N",
        "outputId": "04f3b632-b257-4757-bb42-8077e20ef057"
      },
      "outputs": [
        {
          "output_type": "stream",
          "name": "stdout",
          "text": [
            "Test Accuracy: 0.91%\n",
            "Test Accuracy (class): 1.00%\n"
          ]
        }
      ],
      "source": [
        "print(f\"Test Accuracy: {metrics.top1:.2f}%\")\n",
        "print(f\"Test Accuracy (class): {metrics.top5:.2f}%\")"
      ]
    },
    {
      "cell_type": "code",
      "execution_count": 35,
      "metadata": {
        "colab": {
          "base_uri": "https://localhost:8080/"
        },
        "collapsed": true,
        "id": "tv0BRSHR8M2N",
        "outputId": "c42d8709-d924-409c-d0b9-cd1820a44c99"
      },
      "outputs": [
        {
          "output_type": "stream",
          "name": "stdout",
          "text": [
            "\n",
            "image 1/1 /content/Data-medical/test/Benign melanocytic nevus/772.jpg: 224x224 Benign melanocytic nevus 1.00, Melanoma 0.00, Basal cell carcinoma 0.00, Alopecia areata 0.00, Wart 0.00, 5.9ms\n",
            "Speed: 3.7ms preprocess, 5.9ms inference, 0.1ms postprocess per image at shape (1, 3, 224, 224)\n",
            "\n",
            "image 1/1 /content/Data-medical/test/Benign melanocytic nevus/102.jpg: 224x224 Benign melanocytic nevus 1.00, Melanoma 0.00, Basal cell carcinoma 0.00, Tinea circinata 0.00, Tinea Versicolor 0.00, 4.4ms\n",
            "Speed: 1.2ms preprocess, 4.4ms inference, 0.0ms postprocess per image at shape (1, 3, 224, 224)\n",
            "\n",
            "image 1/1 /content/Data-medical/test/Benign melanocytic nevus/1288.jpg: 224x224 Benign melanocytic nevus 1.00, Melanoma 0.00, Tinea circinata 0.00, Basal cell carcinoma 0.00, Tinea Versicolor 0.00, 4.4ms\n",
            "Speed: 1.2ms preprocess, 4.4ms inference, 0.0ms postprocess per image at shape (1, 3, 224, 224)\n",
            "\n",
            "image 1/1 /content/Data-medical/test/Benign melanocytic nevus/2.jpg: 224x224 Benign melanocytic nevus 1.00, Melanoma 0.00, Basal cell carcinoma 0.00, Alopecia areata 0.00, Wart 0.00, 4.6ms\n",
            "Speed: 1.1ms preprocess, 4.6ms inference, 0.0ms postprocess per image at shape (1, 3, 224, 224)\n",
            "\n",
            "image 1/1 /content/Data-medical/test/Benign melanocytic nevus/ISIC_0149527.jpg: 224x224 Benign melanocytic nevus 1.00, Melanoma 0.00, Basal cell carcinoma 0.00, Vitiligo 0.00, Wart 0.00, 4.3ms\n",
            "Speed: 4.3ms preprocess, 4.3ms inference, 0.0ms postprocess per image at shape (1, 3, 224, 224)\n",
            "\n",
            "image 1/1 /content/Data-medical/test/Benign melanocytic nevus/ISIC_0189333.jpg: 224x224 Benign melanocytic nevus 1.00, Melanoma 0.00, Basal cell carcinoma 0.00, Tinea circinata 0.00, Herpes Zoster 0.00, 4.6ms\n",
            "Speed: 17.0ms preprocess, 4.6ms inference, 0.0ms postprocess per image at shape (1, 3, 224, 224)\n",
            "\n",
            "image 1/1 /content/Data-medical/test/Benign melanocytic nevus/CMN10.jpg: 224x224 Benign melanocytic nevus 0.98, Tinea circinata 0.01, Wart 0.00, Melanoma 0.00, Basal cell carcinoma 0.00, 6.0ms\n",
            "Speed: 2.1ms preprocess, 6.0ms inference, 0.1ms postprocess per image at shape (1, 3, 224, 224)\n",
            "\n",
            "image 1/1 /content/Data-medical/test/Benign melanocytic nevus/1175.jpg: 224x224 Benign melanocytic nevus 1.00, Melanoma 0.00, Tinea circinata 0.00, Basal cell carcinoma 0.00, Vitiligo 0.00, 4.3ms\n",
            "Speed: 1.3ms preprocess, 4.3ms inference, 0.0ms postprocess per image at shape (1, 3, 224, 224)\n",
            "\n",
            "image 1/1 /content/Data-medical/test/Benign melanocytic nevus/ISIC_0259179.jpg: 224x224 Benign melanocytic nevus 1.00, Melanoma 0.00, Basal cell carcinoma 0.00, Wart 0.00, Tinea circinata 0.00, 4.9ms\n",
            "Speed: 175.4ms preprocess, 4.9ms inference, 0.1ms postprocess per image at shape (1, 3, 224, 224)\n",
            "\n",
            "image 1/1 /content/Data-medical/test/Benign melanocytic nevus/10.jpg: 224x224 Benign melanocytic nevus 1.00, Melanoma 0.00, Basal cell carcinoma 0.00, Wart 0.00, Tinea circinata 0.00, 4.7ms\n",
            "Speed: 1.3ms preprocess, 4.7ms inference, 0.0ms postprocess per image at shape (1, 3, 224, 224)\n",
            "\n",
            "image 1/1 /content/Data-medical/test/Benign melanocytic nevus/1405.jpg: 224x224 Benign melanocytic nevus 0.95, Melanoma 0.04, Wart 0.00, Basal cell carcinoma 0.00, Tinea circinata 0.00, 4.5ms\n",
            "Speed: 1.3ms preprocess, 4.5ms inference, 0.0ms postprocess per image at shape (1, 3, 224, 224)\n",
            "\n",
            "image 1/1 /content/Data-medical/test/Benign melanocytic nevus/JMN8.jpg: 224x224 Wart 1.00, Vitiligo 0.00, Benign melanocytic nevus 0.00, Melanoma 0.00, Psoraisis 0.00, 4.4ms\n",
            "Speed: 2.1ms preprocess, 4.4ms inference, 0.0ms postprocess per image at shape (1, 3, 224, 224)\n",
            "\n",
            "image 1/1 /content/Data-medical/test/Benign melanocytic nevus/1340.jpg: 224x224 Benign melanocytic nevus 0.52, Melanoma 0.48, Wart 0.00, Vitiligo 0.00, Psoraisis 0.00, 4.3ms\n",
            "Speed: 1.2ms preprocess, 4.3ms inference, 0.0ms postprocess per image at shape (1, 3, 224, 224)\n",
            "\n",
            "image 1/1 /content/Data-medical/test/Benign melanocytic nevus/97.jpg: 224x224 Benign melanocytic nevus 1.00, Melanoma 0.00, Tinea circinata 0.00, Vitiligo 0.00, Basal cell carcinoma 0.00, 4.3ms\n",
            "Speed: 1.2ms preprocess, 4.3ms inference, 0.1ms postprocess per image at shape (1, 3, 224, 224)\n",
            "\n",
            "image 1/1 /content/Data-medical/test/Benign melanocytic nevus/1738.jpg: 224x224 Benign melanocytic nevus 1.00, Melanoma 0.00, Wart 0.00, Basal cell carcinoma 0.00, Tinea circinata 0.00, 4.3ms\n",
            "Speed: 1.2ms preprocess, 4.3ms inference, 0.0ms postprocess per image at shape (1, 3, 224, 224)\n",
            "\n",
            "image 1/1 /content/Data-medical/test/Benign melanocytic nevus/1514.jpg: 224x224 Melanoma 0.87, Basal cell carcinoma 0.13, Benign melanocytic nevus 0.00, Wart 0.00, Tinea circinata 0.00, 4.6ms\n",
            "Speed: 1.2ms preprocess, 4.6ms inference, 0.0ms postprocess per image at shape (1, 3, 224, 224)\n",
            "\n",
            "image 1/1 /content/Data-medical/test/Benign melanocytic nevus/9.jpg: 224x224 Benign melanocytic nevus 1.00, Melanoma 0.00, Wart 0.00, Tinea circinata 0.00, Basal cell carcinoma 0.00, 4.3ms\n",
            "Speed: 1.2ms preprocess, 4.3ms inference, 0.0ms postprocess per image at shape (1, 3, 224, 224)\n",
            "\n",
            "image 1/1 /content/Data-medical/test/Benign melanocytic nevus/ISIC_0224919.jpg: 224x224 Benign melanocytic nevus 1.00, Melanoma 0.00, Basal cell carcinoma 0.00, Wart 0.00, Alopecia areata 0.00, 4.6ms\n",
            "Speed: 18.3ms preprocess, 4.6ms inference, 0.0ms postprocess per image at shape (1, 3, 224, 224)\n",
            "\n",
            "image 1/1 /content/Data-medical/test/Benign melanocytic nevus/79.jpg: 224x224 Benign melanocytic nevus 1.00, Melanoma 0.00, Basal cell carcinoma 0.00, Tinea circinata 0.00, Wart 0.00, 4.3ms\n",
            "Speed: 1.2ms preprocess, 4.3ms inference, 0.0ms postprocess per image at shape (1, 3, 224, 224)\n",
            "\n",
            "image 1/1 /content/Data-medical/test/Benign melanocytic nevus/850.jpg: 224x224 Benign melanocytic nevus 1.00, Basal cell carcinoma 0.00, Melanoma 0.00, Wart 0.00, Tinea circinata 0.00, 4.2ms\n",
            "Speed: 1.2ms preprocess, 4.2ms inference, 0.1ms postprocess per image at shape (1, 3, 224, 224)\n",
            "\n",
            "image 1/1 /content/Data-medical/test/Benign melanocytic nevus/ISIC_0174405.jpg: 224x224 Basal cell carcinoma 0.77, Benign melanocytic nevus 0.12, Wart 0.10, Tinea circinata 0.01, Melanoma 0.00, 4.8ms\n",
            "Speed: 61.7ms preprocess, 4.8ms inference, 0.0ms postprocess per image at shape (1, 3, 224, 224)\n",
            "\n",
            "image 1/1 /content/Data-medical/test/Benign melanocytic nevus/964.jpg: 224x224 Benign melanocytic nevus 0.56, Melanoma 0.44, Psoraisis 0.00, Wart 0.00, Tinea circinata 0.00, 5.2ms\n",
            "Speed: 1.3ms preprocess, 5.2ms inference, 0.0ms postprocess per image at shape (1, 3, 224, 224)\n",
            "\n",
            "image 1/1 /content/Data-medical/test/Benign melanocytic nevus/1473.jpg: 224x224 Benign melanocytic nevus 1.00, Melanoma 0.00, Basal cell carcinoma 0.00, Normal skin 0.00, Wart 0.00, 4.5ms\n",
            "Speed: 1.4ms preprocess, 4.5ms inference, 0.0ms postprocess per image at shape (1, 3, 224, 224)\n",
            "\n",
            "image 1/1 /content/Data-medical/test/Benign melanocytic nevus/ISIC_0229265.jpg: 224x224 Benign melanocytic nevus 1.00, Melanoma 0.00, Basal cell carcinoma 0.00, Tinea Versicolor 0.00, Wart 0.00, 4.9ms\n",
            "Speed: 4.4ms preprocess, 4.9ms inference, 0.0ms postprocess per image at shape (1, 3, 224, 224)\n",
            "\n",
            "image 1/1 /content/Data-medical/test/Melanoma/ISIC_0502582.jpg: 224x224 Melanoma 1.00, Benign melanocytic nevus 0.00, Tinea Versicolor 0.00, Vitiligo 0.00, Basal cell carcinoma 0.00, 4.9ms\n",
            "Speed: 61.9ms preprocess, 4.9ms inference, 0.1ms postprocess per image at shape (1, 3, 224, 224)\n",
            "\n",
            "image 1/1 /content/Data-medical/test/Melanoma/ISIC_0032880.jpg: 224x224 Melanoma 0.99, Benign melanocytic nevus 0.01, Psoraisis 0.00, Wart 0.00, Alopecia areata 0.00, 4.4ms\n",
            "Speed: 4.0ms preprocess, 4.4ms inference, 0.0ms postprocess per image at shape (1, 3, 224, 224)\n",
            "\n",
            "image 1/1 /content/Data-medical/test/Melanoma/1800x1200_malignant_melanoma_ref_guide.jpg: 224x224 Melanoma 1.00, Basal cell carcinoma 0.00, Tinea circinata 0.00, Wart 0.00, Normal skin 0.00, 4.8ms\n",
            "Speed: 19.5ms preprocess, 4.8ms inference, 0.0ms postprocess per image at shape (1, 3, 224, 224)\n",
            "\n",
            "image 1/1 /content/Data-medical/test/Melanoma/1034.jpg: 224x224 Melanoma 1.00, Benign melanocytic nevus 0.00, Psoraisis 0.00, Tinea capitis 0.00, Alopecia areata 0.00, 4.6ms\n",
            "Speed: 1.3ms preprocess, 4.6ms inference, 0.0ms postprocess per image at shape (1, 3, 224, 224)\n",
            "\n",
            "image 1/1 /content/Data-medical/test/Melanoma/ISIC_0025838.jpg: 224x224 Melanoma 1.00, Benign melanocytic nevus 0.00, Basal cell carcinoma 0.00, Vitiligo 0.00, Tinea Versicolor 0.00, 4.5ms\n",
            "Speed: 3.9ms preprocess, 4.5ms inference, 0.0ms postprocess per image at shape (1, 3, 224, 224)\n",
            "\n",
            "image 1/1 /content/Data-medical/test/Melanoma/ISIC_0032335.jpg: 224x224 Melanoma 0.91, Basal cell carcinoma 0.09, Benign melanocytic nevus 0.00, Tinea circinata 0.00, Herpes Zoster 0.00, 4.4ms\n",
            "Speed: 3.9ms preprocess, 4.4ms inference, 0.0ms postprocess per image at shape (1, 3, 224, 224)\n",
            "\n",
            "image 1/1 /content/Data-medical/test/Melanoma/1267.jpg: 224x224 Melanoma 1.00, Benign melanocytic nevus 0.00, Basal cell carcinoma 0.00, Tinea circinata 0.00, Tinea Versicolor 0.00, 4.5ms\n",
            "Speed: 1.2ms preprocess, 4.5ms inference, 0.0ms postprocess per image at shape (1, 3, 224, 224)\n",
            "\n",
            "image 1/1 /content/Data-medical/test/Melanoma/ISIC_0033885.jpg: 224x224 Melanoma 1.00, Benign melanocytic nevus 0.00, Tinea capitis 0.00, Wart 0.00, Tinea circinata 0.00, 4.3ms\n",
            "Speed: 4.2ms preprocess, 4.3ms inference, 0.0ms postprocess per image at shape (1, 3, 224, 224)\n",
            "\n",
            "image 1/1 /content/Data-medical/test/Melanoma/ISIC_0028777.jpg: 224x224 Melanoma 1.00, Basal cell carcinoma 0.00, Benign melanocytic nevus 0.00, Tinea circinata 0.00, Vitiligo 0.00, 4.2ms\n",
            "Speed: 3.6ms preprocess, 4.2ms inference, 0.0ms postprocess per image at shape (1, 3, 224, 224)\n",
            "\n",
            "image 1/1 /content/Data-medical/test/Melanoma/280.jpg: 224x224 Melanoma 1.00, Benign melanocytic nevus 0.00, Basal cell carcinoma 0.00, Tinea Versicolor 0.00, Herpes Zoster 0.00, 4.2ms\n",
            "Speed: 1.1ms preprocess, 4.2ms inference, 0.1ms postprocess per image at shape (1, 3, 224, 224)\n",
            "\n",
            "image 1/1 /content/Data-medical/test/Melanoma/396.jpg: 224x224 Benign melanocytic nevus 0.98, Melanoma 0.02, Basal cell carcinoma 0.00, Tinea circinata 0.00, Tinea Versicolor 0.00, 4.2ms\n",
            "Speed: 1.1ms preprocess, 4.2ms inference, 0.0ms postprocess per image at shape (1, 3, 224, 224)\n",
            "\n",
            "image 1/1 /content/Data-medical/test/Melanoma/ISIC_0033842.jpg: 224x224 Melanoma 0.90, Benign melanocytic nevus 0.10, Wart 0.00, Tinea circinata 0.00, Psoraisis 0.00, 4.2ms\n",
            "Speed: 3.6ms preprocess, 4.2ms inference, 0.0ms postprocess per image at shape (1, 3, 224, 224)\n",
            "\n",
            "image 1/1 /content/Data-medical/test/Melanoma/ISIC_0034202.jpg: 224x224 Melanoma 1.00, Basal cell carcinoma 0.00, Tinea circinata 0.00, Benign melanocytic nevus 0.00, Psoraisis 0.00, 4.1ms\n",
            "Speed: 3.6ms preprocess, 4.1ms inference, 0.0ms postprocess per image at shape (1, 3, 224, 224)\n",
            "\n",
            "image 1/1 /content/Data-medical/test/Melanoma/ISIC_0032975.jpg: 224x224 Melanoma 1.00, Benign melanocytic nevus 0.00, Tinea circinata 0.00, Basal cell carcinoma 0.00, Wart 0.00, 4.1ms\n",
            "Speed: 3.6ms preprocess, 4.1ms inference, 0.1ms postprocess per image at shape (1, 3, 224, 224)\n",
            "\n",
            "image 1/1 /content/Data-medical/test/Melanoma/ISIC_0027989.jpg: 224x224 Melanoma 0.71, Benign melanocytic nevus 0.29, Normal skin 0.00, Wart 0.00, Basal cell carcinoma 0.00, 4.2ms\n",
            "Speed: 3.5ms preprocess, 4.2ms inference, 0.0ms postprocess per image at shape (1, 3, 224, 224)\n",
            "\n",
            "image 1/1 /content/Data-medical/test/Melanoma/ISIC_0027680.jpg: 224x224 Melanoma 1.00, Benign melanocytic nevus 0.00, Alopecia areata 0.00, Basal cell carcinoma 0.00, Herpes Zoster 0.00, 4.1ms\n",
            "Speed: 3.6ms preprocess, 4.1ms inference, 0.0ms postprocess per image at shape (1, 3, 224, 224)\n",
            "\n",
            "image 1/1 /content/Data-medical/test/Melanoma/886.jpg: 224x224 Melanoma 1.00, Wart 0.00, Psoraisis 0.00, Benign melanocytic nevus 0.00, Tinea Versicolor 0.00, 4.1ms\n",
            "Speed: 1.1ms preprocess, 4.1ms inference, 0.0ms postprocess per image at shape (1, 3, 224, 224)\n",
            "\n",
            "image 1/1 /content/Data-medical/test/Melanoma/ISIC_0034276.jpg: 224x224 Melanoma 0.93, Basal cell carcinoma 0.07, Benign melanocytic nevus 0.00, Alopecia areata 0.00, Tinea Versicolor 0.00, 4.1ms\n",
            "Speed: 3.5ms preprocess, 4.1ms inference, 0.0ms postprocess per image at shape (1, 3, 224, 224)\n",
            "\n",
            "image 1/1 /content/Data-medical/test/Melanoma/ISIC_0025133.jpg: 224x224 Melanoma 1.00, Basal cell carcinoma 0.00, Benign melanocytic nevus 0.00, Herpes Zoster 0.00, Tinea circinata 0.00, 4.1ms\n",
            "Speed: 3.5ms preprocess, 4.1ms inference, 0.0ms postprocess per image at shape (1, 3, 224, 224)\n",
            "\n",
            "image 1/1 /content/Data-medical/test/Melanoma/ISIC_0033856.jpg: 224x224 Melanoma 1.00, Tinea circinata 0.00, Basal cell carcinoma 0.00, Wart 0.00, Benign melanocytic nevus 0.00, 4.2ms\n",
            "Speed: 3.6ms preprocess, 4.2ms inference, 0.0ms postprocess per image at shape (1, 3, 224, 224)\n",
            "\n",
            "image 1/1 /content/Data-medical/test/Melanoma/ISIC_0033178.jpg: 224x224 Melanoma 1.00, Benign melanocytic nevus 0.00, Basal cell carcinoma 0.00, Wart 0.00, Psoraisis 0.00, 4.2ms\n",
            "Speed: 3.6ms preprocess, 4.2ms inference, 0.0ms postprocess per image at shape (1, 3, 224, 224)\n",
            "\n",
            "image 1/1 /content/Data-medical/test/Melanoma/ISIC_0032134.jpg: 224x224 Melanoma 1.00, Tinea circinata 0.00, Benign melanocytic nevus 0.00, Vitiligo 0.00, Tinea Versicolor 0.00, 4.3ms\n",
            "Speed: 3.7ms preprocess, 4.3ms inference, 0.1ms postprocess per image at shape (1, 3, 224, 224)\n",
            "\n",
            "image 1/1 /content/Data-medical/test/Melanoma/ISIC_0029100.jpg: 224x224 Melanoma 1.00, Benign melanocytic nevus 0.00, Wart 0.00, Basal cell carcinoma 0.00, Tinea capitis 0.00, 4.3ms\n",
            "Speed: 3.8ms preprocess, 4.3ms inference, 0.0ms postprocess per image at shape (1, 3, 224, 224)\n",
            "\n",
            "image 1/1 /content/Data-medical/test/Melanoma/ISIC_4523382.jpg: 224x224 Melanoma 1.00, Benign melanocytic nevus 0.00, Wart 0.00, Basal cell carcinoma 0.00, Psoraisis 0.00, 4.5ms\n",
            "Speed: 4.0ms preprocess, 4.5ms inference, 0.0ms postprocess per image at shape (1, 3, 224, 224)\n",
            "\n",
            "image 1/1 /content/Data-medical/test/Melanoma/ISIC_0033901.jpg: 224x224 Melanoma 0.97, Benign melanocytic nevus 0.03, Basal cell carcinoma 0.00, Tinea circinata 0.00, Alopecia areata 0.00, 4.4ms\n",
            "Speed: 3.7ms preprocess, 4.4ms inference, 0.0ms postprocess per image at shape (1, 3, 224, 224)\n",
            "\n",
            "image 1/1 /content/Data-medical/test/Melanoma/1284.jpg: 224x224 Melanoma 1.00, Benign melanocytic nevus 0.00, Alopecia areata 0.00, Basal cell carcinoma 0.00, Tinea Versicolor 0.00, 4.3ms\n",
            "Speed: 1.2ms preprocess, 4.3ms inference, 0.0ms postprocess per image at shape (1, 3, 224, 224)\n",
            "\n",
            "image 1/1 /content/Data-medical/test/Melanoma/ISIC_0029168.jpg: 224x224 Benign melanocytic nevus 1.00, Melanoma 0.00, Basal cell carcinoma 0.00, Wart 0.00, Normal skin 0.00, 4.3ms\n",
            "Speed: 3.7ms preprocess, 4.3ms inference, 0.0ms postprocess per image at shape (1, 3, 224, 224)\n",
            "\n",
            "image 1/1 /content/Data-medical/test/Melanoma/43.jpg: 224x224 Melanoma 1.00, Benign melanocytic nevus 0.00, Basal cell carcinoma 0.00, Tinea circinata 0.00, Alopecia areata 0.00, 4.3ms\n",
            "Speed: 1.1ms preprocess, 4.3ms inference, 0.0ms postprocess per image at shape (1, 3, 224, 224)\n",
            "\n",
            "image 1/1 /content/Data-medical/test/Melanoma/ISIC_3824206.jpg: 224x224 Melanoma 1.00, Benign melanocytic nevus 0.00, Tinea circinata 0.00, Wart 0.00, Tinea capitis 0.00, 4.3ms\n",
            "Speed: 4.0ms preprocess, 4.3ms inference, 0.0ms postprocess per image at shape (1, 3, 224, 224)\n",
            "\n",
            "image 1/1 /content/Data-medical/test/Wart/m_usat2_c131f002.png: 224x224 Psoraisis 1.00, Wart 0.00, Vitiligo 0.00, Herpes Zoster 0.00, Tinea circinata 0.00, 4.3ms\n",
            "Speed: 3.0ms preprocess, 4.3ms inference, 0.0ms postprocess per image at shape (1, 3, 224, 224)\n",
            "\n",
            "image 1/1 /content/Data-medical/test/Wart/commonWartVerrucaVulgaris_29482_lg.jpg: 224x224 Wart 1.00, Vitiligo 0.00, Benign melanocytic nevus 0.00, Melanoma 0.00, Psoraisis 0.00, 5.0ms\n",
            "Speed: 12.8ms preprocess, 5.0ms inference, 0.0ms postprocess per image at shape (1, 3, 224, 224)\n",
            "\n",
            "image 1/1 /content/Data-medical/test/Wart/plantarWartHPV_831_lg.jpg: 224x224 Wart 1.00, Tinea circinata 0.00, Basal cell carcinoma 0.00, Benign melanocytic nevus 0.00, Vitiligo 0.00, 4.5ms\n",
            "Speed: 8.5ms preprocess, 4.5ms inference, 0.0ms postprocess per image at shape (1, 3, 224, 224)\n",
            "\n",
            "image 1/1 /content/Data-medical/test/Wart/flatWartHPV_1209_lg.jpg: 224x224 Wart 0.97, Normal skin 0.02, Tinea circinata 0.01, Basal cell carcinoma 0.00, Tinea Versicolor 0.00, 4.6ms\n",
            "Speed: 19.5ms preprocess, 4.6ms inference, 0.0ms postprocess per image at shape (1, 3, 224, 224)\n",
            "\n",
            "image 1/1 /content/Data-medical/test/Wart/viral-wart-11.jpg: 224x224 Wart 1.00, Basal cell carcinoma 0.00, Tinea circinata 0.00, Psoraisis 0.00, Herpes Zoster 0.00, 4.9ms\n",
            "Speed: 27.2ms preprocess, 4.9ms inference, 0.0ms postprocess per image at shape (1, 3, 224, 224)\n",
            "\n",
            "image 1/1 /content/Data-medical/test/Wart/pictures_of_warts_flat_wart_1881791.jpg: 224x224 Tinea capitis 0.52, Alopecia areata 0.20, Psoraisis 0.17, Tinea Versicolor 0.11, Wart 0.00, 5.0ms\n",
            "Speed: 62.9ms preprocess, 5.0ms inference, 0.1ms postprocess per image at shape (1, 3, 224, 224)\n",
            "\n",
            "image 1/1 /content/Data-medical/test/Wart/Plantar-warts-body3.jpg: 224x224 Wart 1.00, Vitiligo 0.00, Psoraisis 0.00, Melanoma 0.00, Herpes Zoster 0.00, 4.5ms\n",
            "Speed: 7.6ms preprocess, 4.5ms inference, 0.0ms postprocess per image at shape (1, 3, 224, 224)\n",
            "\n",
            "image 1/1 /content/Data-medical/test/Wart/viral-wart-17.jpg: 224x224 Wart 1.00, Tinea circinata 0.00, Melanoma 0.00, Tinea Versicolor 0.00, Psoraisis 0.00, 4.8ms\n",
            "Speed: 24.2ms preprocess, 4.8ms inference, 0.0ms postprocess per image at shape (1, 3, 224, 224)\n",
            "\n",
            "image 1/1 /content/Data-medical/test/Wart/P7qDKkqy8sr-zFCJyo31crCPk3BzmhQCKam4dK4YqDA.jpg: 224x224 Wart 1.00, Psoraisis 0.00, Vitiligo 0.00, Tinea Versicolor 0.00, Melanoma 0.00, 5.0ms\n",
            "Speed: 58.6ms preprocess, 5.0ms inference, 0.1ms postprocess per image at shape (1, 3, 224, 224)\n",
            "\n",
            "image 1/1 /content/Data-medical/test/Wart/1-s2.0-S1578219016301329-gr1 (2).jpg: 224x224 Vitiligo 0.94, Wart 0.06, Tinea Versicolor 0.00, Tinea circinata 0.00, Benign melanocytic nevus 0.00, 4.5ms\n",
            "Speed: 7.2ms preprocess, 4.5ms inference, 0.0ms postprocess per image at shape (1, 3, 224, 224)\n",
            "\n",
            "image 1/1 /content/Data-medical/test/Wart/Case-4a.png: 224x224 Wart 1.00, Psoraisis 0.00, Benign melanocytic nevus 0.00, Vitiligo 0.00, Melanoma 0.00, 4.4ms\n",
            "Speed: 2.1ms preprocess, 4.4ms inference, 0.0ms postprocess per image at shape (1, 3, 224, 224)\n",
            "\n",
            "image 1/1 /content/Data-medical/test/Wart/plantarWartHPV_5358_lg.jpg: 224x224 Wart 1.00, Herpes Zoster 0.00, Vitiligo 0.00, Psoraisis 0.00, Tinea circinata 0.00, 4.7ms\n",
            "Speed: 12.7ms preprocess, 4.7ms inference, 0.0ms postprocess per image at shape (1, 3, 224, 224)\n",
            "\n",
            "image 1/1 /content/Data-medical/test/Wart/For-website-11.png: 224x224 Wart 1.00, Vitiligo 0.00, Tinea Versicolor 0.00, Psoraisis 0.00, Tinea circinata 0.00, 4.7ms\n",
            "Speed: 3.2ms preprocess, 4.7ms inference, 0.0ms postprocess per image at shape (1, 3, 224, 224)\n",
            "\n",
            "image 1/1 /content/Data-medical/test/Wart/condition-warts-pediatric-hero-1.jpg: 224x224 Wart 1.00, Vitiligo 0.00, Tinea circinata 0.00, Tinea Versicolor 0.00, Benign melanocytic nevus 0.00, 4.9ms\n",
            "Speed: 34.5ms preprocess, 4.9ms inference, 0.1ms postprocess per image at shape (1, 3, 224, 224)\n",
            "\n",
            "image 1/1 /content/Data-medical/test/Wart/225 (2).jpeg: 224x224 Wart 1.00, Vitiligo 0.00, Psoraisis 0.00, Normal skin 0.00, Melanoma 0.00, 4.7ms\n",
            "Speed: 4.8ms preprocess, 4.7ms inference, 0.0ms postprocess per image at shape (1, 3, 224, 224)\n",
            "\n",
            "image 1/1 /content/Data-medical/test/Wart/225.jpeg: 224x224 Basal cell carcinoma 1.00, Wart 0.00, Psoraisis 0.00, Tinea circinata 0.00, Melanoma 0.00, 4.4ms\n",
            "Speed: 2.1ms preprocess, 4.4ms inference, 0.0ms postprocess per image at shape (1, 3, 224, 224)\n",
            "\n",
            "image 1/1 /content/Data-medical/test/Wart/stat1108-ver_61297.jpg: 224x224 Wart 1.00, Psoraisis 0.00, Melanoma 0.00, Tinea circinata 0.00, Tinea Versicolor 0.00, 4.4ms\n",
            "Speed: 3.8ms preprocess, 4.4ms inference, 0.0ms postprocess per image at shape (1, 3, 224, 224)\n",
            "\n",
            "image 1/1 /content/Data-medical/test/Wart/F1.large.jpg: 224x224 Wart 1.00, Psoraisis 0.00, Vitiligo 0.00, Herpes Zoster 0.00, Tinea circinata 0.00, 5.0ms\n",
            "Speed: 73.1ms preprocess, 5.0ms inference, 0.1ms postprocess per image at shape (1, 3, 224, 224)\n",
            "\n",
            "image 1/1 /content/Data-medical/test/Wart/plantar-wart-close-up-bottom-female-foot-heel-caused-human-papillomavirus-hpv-cornea-over-plantar-wart-close-211727748.jpg: 224x224 Wart 1.00, Psoraisis 0.00, Melanoma 0.00, Normal skin 0.00, Vitiligo 0.00, 5.3ms\n",
            "Speed: 24.6ms preprocess, 5.3ms inference, 0.1ms postprocess per image at shape (1, 3, 224, 224)\n",
            "\n",
            "image 1/1 /content/Data-medical/test/Wart/warts (2).jpg: 224x224 Wart 1.00, Psoraisis 0.00, Vitiligo 0.00, Melanoma 0.00, Tinea circinata 0.00, 5.0ms\n",
            "Speed: 3.1ms preprocess, 5.0ms inference, 0.0ms postprocess per image at shape (1, 3, 224, 224)\n",
            "\n",
            "image 1/1 /content/Data-medical/test/Wart/wart27.jpg: 224x224 Wart 0.59, Basal cell carcinoma 0.19, Tinea circinata 0.17, Herpes Zoster 0.03, Tinea Versicolor 0.01, 5.4ms\n",
            "Speed: 14.7ms preprocess, 5.4ms inference, 0.0ms postprocess per image at shape (1, 3, 224, 224)\n",
            "\n",
            "image 1/1 /content/Data-medical/test/Wart/viral-wart-16.jpg: 224x224 Benign melanocytic nevus 1.00, Wart 0.00, Tinea circinata 0.00, Melanoma 0.00, Basal cell carcinoma 0.00, 5.3ms\n",
            "Speed: 18.7ms preprocess, 5.3ms inference, 0.0ms postprocess per image at shape (1, 3, 224, 224)\n",
            "\n",
            "image 1/1 /content/Data-medical/test/Wart/IMG-20250312-WA0024.jpg: 224x224 Wart 1.00, Tinea circinata 0.00, Tinea Versicolor 0.00, Vitiligo 0.00, Herpes Zoster 0.00, 5.0ms\n",
            "Speed: 33.2ms preprocess, 5.0ms inference, 0.1ms postprocess per image at shape (1, 3, 224, 224)\n",
            "\n",
            "image 1/1 /content/Data-medical/test/Herpes Zoster/Herpes-on-Buttock-1296x728-slide7.jpg: 224x224 Herpes Zoster 0.94, Basal cell carcinoma 0.06, Melanoma 0.00, Tinea circinata 0.00, Wart 0.00, 5.1ms\n",
            "Speed: 68.2ms preprocess, 5.1ms inference, 0.0ms postprocess per image at shape (1, 3, 224, 224)\n",
            "\n",
            "image 1/1 /content/Data-medical/test/Herpes Zoster/zoster-08.jpg: 224x224 Herpes Zoster 0.98, Basal cell carcinoma 0.02, Tinea circinata 0.00, Psoraisis 0.00, Melanoma 0.00, 4.8ms\n",
            "Speed: 22.6ms preprocess, 4.8ms inference, 0.0ms postprocess per image at shape (1, 3, 224, 224)\n",
            "\n",
            "image 1/1 /content/Data-medical/test/Herpes Zoster/dermatim-herpes-zoster-1-1024x788.jpg: 224x224 Herpes Zoster 1.00, Psoraisis 0.00, Vitiligo 0.00, Melanoma 0.00, Tinea Versicolor 0.00, 4.7ms\n",
            "Speed: 7.7ms preprocess, 4.7ms inference, 0.0ms postprocess per image at shape (1, 3, 224, 224)\n",
            "\n",
            "image 1/1 /content/Data-medical/test/Herpes Zoster/variaap016.jpg: 224x224 Herpes Zoster 1.00, Melanoma 0.00, Vitiligo 0.00, Benign melanocytic nevus 0.00, Tinea circinata 0.00, 4.4ms\n",
            "Speed: 9.3ms preprocess, 4.4ms inference, 0.0ms postprocess per image at shape (1, 3, 224, 224)\n",
            "\n",
            "image 1/1 /content/Data-medical/test/Herpes Zoster/IMG-20230412-WA0051.jpg: 224x224 Herpes Zoster 1.00, Basal cell carcinoma 0.00, Wart 0.00, Psoraisis 0.00, Tinea Versicolor 0.00, 4.8ms\n",
            "Speed: 117.2ms preprocess, 4.8ms inference, 0.1ms postprocess per image at shape (1, 3, 224, 224)\n",
            "\n",
            "image 1/1 /content/Data-medical/test/Herpes Zoster/473-herpes-zoster-lumbar-dermatome-slide-8-springer-high.jpg: 224x224 Herpes Zoster 0.89, Melanoma 0.06, Tinea circinata 0.04, Benign melanocytic nevus 0.01, Wart 0.00, 5.0ms\n",
            "Speed: 23.2ms preprocess, 5.0ms inference, 0.0ms postprocess per image at shape (1, 3, 224, 224)\n",
            "\n",
            "image 1/1 /content/Data-medical/test/Herpes Zoster/gettyimages-1501759324-640x640.jpg: 224x224 Herpes Zoster 1.00, Tinea circinata 0.00, Melanoma 0.00, Psoraisis 0.00, Vitiligo 0.00, 4.7ms\n",
            "Speed: 18.8ms preprocess, 4.7ms inference, 0.0ms postprocess per image at shape (1, 3, 224, 224)\n",
            "\n",
            "image 1/1 /content/Data-medical/test/Herpes Zoster/infection-viral-her-zoster--midline-1.jpg: 224x224 Herpes Zoster 1.00, Tinea circinata 0.00, Basal cell carcinoma 0.00, Tinea Versicolor 0.00, Melanoma 0.00, 4.4ms\n",
            "Speed: 4.0ms preprocess, 4.4ms inference, 0.0ms postprocess per image at shape (1, 3, 224, 224)\n",
            "\n",
            "image 1/1 /content/Data-medical/test/Herpes Zoster/shingles-face.jpg: 224x224 Herpes Zoster 1.00, Melanoma 0.00, Wart 0.00, Vitiligo 0.00, Basal cell carcinoma 0.00, 4.6ms\n",
            "Speed: 10.6ms preprocess, 4.6ms inference, 0.0ms postprocess per image at shape (1, 3, 224, 224)\n",
            "\n",
            "image 1/1 /content/Data-medical/test/Herpes Zoster/F2.large.jpg: 224x224 Herpes Zoster 1.00, Wart 0.00, Basal cell carcinoma 0.00, Melanoma 0.00, Tinea capitis 0.00, 4.9ms\n",
            "Speed: 19.0ms preprocess, 4.9ms inference, 0.0ms postprocess per image at shape (1, 3, 224, 224)\n",
            "\n",
            "image 1/1 /content/Data-medical/test/Herpes Zoster/2-Figure2-1 (1).png: 224x224 Herpes Zoster 0.97, Vitiligo 0.01, Psoraisis 0.01, Wart 0.00, Tinea circinata 0.00, 4.7ms\n",
            "Speed: 5.0ms preprocess, 4.7ms inference, 0.0ms postprocess per image at shape (1, 3, 224, 224)\n",
            "\n",
            "image 1/1 /content/Data-medical/test/Herpes Zoster/hz2.jpg: 224x224 Herpes Zoster 1.00, Tinea circinata 0.00, Vitiligo 0.00, Tinea Versicolor 0.00, Basal cell carcinoma 0.00, 4.6ms\n",
            "Speed: 16.7ms preprocess, 4.6ms inference, 0.0ms postprocess per image at shape (1, 3, 224, 224)\n",
            "\n",
            "image 1/1 /content/Data-medical/test/Herpes Zoster/blog_230817.png: 224x224 Herpes Zoster 1.00, Tinea circinata 0.00, Psoraisis 0.00, Vitiligo 0.00, Tinea Versicolor 0.00, 4.5ms\n",
            "Speed: 2.7ms preprocess, 4.5ms inference, 0.0ms postprocess per image at shape (1, 3, 224, 224)\n",
            "\n",
            "image 1/1 /content/Data-medical/test/Herpes Zoster/feature0908-zoster_61077.jpg: 224x224 Herpes Zoster 1.00, Wart 0.00, Basal cell carcinoma 0.00, Psoraisis 0.00, Tinea circinata 0.00, 4.5ms\n",
            "Speed: 17.7ms preprocess, 4.5ms inference, 0.0ms postprocess per image at shape (1, 3, 224, 224)\n",
            "\n",
            "image 1/1 /content/Data-medical/test/Herpes Zoster/skin-infected-herpes-zoster-virus-260nw-292007369.jpg: 224x224 Herpes Zoster 1.00, Benign melanocytic nevus 0.00, Basal cell carcinoma 0.00, Wart 0.00, Normal skin 0.00, 4.5ms\n",
            "Speed: 9.3ms preprocess, 4.5ms inference, 0.0ms postprocess per image at shape (1, 3, 224, 224)\n",
            "\n",
            "image 1/1 /content/Data-medical/test/Herpes Zoster/c0147985-800px-wm.jpg: 224x224 Herpes Zoster 1.00, Basal cell carcinoma 0.00, Tinea circinata 0.00, Benign melanocytic nevus 0.00, Normal skin 0.00, 5.0ms\n",
            "Speed: 29.5ms preprocess, 5.0ms inference, 0.0ms postprocess per image at shape (1, 3, 224, 224)\n",
            "\n",
            "image 1/1 /content/Data-medical/test/Herpes Zoster/IMG-20250314-WA0004.jpg: 224x224 Herpes Zoster 1.00, Tinea circinata 0.00, Tinea Versicolor 0.00, Basal cell carcinoma 0.00, Wart 0.00, 4.9ms\n",
            "Speed: 99.4ms preprocess, 4.9ms inference, 0.0ms postprocess per image at shape (1, 3, 224, 224)\n",
            "\n",
            "image 1/1 /content/Data-medical/test/Herpes Zoster/c13058_detail.jpg: 224x224 Herpes Zoster 0.96, Wart 0.04, Psoraisis 0.00, Vitiligo 0.00, Basal cell carcinoma 0.00, 4.9ms\n",
            "Speed: 22.9ms preprocess, 4.9ms inference, 0.0ms postprocess per image at shape (1, 3, 224, 224)\n",
            "\n",
            "image 1/1 /content/Data-medical/test/Herpes Zoster/zoster-16.jpg: 224x224 Herpes Zoster 1.00, Alopecia areata 0.00, Benign melanocytic nevus 0.00, Normal skin 0.00, Basal cell carcinoma 0.00, 4.7ms\n",
            "Speed: 15.4ms preprocess, 4.7ms inference, 0.0ms postprocess per image at shape (1, 3, 224, 224)\n",
            "\n",
            "image 1/1 /content/Data-medical/test/Herpes Zoster/zoster-04.jpg: 224x224 Herpes Zoster 1.00, Psoraisis 0.00, Vitiligo 0.00, Tinea circinata 0.00, Alopecia areata 0.00, 4.7ms\n",
            "Speed: 12.6ms preprocess, 4.7ms inference, 0.0ms postprocess per image at shape (1, 3, 224, 224)\n",
            "\n",
            "image 1/1 /content/Data-medical/test/Herpes Zoster/zoster-03.jpg: 224x224 Herpes Zoster 1.00, Melanoma 0.00, Vitiligo 0.00, Basal cell carcinoma 0.00, Tinea circinata 0.00, 4.9ms\n",
            "Speed: 22.9ms preprocess, 4.9ms inference, 0.0ms postprocess per image at shape (1, 3, 224, 224)\n",
            "\n",
            "image 1/1 /content/Data-medical/test/Herpes Zoster/banner-what-is-shingles-mobile.jpg: 224x224 Herpes Zoster 1.00, Basal cell carcinoma 0.00, Wart 0.00, Benign melanocytic nevus 0.00, Tinea circinata 0.00, 5.0ms\n",
            "Speed: 59.5ms preprocess, 5.0ms inference, 0.0ms postprocess per image at shape (1, 3, 224, 224)\n",
            "\n",
            "image 1/1 /content/Data-medical/test/Herpes Zoster/zoster-02.jpg: 224x224 Herpes Zoster 1.00, Tinea Versicolor 0.00, Psoraisis 0.00, Tinea circinata 0.00, Vitiligo 0.00, 4.9ms\n",
            "Speed: 17.5ms preprocess, 4.9ms inference, 0.0ms postprocess per image at shape (1, 3, 224, 224)\n",
            "\n",
            "image 1/1 /content/Data-medical/test/Tinea capitis/Tinea-Hay.png: 224x224 Tinea capitis 1.00, Wart 0.00, Basal cell carcinoma 0.00, Psoraisis 0.00, Tinea circinata 0.00, 4.6ms\n",
            "Speed: 2.4ms preprocess, 4.6ms inference, 0.0ms postprocess per image at shape (1, 3, 224, 224)\n",
            "\n",
            "image 1/1 /content/Data-medical/test/Tinea capitis/Tinea_capitis20.jpg: 224x224 Tinea capitis 1.00, Alopecia areata 0.00, Normal skin 0.00, Tinea Versicolor 0.00, Tinea circinata 0.00, 4.8ms\n",
            "Speed: 21.2ms preprocess, 4.8ms inference, 0.0ms postprocess per image at shape (1, 3, 224, 224)\n",
            "\n",
            "image 1/1 /content/Data-medical/test/Tinea capitis/mja251588-fig-0001-m-1.png: 224x224 Tinea capitis 1.00, Alopecia areata 0.00, Psoraisis 0.00, Herpes Zoster 0.00, Melanoma 0.00, 4.5ms\n",
            "Speed: 2.1ms preprocess, 4.5ms inference, 0.0ms postprocess per image at shape (1, 3, 224, 224)\n",
            "\n",
            "image 1/1 /content/Data-medical/test/Tinea capitis/tigna-capelli.jpg: 224x224 Tinea capitis 1.00, Alopecia areata 0.00, Basal cell carcinoma 0.00, Herpes Zoster 0.00, Wart 0.00, 4.3ms\n",
            "Speed: 5.4ms preprocess, 4.3ms inference, 0.0ms postprocess per image at shape (1, 3, 224, 224)\n",
            "\n",
            "image 1/1 /content/Data-medical/test/Tinea capitis/F1.large (3).jpg: 224x224 Tinea capitis 1.00, Tinea circinata 0.00, Psoraisis 0.00, Basal cell carcinoma 0.00, Alopecia areata 0.00, 4.3ms\n",
            "Speed: 9.1ms preprocess, 4.3ms inference, 0.1ms postprocess per image at shape (1, 3, 224, 224)\n",
            "\n",
            "image 1/1 /content/Data-medical/test/Tinea capitis/4803_1.jpg: 224x224 Tinea capitis 1.00, Psoraisis 0.00, Alopecia areata 0.00, Tinea circinata 0.00, Melanoma 0.00, 4.9ms\n",
            "Speed: 46.7ms preprocess, 4.9ms inference, 0.0ms postprocess per image at shape (1, 3, 224, 224)\n",
            "\n",
            "image 1/1 /content/Data-medical/test/Tinea capitis/IMG-20250623-WA0007.jpg: 224x224 Tinea capitis 1.00, Alopecia areata 0.00, Tinea circinata 0.00, Psoraisis 0.00, Vitiligo 0.00, 4.9ms\n",
            "Speed: 60.8ms preprocess, 4.9ms inference, 0.0ms postprocess per image at shape (1, 3, 224, 224)\n",
            "\n",
            "image 1/1 /content/Data-medical/test/Tinea capitis/Tinea_capitis24.jpg: 224x224 Tinea capitis 0.98, Wart 0.02, Psoraisis 0.00, Basal cell carcinoma 0.00, Alopecia areata 0.00, 5.0ms\n",
            "Speed: 17.7ms preprocess, 5.0ms inference, 0.1ms postprocess per image at shape (1, 3, 224, 224)\n",
            "\n",
            "image 1/1 /content/Data-medical/test/Tinea capitis/12879_2019_4144_Fig1_HTML.png: 224x224 Tinea capitis 1.00, Herpes Zoster 0.00, Tinea circinata 0.00, Alopecia areata 0.00, Melanoma 0.00, 4.7ms\n",
            "Speed: 4.5ms preprocess, 4.7ms inference, 0.0ms postprocess per image at shape (1, 3, 224, 224)\n",
            "\n",
            "image 1/1 /content/Data-medical/test/Tinea capitis/Tinea-capitis-presentation-in-Xinjiang-A-Tinea-capitis-White-tinea-localized-patch_Q320 (3).jpg: 224x224 Tinea capitis 1.00, Tinea circinata 0.00, Alopecia areata 0.00, Wart 0.00, Basal cell carcinoma 0.00, 4.5ms\n",
            "Speed: 4.3ms preprocess, 4.5ms inference, 0.0ms postprocess per image at shape (1, 3, 224, 224)\n",
            "\n",
            "image 1/1 /content/Data-medical/test/Tinea capitis/tineaCapitisRingwormofScalp_31428_lg.jpg: 224x224 Tinea capitis 1.00, Psoraisis 0.00, Vitiligo 0.00, Alopecia areata 0.00, Melanoma 0.00, 4.6ms\n",
            "Speed: 15.0ms preprocess, 4.6ms inference, 0.0ms postprocess per image at shape (1, 3, 224, 224)\n",
            "\n",
            "image 1/1 /content/Data-medical/test/Tinea capitis/IMG-20240625-WA0023.jpg: 224x224 Alopecia areata 0.77, Tinea capitis 0.23, Basal cell carcinoma 0.00, Psoraisis 0.00, Vitiligo 0.00, 5.0ms\n",
            "Speed: 55.8ms preprocess, 5.0ms inference, 0.0ms postprocess per image at shape (1, 3, 224, 224)\n",
            "\n",
            "image 1/1 /content/Data-medical/test/Tinea capitis/tinea-capitis-250x250.jpg: 224x224 Tinea capitis 1.00, Psoraisis 0.00, Alopecia areata 0.00, Herpes Zoster 0.00, Wart 0.00, 4.4ms\n",
            "Speed: 5.6ms preprocess, 4.4ms inference, 0.0ms postprocess per image at shape (1, 3, 224, 224)\n",
            "\n",
            "image 1/1 /content/Data-medical/test/Tinea capitis/B9780323071543000409_f31-02ac-97803230715431.jpg: 224x224 Tinea capitis 1.00, Alopecia areata 0.00, Basal cell carcinoma 0.00, Herpes Zoster 0.00, Psoraisis 0.00, 4.8ms\n",
            "Speed: 4.8ms preprocess, 4.8ms inference, 0.0ms postprocess per image at shape (1, 3, 224, 224)\n",
            "\n",
            "image 1/1 /content/Data-medical/test/Tinea circinata/Tinea_corporis39.jpg: 224x224 Tinea circinata 1.00, Wart 0.00, Psoraisis 0.00, Basal cell carcinoma 0.00, Vitiligo 0.00, 4.6ms\n",
            "Speed: 14.1ms preprocess, 4.6ms inference, 0.0ms postprocess per image at shape (1, 3, 224, 224)\n",
            "\n",
            "image 1/1 /content/Data-medical/test/Tinea circinata/Tinea_corporis33.jpg: 224x224 Tinea circinata 1.00, Psoraisis 0.00, Tinea capitis 0.00, Wart 0.00, Alopecia areata 0.00, 4.6ms\n",
            "Speed: 13.8ms preprocess, 4.6ms inference, 0.0ms postprocess per image at shape (1, 3, 224, 224)\n",
            "\n",
            "image 1/1 /content/Data-medical/test/Tinea circinata/Tinea-corporis-over-abdomen-showing-erythematous-scaly-lesions-annular-sharply.png: 224x224 Tinea circinata 0.95, Normal skin 0.02, Wart 0.02, Tinea Versicolor 0.00, Alopecia areata 0.00, 4.5ms\n",
            "Speed: 5.5ms preprocess, 4.5ms inference, 0.0ms postprocess per image at shape (1, 3, 224, 224)\n",
            "\n",
            "image 1/1 /content/Data-medical/test/Tinea circinata/TineaCorporis10Samlaska-1024x683.jpg: 224x224 Basal cell carcinoma 0.76, Tinea circinata 0.14, Wart 0.05, Psoraisis 0.05, Herpes Zoster 0.00, 4.9ms\n",
            "Speed: 52.8ms preprocess, 4.9ms inference, 0.0ms postprocess per image at shape (1, 3, 224, 224)\n",
            "\n",
            "image 1/1 /content/Data-medical/test/Tinea circinata/Tinea corporis_Ring worm.jpg: 224x224 Tinea circinata 1.00, Psoraisis 0.00, Basal cell carcinoma 0.00, Vitiligo 0.00, Wart 0.00, 4.6ms\n",
            "Speed: 8.0ms preprocess, 4.6ms inference, 0.0ms postprocess per image at shape (1, 3, 224, 224)\n",
            "\n",
            "image 1/1 /content/Data-medical/test/Tinea circinata/243467.jpg: 224x224 Tinea circinata 1.00, Psoraisis 0.00, Herpes Zoster 0.00, Tinea capitis 0.00, Basal cell carcinoma 0.00, 4.4ms\n",
            "Speed: 3.2ms preprocess, 4.4ms inference, 0.0ms postprocess per image at shape (1, 3, 224, 224)\n",
            "\n",
            "image 1/1 /content/Data-medical/test/Tinea circinata/tincorp15.jpg: 224x224 Alopecia areata 0.75, Wart 0.23, Normal skin 0.01, Basal cell carcinoma 0.01, Psoraisis 0.00, 4.3ms\n",
            "Speed: 8.4ms preprocess, 4.3ms inference, 0.0ms postprocess per image at shape (1, 3, 224, 224)\n",
            "\n",
            "image 1/1 /content/Data-medical/test/Tinea circinata/VWH_DermNet_Ringworm_01-1c12fdbf9fec43ab83fde37f624af748.jpg: 224x224 Tinea circinata 1.00, Psoraisis 0.00, Basal cell carcinoma 0.00, Wart 0.00, Melanoma 0.00, 4.6ms\n",
            "Speed: 9.4ms preprocess, 4.6ms inference, 0.0ms postprocess per image at shape (1, 3, 224, 224)\n",
            "\n",
            "image 1/1 /content/Data-medical/test/Tinea circinata/july-14-2024-layyah-punjab-260nw-2489016295 (1).jpg: 224x224 Tinea circinata 1.00, Wart 0.00, Herpes Zoster 0.00, Normal skin 0.00, Psoraisis 0.00, 4.6ms\n",
            "Speed: 10.5ms preprocess, 4.6ms inference, 0.0ms postprocess per image at shape (1, 3, 224, 224)\n",
            "\n",
            "image 1/1 /content/Data-medical/test/Tinea circinata/Tinea_corporis77.jpg: 224x224 Tinea circinata 1.00, Psoraisis 0.00, Tinea capitis 0.00, Wart 0.00, Vitiligo 0.00, 4.9ms\n",
            "Speed: 6.9ms preprocess, 4.9ms inference, 0.0ms postprocess per image at shape (1, 3, 224, 224)\n",
            "\n",
            "image 1/1 /content/Data-medical/test/Tinea circinata/Tinea_corporis21 (1).jpg: 224x224 Tinea circinata 1.00, Herpes Zoster 0.00, Psoraisis 0.00, Melanoma 0.00, Basal cell carcinoma 0.00, 4.9ms\n",
            "Speed: 17.2ms preprocess, 4.9ms inference, 0.0ms postprocess per image at shape (1, 3, 224, 224)\n",
            "\n",
            "image 1/1 /content/Data-medical/test/Tinea circinata/M2700328.jpg: 224x224 Tinea circinata 1.00, Wart 0.00, Psoraisis 0.00, Vitiligo 0.00, Herpes Zoster 0.00, 4.5ms\n",
            "Speed: 5.1ms preprocess, 4.5ms inference, 0.0ms postprocess per image at shape (1, 3, 224, 224)\n",
            "\n",
            "image 1/1 /content/Data-medical/test/Tinea circinata/Tinea_corporis99 (1).jpg: 224x224 Tinea circinata 0.73, Herpes Zoster 0.27, Normal skin 0.00, Psoraisis 0.00, Vitiligo 0.00, 4.8ms\n",
            "Speed: 15.0ms preprocess, 4.8ms inference, 0.0ms postprocess per image at shape (1, 3, 224, 224)\n",
            "\n",
            "image 1/1 /content/Data-medical/test/Tinea circinata/1000_F_365403483_hLUsyJstsMfhJJXjQzMbAjNozLZ5rsAP.jpg: 224x224 Tinea circinata 1.00, Herpes Zoster 0.00, Tinea Versicolor 0.00, Melanoma 0.00, Basal cell carcinoma 0.00, 5.5ms\n",
            "Speed: 54.4ms preprocess, 5.5ms inference, 0.0ms postprocess per image at shape (1, 3, 224, 224)\n",
            "\n",
            "image 1/1 /content/Data-medical/test/Tinea circinata/Tinea_corporis29.jpg: 224x224 Tinea circinata 1.00, Psoraisis 0.00, Tinea capitis 0.00, Normal skin 0.00, Vitiligo 0.00, 4.7ms\n",
            "Speed: 10.0ms preprocess, 4.7ms inference, 0.0ms postprocess per image at shape (1, 3, 224, 224)\n",
            "\n",
            "image 1/1 /content/Data-medical/test/Tinea circinata/tineaCorporisRingwormofBody_852_lg.jpg: 224x224 Tinea circinata 1.00, Tinea capitis 0.00, Herpes Zoster 0.00, Melanoma 0.00, Psoraisis 0.00, 4.8ms\n",
            "Speed: 20.9ms preprocess, 4.8ms inference, 0.0ms postprocess per image at shape (1, 3, 224, 224)\n",
            "\n",
            "image 1/1 /content/Data-medical/test/Tinea circinata/FUNGAL-.jpeg: 224x224 Tinea circinata 1.00, Psoraisis 0.00, Benign melanocytic nevus 0.00, Melanoma 0.00, Vitiligo 0.00, 4.5ms\n",
            "Speed: 2.3ms preprocess, 4.5ms inference, 0.0ms postprocess per image at shape (1, 3, 224, 224)\n",
            "\n",
            "image 1/1 /content/Data-medical/test/Psoraisis/Psoriasis-Chronic-Plaque-116.jpg: 224x224 Psoraisis 1.00, Wart 0.00, Tinea Versicolor 0.00, Alopecia areata 0.00, Melanoma 0.00, 4.9ms\n",
            "Speed: 35.7ms preprocess, 4.9ms inference, 0.0ms postprocess per image at shape (1, 3, 224, 224)\n",
            "\n",
            "image 1/1 /content/Data-medical/test/Psoraisis/what-is-scalp-psoriasis.jpg: 224x224 Tinea Versicolor 0.63, Wart 0.35, Tinea capitis 0.01, Psoraisis 0.01, Basal cell carcinoma 0.00, 4.9ms\n",
            "Speed: 62.5ms preprocess, 4.9ms inference, 0.0ms postprocess per image at shape (1, 3, 224, 224)\n",
            "\n",
            "image 1/1 /content/Data-medical/test/Psoraisis/Psoriasis-Chronic-Plaque-97.jpg: 224x224 Psoraisis 1.00, Tinea circinata 0.00, Wart 0.00, Alopecia areata 0.00, Normal skin 0.00, 4.5ms\n",
            "Speed: 4.7ms preprocess, 4.5ms inference, 0.0ms postprocess per image at shape (1, 3, 224, 224)\n",
            "\n",
            "image 1/1 /content/Data-medical/test/Psoraisis/cosentyx.jpg: 224x224 Psoraisis 1.00, Wart 0.00, Tinea circinata 0.00, Tinea Versicolor 0.00, Melanoma 0.00, 4.3ms\n",
            "Speed: 2.7ms preprocess, 4.3ms inference, 0.0ms postprocess per image at shape (1, 3, 224, 224)\n",
            "\n",
            "image 1/1 /content/Data-medical/test/Psoraisis/20250126_111044.jpg: 224x224 Psoraisis 1.00, Wart 0.00, Tinea circinata 0.00, Herpes Zoster 0.00, Basal cell carcinoma 0.00, 4.9ms\n",
            "Speed: 39.5ms preprocess, 4.9ms inference, 0.1ms postprocess per image at shape (1, 3, 224, 224)\n",
            "\n",
            "image 1/1 /content/Data-medical/test/Psoraisis/Psoriasis-Chronic-Plaque-138.jpg: 224x224 Psoraisis 1.00, Melanoma 0.00, Wart 0.00, Basal cell carcinoma 0.00, Tinea circinata 0.00, 4.6ms\n",
            "Speed: 4.6ms preprocess, 4.6ms inference, 0.0ms postprocess per image at shape (1, 3, 224, 224)\n",
            "\n",
            "image 1/1 /content/Data-medical/test/Psoraisis/plaque-psoriasis-0012.jpg: 224x224 Psoraisis 1.00, Wart 0.00, Tinea Versicolor 0.00, Tinea circinata 0.00, Melanoma 0.00, 6.4ms\n",
            "Speed: 20.9ms preprocess, 6.4ms inference, 0.0ms postprocess per image at shape (1, 3, 224, 224)\n",
            "\n",
            "image 1/1 /content/Data-medical/test/Psoraisis/Psoriasis-Chronic-Plaque-126.jpg: 224x224 Psoraisis 1.00, Tinea circinata 0.00, Vitiligo 0.00, Wart 0.00, Alopecia areata 0.00, 4.8ms\n",
            "Speed: 14.8ms preprocess, 4.8ms inference, 0.0ms postprocess per image at shape (1, 3, 224, 224)\n",
            "\n",
            "image 1/1 /content/Data-medical/test/Psoraisis/Psoriasis-Chronic-Plaque-16.jpg: 224x224 Psoraisis 1.00, Wart 0.00, Melanoma 0.00, Basal cell carcinoma 0.00, Tinea Versicolor 0.00, 4.6ms\n",
            "Speed: 4.7ms preprocess, 4.6ms inference, 0.0ms postprocess per image at shape (1, 3, 224, 224)\n",
            "\n",
            "image 1/1 /content/Data-medical/test/Psoraisis/Lichen-Planus-Hypertrophic-20.jpg: 224x224 Psoraisis 1.00, Tinea circinata 0.00, Wart 0.00, Tinea capitis 0.00, Melanoma 0.00, 4.9ms\n",
            "Speed: 20.7ms preprocess, 4.9ms inference, 0.1ms postprocess per image at shape (1, 3, 224, 224)\n",
            "\n",
            "image 1/1 /content/Data-medical/test/Psoraisis/What-are-the-causes-and-symptoms-of-psoriasis.jpg: 224x224 Herpes Zoster 0.90, Psoraisis 0.07, Tinea circinata 0.03, Tinea capitis 0.00, Basal cell carcinoma 0.00, 4.9ms\n",
            "Speed: 28.9ms preprocess, 4.9ms inference, 0.0ms postprocess per image at shape (1, 3, 224, 224)\n",
            "\n",
            "image 1/1 /content/Data-medical/test/Psoraisis/Psoriasis-Chronic-Plaque-117.jpg: 224x224 Psoraisis 1.00, Wart 0.00, Tinea capitis 0.00, Alopecia areata 0.00, Tinea circinata 0.00, 5.0ms\n",
            "Speed: 26.0ms preprocess, 5.0ms inference, 0.0ms postprocess per image at shape (1, 3, 224, 224)\n",
            "\n",
            "image 1/1 /content/Data-medical/test/Psoraisis/Palmar_Psoriasis_1600x.jpg: 224x224 Psoraisis 1.00, Wart 0.00, Vitiligo 0.00, Herpes Zoster 0.00, Tinea circinata 0.00, 4.9ms\n",
            "Speed: 95.8ms preprocess, 4.9ms inference, 0.0ms postprocess per image at shape (1, 3, 224, 224)\n",
            "\n",
            "image 1/1 /content/Data-medical/test/Psoraisis/scalp-psoriasis-forehead-hairline-scaled.jpg: 224x224 Psoraisis 1.00, Alopecia areata 0.00, Wart 0.00, Herpes Zoster 0.00, Tinea capitis 0.00, 4.8ms\n",
            "Speed: 20.8ms preprocess, 4.8ms inference, 0.0ms postprocess per image at shape (1, 3, 224, 224)\n",
            "\n",
            "image 1/1 /content/Data-medical/test/Psoraisis/shutterstock_690014677-scaled-pv0tj4ztscz0raounu3osm972coech17x9pzzikvg0.jpg: 224x224 Psoraisis 1.00, Tinea circinata 0.00, Wart 0.00, Vitiligo 0.00, Normal skin 0.00, 4.8ms\n",
            "Speed: 9.4ms preprocess, 4.8ms inference, 0.0ms postprocess per image at shape (1, 3, 224, 224)\n",
            "\n",
            "image 1/1 /content/Data-medical/test/Psoraisis/psoriasis-scalp-92.jpg: 224x224 Psoraisis 1.00, Tinea Versicolor 0.00, Melanoma 0.00, Tinea circinata 0.00, Normal skin 0.00, 4.6ms\n",
            "Speed: 4.5ms preprocess, 4.6ms inference, 0.0ms postprocess per image at shape (1, 3, 224, 224)\n",
            "\n",
            "image 1/1 /content/Data-medical/test/Psoraisis/psoriasis_pictures_329024.jpg: 224x224 Psoraisis 1.00, Tinea Versicolor 0.00, Vitiligo 0.00, Melanoma 0.00, Wart 0.00, 5.0ms\n",
            "Speed: 75.8ms preprocess, 5.0ms inference, 0.0ms postprocess per image at shape (1, 3, 224, 224)\n",
            "\n",
            "image 1/1 /content/Data-medical/test/Psoraisis/psoriasis-750x360.jpg: 224x224 Psoraisis 1.00, Tinea capitis 0.00, Tinea circinata 0.00, Herpes Zoster 0.00, Vitiligo 0.00, 4.8ms\n",
            "Speed: 22.0ms preprocess, 4.8ms inference, 0.0ms postprocess per image at shape (1, 3, 224, 224)\n",
            "\n",
            "image 1/1 /content/Data-medical/test/Psoraisis/Psoriasis-Chronic-Plaque-96.jpg: 224x224 Psoraisis 1.00, Wart 0.00, Tinea circinata 0.00, Normal skin 0.00, Herpes Zoster 0.00, 4.7ms\n",
            "Speed: 4.6ms preprocess, 4.7ms inference, 0.0ms postprocess per image at shape (1, 3, 224, 224)\n",
            "\n",
            "image 1/1 /content/Data-medical/test/Psoraisis/Screenshot_20250131_233934_MobiOffice.jpg: 224x224 Psoraisis 1.00, Tinea circinata 0.00, Vitiligo 0.00, Wart 0.00, Melanoma 0.00, 5.0ms\n",
            "Speed: 47.0ms preprocess, 5.0ms inference, 0.0ms postprocess per image at shape (1, 3, 224, 224)\n",
            "\n",
            "image 1/1 /content/Data-medical/test/Psoraisis/Psoriasis-Chronic-Plaque-12.jpg: 224x224 Psoraisis 1.00, Melanoma 0.00, Tinea Versicolor 0.00, Vitiligo 0.00, Tinea circinata 0.00, 4.6ms\n",
            "Speed: 4.6ms preprocess, 4.6ms inference, 0.0ms postprocess per image at shape (1, 3, 224, 224)\n",
            "\n",
            "image 1/1 /content/Data-medical/test/Psoraisis/PXL_20210607_142603273_header.jpg: 224x224 Tinea circinata 0.99, Psoraisis 0.01, Melanoma 0.00, Benign melanocytic nevus 0.00, Wart 0.00, 4.6ms\n",
            "Speed: 7.5ms preprocess, 4.6ms inference, 0.0ms postprocess per image at shape (1, 3, 224, 224)\n",
            "\n",
            "image 1/1 /content/Data-medical/test/Psoraisis/Screenshot_20250131_233913_MobiOffice.jpg: 224x224 Psoraisis 1.00, Tinea circinata 0.00, Wart 0.00, Vitiligo 0.00, Alopecia areata 0.00, 5.1ms\n",
            "Speed: 61.8ms preprocess, 5.1ms inference, 0.0ms postprocess per image at shape (1, 3, 224, 224)\n",
            "\n",
            "image 1/1 /content/Data-medical/test/Psoraisis/Psoriasis.jpg: 224x224 Psoraisis 1.00, Tinea circinata 0.00, Vitiligo 0.00, Wart 0.00, Herpes Zoster 0.00, 4.7ms\n",
            "Speed: 6.1ms preprocess, 4.7ms inference, 0.0ms postprocess per image at shape (1, 3, 224, 224)\n",
            "\n",
            "image 1/1 /content/Data-medical/test/Psoraisis/Psoriasis-Chronic-Plaque-92.jpg: 224x224 Psoraisis 1.00, Tinea capitis 0.00, Alopecia areata 0.00, Wart 0.00, Tinea circinata 0.00, 5.1ms\n",
            "Speed: 30.9ms preprocess, 5.1ms inference, 0.0ms postprocess per image at shape (1, 3, 224, 224)\n",
            "\n",
            "image 1/1 /content/Data-medical/test/Normal skin/33.2.jpg: 224x224 Normal skin 1.00, Vitiligo 0.00, Tinea capitis 0.00, Alopecia areata 0.00, Tinea Versicolor 0.00, 4.8ms\n",
            "Speed: 3.0ms preprocess, 4.8ms inference, 0.0ms postprocess per image at shape (1, 3, 224, 224)\n",
            "\n",
            "image 1/1 /content/Data-medical/test/Normal skin/img71.jpg: 224x224 Normal skin 1.00, Vitiligo 0.00, Wart 0.00, Psoraisis 0.00, Tinea circinata 0.00, 5.0ms\n",
            "Speed: 11.6ms preprocess, 5.0ms inference, 0.0ms postprocess per image at shape (1, 3, 224, 224)\n",
            "\n",
            "image 1/1 /content/Data-medical/test/Normal skin/4.4.jpg: 224x224 Normal skin 1.00, Vitiligo 0.00, Wart 0.00, Alopecia areata 0.00, Tinea circinata 0.00, 4.8ms\n",
            "Speed: 2.4ms preprocess, 4.8ms inference, 0.0ms postprocess per image at shape (1, 3, 224, 224)\n",
            "\n",
            "image 1/1 /content/Data-medical/test/Normal skin/Image_7.2.jpg: 224x224 Normal skin 0.99, Wart 0.01, Vitiligo 0.00, Basal cell carcinoma 0.00, Psoraisis 0.00, 5.1ms\n",
            "Speed: 11.0ms preprocess, 5.1ms inference, 0.0ms postprocess per image at shape (1, 3, 224, 224)\n",
            "\n",
            "image 1/1 /content/Data-medical/test/Normal skin/img256.jpg: 224x224 Vitiligo 1.00, Wart 0.00, Normal skin 0.00, Basal cell carcinoma 0.00, Alopecia areata 0.00, 5.0ms\n",
            "Speed: 12.0ms preprocess, 5.0ms inference, 0.0ms postprocess per image at shape (1, 3, 224, 224)\n",
            "\n",
            "image 1/1 /content/Data-medical/test/Normal skin/img7.jpg: 224x224 Normal skin 1.00, Wart 0.00, Herpes Zoster 0.00, Psoraisis 0.00, Vitiligo 0.00, 4.6ms\n",
            "Speed: 4.2ms preprocess, 4.6ms inference, 0.0ms postprocess per image at shape (1, 3, 224, 224)\n",
            "\n",
            "image 1/1 /content/Data-medical/test/Normal skin/20.6.jpg: 224x224 Normal skin 1.00, Basal cell carcinoma 0.00, Wart 0.00, Tinea circinata 0.00, Benign melanocytic nevus 0.00, 4.7ms\n",
            "Speed: 3.9ms preprocess, 4.7ms inference, 0.0ms postprocess per image at shape (1, 3, 224, 224)\n",
            "\n",
            "image 1/1 /content/Data-medical/test/Normal skin/7.10.jpg: 224x224 Normal skin 1.00, Benign melanocytic nevus 0.00, Wart 0.00, Alopecia areata 0.00, Vitiligo 0.00, 4.7ms\n",
            "Speed: 8.1ms preprocess, 4.7ms inference, 0.0ms postprocess per image at shape (1, 3, 224, 224)\n",
            "\n",
            "image 1/1 /content/Data-medical/test/Normal skin/img229.jpg: 224x224 Normal skin 1.00, Wart 0.00, Vitiligo 0.00, Benign melanocytic nevus 0.00, Melanoma 0.00, 4.6ms\n",
            "Speed: 6.4ms preprocess, 4.6ms inference, 0.0ms postprocess per image at shape (1, 3, 224, 224)\n",
            "\n",
            "image 1/1 /content/Data-medical/test/Normal skin/img75.jpg: 224x224 Normal skin 1.00, Wart 0.00, Tinea circinata 0.00, Vitiligo 0.00, Psoraisis 0.00, 4.6ms\n",
            "Speed: 2.0ms preprocess, 4.6ms inference, 0.0ms postprocess per image at shape (1, 3, 224, 224)\n",
            "\n",
            "image 1/1 /content/Data-medical/test/Normal skin/NORMAL-SKIN-1024x576.jpg: 224x224 Normal skin 1.00, Wart 0.00, Tinea Versicolor 0.00, Melanoma 0.00, Vitiligo 0.00, 5.7ms\n",
            "Speed: 66.6ms preprocess, 5.7ms inference, 0.0ms postprocess per image at shape (1, 3, 224, 224)\n",
            "\n",
            "image 1/1 /content/Data-medical/test/Normal skin/35.4.jpg: 224x224 Normal skin 1.00, Vitiligo 0.00, Tinea circinata 0.00, Alopecia areata 0.00, Wart 0.00, 4.6ms\n",
            "Speed: 2.3ms preprocess, 4.6ms inference, 0.0ms postprocess per image at shape (1, 3, 224, 224)\n",
            "\n",
            "image 1/1 /content/Data-medical/test/Normal skin/img561.jpg: 224x224 Normal skin 1.00, Wart 0.00, Basal cell carcinoma 0.00, Tinea Versicolor 0.00, Vitiligo 0.00, 4.8ms\n",
            "Speed: 9.4ms preprocess, 4.8ms inference, 0.0ms postprocess per image at shape (1, 3, 224, 224)\n",
            "\n",
            "image 1/1 /content/Data-medical/test/Normal skin/img586.jpg: 224x224 Normal skin 1.00, Vitiligo 0.00, Tinea Versicolor 0.00, Alopecia areata 0.00, Wart 0.00, 4.5ms\n",
            "Speed: 3.7ms preprocess, 4.5ms inference, 0.0ms postprocess per image at shape (1, 3, 224, 224)\n",
            "\n",
            "image 1/1 /content/Data-medical/test/Normal skin/Image_21.jpg: 224x224 Normal skin 1.00, Tinea Versicolor 0.00, Vitiligo 0.00, Wart 0.00, Tinea circinata 0.00, 5.0ms\n",
            "Speed: 18.1ms preprocess, 5.0ms inference, 0.1ms postprocess per image at shape (1, 3, 224, 224)\n",
            "\n",
            "image 1/1 /content/Data-medical/test/Normal skin/img445.jpg: 224x224 Normal skin 0.59, Herpes Zoster 0.40, Vitiligo 0.00, Wart 0.00, Basal cell carcinoma 0.00, 4.6ms\n",
            "Speed: 6.0ms preprocess, 4.6ms inference, 0.0ms postprocess per image at shape (1, 3, 224, 224)\n",
            "\n",
            "image 1/1 /content/Data-medical/test/Normal skin/15.8.jpg: 224x224 Normal skin 0.96, Vitiligo 0.03, Psoraisis 0.02, Tinea circinata 0.00, Benign melanocytic nevus 0.00, 4.4ms\n",
            "Speed: 2.1ms preprocess, 4.4ms inference, 0.0ms postprocess per image at shape (1, 3, 224, 224)\n",
            "\n",
            "image 1/1 /content/Data-medical/test/Normal skin/34.9.jpg: 224x224 Normal skin 1.00, Wart 0.00, Tinea circinata 0.00, Tinea Versicolor 0.00, Vitiligo 0.00, 4.3ms\n",
            "Speed: 2.6ms preprocess, 4.3ms inference, 0.0ms postprocess per image at shape (1, 3, 224, 224)\n",
            "\n",
            "image 1/1 /content/Data-medical/test/Normal skin/img236.jpg: 224x224 Normal skin 0.99, Wart 0.01, Vitiligo 0.00, Tinea circinata 0.00, Psoraisis 0.00, 4.9ms\n",
            "Speed: 16.1ms preprocess, 4.9ms inference, 0.1ms postprocess per image at shape (1, 3, 224, 224)\n",
            "\n",
            "image 1/1 /content/Data-medical/test/Tinea Versicolor/3496.jpg: 224x224 Tinea Versicolor 1.00, Tinea circinata 0.00, Benign melanocytic nevus 0.00, Basal cell carcinoma 0.00, Herpes Zoster 0.00, 5.2ms\n",
            "Speed: 23.5ms preprocess, 5.2ms inference, 0.0ms postprocess per image at shape (1, 3, 224, 224)\n",
            "\n",
            "image 1/1 /content/Data-medical/test/Tinea Versicolor/1672_1.jpg: 224x224 Tinea Versicolor 0.96, Wart 0.01, Vitiligo 0.01, Tinea capitis 0.01, Tinea circinata 0.00, 6.4ms\n",
            "Speed: 23.4ms preprocess, 6.4ms inference, 0.0ms postprocess per image at shape (1, 3, 224, 224)\n",
            "\n",
            "image 1/1 /content/Data-medical/test/Tinea Versicolor/812_1.jpg: 224x224 Normal skin 0.81, Tinea Versicolor 0.19, Vitiligo 0.00, Tinea circinata 0.00, Wart 0.00, 5.7ms\n",
            "Speed: 104.0ms preprocess, 5.7ms inference, 0.0ms postprocess per image at shape (1, 3, 224, 224)\n",
            "\n",
            "image 1/1 /content/Data-medical/test/Tinea Versicolor/225 (18).jpeg: 224x224 Tinea Versicolor 0.99, Vitiligo 0.01, Tinea capitis 0.00, Tinea circinata 0.00, Wart 0.00, 4.6ms\n",
            "Speed: 2.5ms preprocess, 4.6ms inference, 0.0ms postprocess per image at shape (1, 3, 224, 224)\n",
            "\n",
            "image 1/1 /content/Data-medical/test/Tinea Versicolor/tineaVersicolor_13578_lg.jpg: 224x224 Tinea Versicolor 1.00, Psoraisis 0.00, Vitiligo 0.00, Melanoma 0.00, Tinea capitis 0.00, 5.1ms\n",
            "Speed: 17.1ms preprocess, 5.1ms inference, 0.0ms postprocess per image at shape (1, 3, 224, 224)\n",
            "\n",
            "image 1/1 /content/Data-medical/test/Tinea Versicolor/multiple-welldefine-pruritus-white-patch-260nw-2382312797 (2).jpg: 224x224 Tinea Versicolor 1.00, Vitiligo 0.00, Psoraisis 0.00, Melanoma 0.00, Wart 0.00, 4.6ms\n",
            "Speed: 6.2ms preprocess, 4.6ms inference, 0.0ms postprocess per image at shape (1, 3, 224, 224)\n",
            "\n",
            "image 1/1 /content/Data-medical/test/Tinea Versicolor/159_1.jpg: 224x224 Tinea Versicolor 1.00, Vitiligo 0.00, Psoraisis 0.00, Wart 0.00, Tinea circinata 0.00, 4.9ms\n",
            "Speed: 23.2ms preprocess, 4.9ms inference, 0.0ms postprocess per image at shape (1, 3, 224, 224)\n",
            "\n",
            "image 1/1 /content/Data-medical/test/Tinea Versicolor/13671872-Tinea-versicolor.jpg: 224x224 Tinea Versicolor 1.00, Tinea circinata 0.00, Psoraisis 0.00, Wart 0.00, Vitiligo 0.00, 5.1ms\n",
            "Speed: 8.1ms preprocess, 5.1ms inference, 0.1ms postprocess per image at shape (1, 3, 224, 224)\n",
            "\n",
            "image 1/1 /content/Data-medical/test/Tinea Versicolor/ad-24-444-g001-l-1.jpg: 224x224 Tinea Versicolor 1.00, Herpes Zoster 0.00, Vitiligo 0.00, Tinea circinata 0.00, Normal skin 0.00, 4.9ms\n",
            "Speed: 8.7ms preprocess, 4.9ms inference, 0.0ms postprocess per image at shape (1, 3, 224, 224)\n",
            "\n",
            "image 1/1 /content/Data-medical/test/Tinea Versicolor/ijd12345-fig-0001-m.png: 224x224 Tinea Versicolor 1.00, Wart 0.00, Tinea circinata 0.00, Psoraisis 0.00, Tinea capitis 0.00, 4.6ms\n",
            "Speed: 3.4ms preprocess, 4.6ms inference, 0.0ms postprocess per image at shape (1, 3, 224, 224)\n",
            "\n",
            "image 1/1 /content/Data-medical/test/Tinea Versicolor/shutterstock_1338409613_copy.width-320.png: 224x224 Tinea Versicolor 1.00, Melanoma 0.00, Basal cell carcinoma 0.00, Benign melanocytic nevus 0.00, Psoraisis 0.00, 4.5ms\n",
            "Speed: 2.5ms preprocess, 4.5ms inference, 0.0ms postprocess per image at shape (1, 3, 224, 224)\n",
            "\n",
            "image 1/1 /content/Data-medical/test/Tinea Versicolor/Tinea-versicolor-showing-hyperpigmented-lesions-upper-photos-and-hypopigmented-lesions.png: 224x224 Tinea Versicolor 1.00, Melanoma 0.00, Tinea circinata 0.00, Wart 0.00, Benign melanocytic nevus 0.00, 4.6ms\n",
            "Speed: 1.3ms preprocess, 4.6ms inference, 0.0ms postprocess per image at shape (1, 3, 224, 224)\n",
            "\n",
            "image 1/1 /content/Data-medical/test/Tinea Versicolor/271895_1_En_32_Fig11_HTML.jpg: 224x224 Tinea Versicolor 1.00, Wart 0.00, Psoraisis 0.00, Tinea circinata 0.00, Tinea capitis 0.00, 4.7ms\n",
            "Speed: 3.0ms preprocess, 4.7ms inference, 0.0ms postprocess per image at shape (1, 3, 224, 224)\n",
            "\n",
            "image 1/1 /content/Data-medical/test/Tinea Versicolor/225 (5).jpeg: 224x224 Tinea Versicolor 0.97, Tinea circinata 0.02, Normal skin 0.01, Wart 0.00, Basal cell carcinoma 0.00, 4.4ms\n",
            "Speed: 4.8ms preprocess, 4.4ms inference, 0.0ms postprocess per image at shape (1, 3, 224, 224)\n",
            "\n",
            "image 1/1 /content/Data-medical/test/Tinea Versicolor/istockphoto-2123361772-612x612.jpg: 224x224 Tinea Versicolor 1.00, Vitiligo 0.00, Wart 0.00, Psoraisis 0.00, Benign melanocytic nevus 0.00, 5.0ms\n",
            "Speed: 3.9ms preprocess, 5.0ms inference, 0.0ms postprocess per image at shape (1, 3, 224, 224)\n",
            "\n",
            "image 1/1 /content/Data-medical/test/Tinea Versicolor/684_1.jpg: 224x224 Psoraisis 0.49, Tinea Versicolor 0.24, Tinea circinata 0.15, Vitiligo 0.09, Herpes Zoster 0.03, 4.9ms\n",
            "Speed: 54.8ms preprocess, 4.9ms inference, 0.0ms postprocess per image at shape (1, 3, 224, 224)\n",
            "\n",
            "image 1/1 /content/Data-medical/test/Tinea Versicolor/fc755ae257d5eed3_8130.jpg: 224x224 Tinea Versicolor 0.99, Vitiligo 0.00, Wart 0.00, Tinea circinata 0.00, Normal skin 0.00, 4.5ms\n",
            "Speed: 4.7ms preprocess, 4.5ms inference, 0.0ms postprocess per image at shape (1, 3, 224, 224)\n",
            "\n",
            "image 1/1 /content/Data-medical/test/Tinea Versicolor/tinea-versicolor-6-27.jpg: 224x224 Tinea Versicolor 1.00, Vitiligo 0.00, Wart 0.00, Melanoma 0.00, Basal cell carcinoma 0.00, 4.5ms\n",
            "Speed: 5.3ms preprocess, 4.5ms inference, 0.0ms postprocess per image at shape (1, 3, 224, 224)\n",
            "\n",
            "image 1/1 /content/Data-medical/test/Tinea Versicolor/FB_IMG_1732646763859.jpg: 224x224 Tinea Versicolor 1.00, Vitiligo 0.00, Herpes Zoster 0.00, Psoraisis 0.00, Wart 0.00, 4.5ms\n",
            "Speed: 11.7ms preprocess, 4.5ms inference, 0.0ms postprocess per image at shape (1, 3, 224, 224)\n",
            "\n",
            "image 1/1 /content/Data-medical/test/Tinea Versicolor/qx854k6dpu691.jpg: 224x224 Tinea Versicolor 0.98, Basal cell carcinoma 0.01, Tinea circinata 0.00, Benign melanocytic nevus 0.00, Tinea capitis 0.00, 5.2ms\n",
            "Speed: 58.9ms preprocess, 5.2ms inference, 0.0ms postprocess per image at shape (1, 3, 224, 224)\n",
            "\n",
            "image 1/1 /content/Data-medical/test/Tinea Versicolor/3509.jpg: 224x224 Tinea Versicolor 0.88, Vitiligo 0.12, Tinea circinata 0.00, Psoraisis 0.00, Wart 0.00, 4.8ms\n",
            "Speed: 21.7ms preprocess, 4.8ms inference, 0.0ms postprocess per image at shape (1, 3, 224, 224)\n",
            "\n",
            "image 1/1 /content/Data-medical/test/Tinea Versicolor/is-this-just-due-to-sun-exposure-v0-bwl0edqouuad1.jpg: 224x224 Normal skin 0.64, Tinea Versicolor 0.36, Tinea circinata 0.00, Psoraisis 0.00, Vitiligo 0.00, 5.7ms\n",
            "Speed: 42.2ms preprocess, 5.7ms inference, 0.1ms postprocess per image at shape (1, 3, 224, 224)\n",
            "\n",
            "image 1/1 /content/Data-medical/test/Tinea Versicolor/225 (20).jpeg: 224x224 Tinea Versicolor 1.00, Vitiligo 0.00, Tinea capitis 0.00, Psoraisis 0.00, Wart 0.00, 5.3ms\n",
            "Speed: 2.5ms preprocess, 5.3ms inference, 0.0ms postprocess per image at shape (1, 3, 224, 224)\n",
            "\n",
            "image 1/1 /content/Data-medical/test/Vitiligo/roi376.jpg: 224x224 Vitiligo 1.00, Wart 0.00, Psoraisis 0.00, Alopecia areata 0.00, Melanoma 0.00, 5.2ms\n",
            "Speed: 24.3ms preprocess, 5.2ms inference, 0.0ms postprocess per image at shape (1, 3, 224, 224)\n",
            "\n",
            "image 1/1 /content/Data-medical/test/Vitiligo/roi385.jpg: 224x224 Vitiligo 1.00, Tinea circinata 0.00, Tinea Versicolor 0.00, Normal skin 0.00, Psoraisis 0.00, 4.9ms\n",
            "Speed: 3.0ms preprocess, 4.9ms inference, 0.0ms postprocess per image at shape (1, 3, 224, 224)\n",
            "\n",
            "image 1/1 /content/Data-medical/test/Vitiligo/ijdvl_2007_73_3_149_32708_2.jpg: 224x224 Vitiligo 1.00, Tinea Versicolor 0.00, Psoraisis 0.00, Wart 0.00, Melanoma 0.00, 4.9ms\n",
            "Speed: 20.3ms preprocess, 4.9ms inference, 0.0ms postprocess per image at shape (1, 3, 224, 224)\n",
            "\n",
            "image 1/1 /content/Data-medical/test/Vitiligo/vitiligo-minigraft-surgery_jpg.rf.46d97314f0ac38212c920aa973961b0f.jpg: 224x224 Vitiligo 1.00, Normal skin 0.00, Wart 0.00, Tinea circinata 0.00, Tinea Versicolor 0.00, 4.7ms\n",
            "Speed: 9.0ms preprocess, 4.7ms inference, 0.1ms postprocess per image at shape (1, 3, 224, 224)\n",
            "\n",
            "image 1/1 /content/Data-medical/test/Vitiligo/roi382.jpeg: 224x224 Vitiligo 1.00, Psoraisis 0.00, Wart 0.00, Normal skin 0.00, Herpes Zoster 0.00, 4.9ms\n",
            "Speed: 19.8ms preprocess, 4.9ms inference, 0.1ms postprocess per image at shape (1, 3, 224, 224)\n",
            "\n",
            "image 1/1 /content/Data-medical/test/Vitiligo/7921.jpeg: 224x224 Vitiligo 1.00, Basal cell carcinoma 0.00, Psoraisis 0.00, Alopecia areata 0.00, Wart 0.00, 5.4ms\n",
            "Speed: 11.0ms preprocess, 5.4ms inference, 0.0ms postprocess per image at shape (1, 3, 224, 224)\n",
            "\n",
            "image 1/1 /content/Data-medical/test/Vitiligo/IMG-20241120-WA0087.jpg: 224x224 Vitiligo 1.00, Normal skin 0.00, Tinea Versicolor 0.00, Melanoma 0.00, Benign melanocytic nevus 0.00, 5.0ms\n",
            "Speed: 74.1ms preprocess, 5.0ms inference, 0.0ms postprocess per image at shape (1, 3, 224, 224)\n",
            "\n",
            "image 1/1 /content/Data-medical/test/Vitiligo/IMG20230831102754.jpg: 224x224 Vitiligo 1.00, Wart 0.00, Basal cell carcinoma 0.00, Tinea Versicolor 0.00, Herpes Zoster 0.00, 4.7ms\n",
            "Speed: 11.6ms preprocess, 4.7ms inference, 0.0ms postprocess per image at shape (1, 3, 224, 224)\n",
            "\n",
            "image 1/1 /content/Data-medical/test/Vitiligo/roi14.jpg: 224x224 Vitiligo 0.99, Normal skin 0.01, Benign melanocytic nevus 0.00, Alopecia areata 0.00, Wart 0.00, 4.5ms\n",
            "Speed: 2.7ms preprocess, 4.5ms inference, 0.1ms postprocess per image at shape (1, 3, 224, 224)\n",
            "\n",
            "image 1/1 /content/Data-medical/test/Vitiligo/roi275.jpg: 224x224 Vitiligo 1.00, Melanoma 0.00, Psoraisis 0.00, Benign melanocytic nevus 0.00, Tinea circinata 0.00, 4.4ms\n",
            "Speed: 2.4ms preprocess, 4.4ms inference, 0.0ms postprocess per image at shape (1, 3, 224, 224)\n",
            "\n",
            "image 1/1 /content/Data-medical/test/Vitiligo/roi316.jpg: 224x224 Vitiligo 1.00, Normal skin 0.00, Wart 0.00, Tinea Versicolor 0.00, Tinea circinata 0.00, 4.3ms\n",
            "Speed: 2.4ms preprocess, 4.3ms inference, 0.0ms postprocess per image at shape (1, 3, 224, 224)\n",
            "\n",
            "image 1/1 /content/Data-medical/test/Vitiligo/roi404.jpg: 224x224 Vitiligo 1.00, Tinea circinata 0.00, Normal skin 0.00, Psoraisis 0.00, Wart 0.00, 4.3ms\n",
            "Speed: 5.1ms preprocess, 4.3ms inference, 0.0ms postprocess per image at shape (1, 3, 224, 224)\n",
            "\n",
            "image 1/1 /content/Data-medical/test/Vitiligo/roi403.jpg: 224x224 Vitiligo 1.00, Tinea circinata 0.00, Wart 0.00, Melanoma 0.00, Tinea Versicolor 0.00, 4.2ms\n",
            "Speed: 4.9ms preprocess, 4.2ms inference, 0.0ms postprocess per image at shape (1, 3, 224, 224)\n",
            "\n",
            "image 1/1 /content/Data-medical/test/Vitiligo/roi394.jpg: 224x224 Vitiligo 1.00, Wart 0.00, Melanoma 0.00, Tinea circinata 0.00, Benign melanocytic nevus 0.00, 5.0ms\n",
            "Speed: 104.6ms preprocess, 5.0ms inference, 0.1ms postprocess per image at shape (1, 3, 224, 224)\n",
            "\n",
            "image 1/1 /content/Data-medical/test/Vitiligo/10700.jpeg: 224x224 Vitiligo 1.00, Melanoma 0.00, Benign melanocytic nevus 0.00, Tinea circinata 0.00, Wart 0.00, 4.9ms\n",
            "Speed: 111.9ms preprocess, 4.9ms inference, 0.0ms postprocess per image at shape (1, 3, 224, 224)\n",
            "\n",
            "image 1/1 /content/Data-medical/test/Vitiligo/IMG20230831101046.jpg: 224x224 Vitiligo 1.00, Melanoma 0.00, Alopecia areata 0.00, Tinea Versicolor 0.00, Tinea capitis 0.00, 5.0ms\n",
            "Speed: 23.6ms preprocess, 5.0ms inference, 0.0ms postprocess per image at shape (1, 3, 224, 224)\n",
            "\n",
            "image 1/1 /content/Data-medical/test/Vitiligo/24.png: 224x224 Vitiligo 1.00, Tinea circinata 0.00, Tinea Versicolor 0.00, Melanoma 0.00, Psoraisis 0.00, 4.4ms\n",
            "Speed: 2.3ms preprocess, 4.4ms inference, 0.0ms postprocess per image at shape (1, 3, 224, 224)\n",
            "\n",
            "image 1/1 /content/Data-medical/test/Vitiligo/vitiligo-neck_jpg.rf.5e59cb664ac217f38ac145c4492adda7.jpg: 224x224 Vitiligo 1.00, Tinea circinata 0.00, Tinea Versicolor 0.00, Psoraisis 0.00, Herpes Zoster 0.00, 4.4ms\n",
            "Speed: 3.1ms preprocess, 4.4ms inference, 0.0ms postprocess per image at shape (1, 3, 224, 224)\n",
            "\n",
            "image 1/1 /content/Data-medical/test/Vitiligo/roi338.jpg: 224x224 Vitiligo 1.00, Herpes Zoster 0.00, Melanoma 0.00, Basal cell carcinoma 0.00, Tinea Versicolor 0.00, 4.4ms\n",
            "Speed: 2.9ms preprocess, 4.4ms inference, 0.0ms postprocess per image at shape (1, 3, 224, 224)\n",
            "\n",
            "image 1/1 /content/Data-medical/test/Vitiligo/12736.jpeg: 224x224 Vitiligo 1.00, Wart 0.00, Melanoma 0.00, Alopecia areata 0.00, Basal cell carcinoma 0.00, 4.9ms\n",
            "Speed: 23.2ms preprocess, 4.9ms inference, 0.0ms postprocess per image at shape (1, 3, 224, 224)\n",
            "\n",
            "image 1/1 /content/Data-medical/test/Vitiligo/WhatsApp Image 2024-09-17 at 12.15.38 PM.jpg: 224x224 Vitiligo 1.00, Tinea Versicolor 0.00, Wart 0.00, Tinea circinata 0.00, Melanoma 0.00, 4.8ms\n",
            "Speed: 9.8ms preprocess, 4.8ms inference, 0.0ms postprocess per image at shape (1, 3, 224, 224)\n",
            "\n",
            "image 1/1 /content/Data-medical/test/Vitiligo/10-4.jpg: 224x224 Vitiligo 1.00, Tinea circinata 0.00, Psoraisis 0.00, Herpes Zoster 0.00, Tinea Versicolor 0.00, 4.6ms\n",
            "Speed: 7.7ms preprocess, 4.6ms inference, 0.0ms postprocess per image at shape (1, 3, 224, 224)\n",
            "\n",
            "image 1/1 /content/Data-medical/test/Vitiligo/roi274.jpg: 224x224 Vitiligo 1.00, Tinea Versicolor 0.00, Tinea circinata 0.00, Melanoma 0.00, Benign melanocytic nevus 0.00, 4.5ms\n",
            "Speed: 2.9ms preprocess, 4.5ms inference, 0.0ms postprocess per image at shape (1, 3, 224, 224)\n",
            "\n",
            "image 1/1 /content/Data-medical/test/Vitiligo/roi378.jpg: 224x224 Vitiligo 1.00, Tinea circinata 0.00, Melanoma 0.00, Psoraisis 0.00, Tinea Versicolor 0.00, 4.6ms\n",
            "Speed: 5.3ms preprocess, 4.6ms inference, 0.0ms postprocess per image at shape (1, 3, 224, 224)\n",
            "\n",
            "image 1/1 /content/Data-medical/test/Vitiligo/IMG-20241120-WA0055.jpg: 224x224 Vitiligo 1.00, Tinea circinata 0.00, Benign melanocytic nevus 0.00, Tinea Versicolor 0.00, Melanoma 0.00, 5.0ms\n",
            "Speed: 82.4ms preprocess, 5.0ms inference, 0.1ms postprocess per image at shape (1, 3, 224, 224)\n",
            "\n",
            "image 1/1 /content/Data-medical/test/Vitiligo/66.png: 224x224 Vitiligo 0.99, Tinea capitis 0.01, Wart 0.00, Tinea Versicolor 0.00, Normal skin 0.00, 4.6ms\n",
            "Speed: 2.6ms preprocess, 4.6ms inference, 0.0ms postprocess per image at shape (1, 3, 224, 224)\n",
            "\n",
            "image 1/1 /content/Data-medical/test/Vitiligo/WhatsApp Image 2024-06-24 at 10.35.37 PM (4).jpeg: 224x224 Vitiligo 1.00, Tinea circinata 0.00, Tinea Versicolor 0.00, Wart 0.00, Psoraisis 0.00, 4.9ms\n",
            "Speed: 26.2ms preprocess, 4.9ms inference, 0.0ms postprocess per image at shape (1, 3, 224, 224)\n",
            "\n",
            "image 1/1 /content/Data-medical/test/Vitiligo/roi336.jpg: 224x224 Vitiligo 1.00, Wart 0.00, Tinea capitis 0.00, Herpes Zoster 0.00, Tinea Versicolor 0.00, 5.3ms\n",
            "Speed: 2.7ms preprocess, 5.3ms inference, 0.0ms postprocess per image at shape (1, 3, 224, 224)\n",
            "\n",
            "image 1/1 /content/Data-medical/test/Vitiligo/roi423.jpg: 224x224 Normal skin 0.54, Vitiligo 0.45, Wart 0.01, Alopecia areata 0.00, Psoraisis 0.00, 4.4ms\n",
            "Speed: 2.1ms preprocess, 4.4ms inference, 0.0ms postprocess per image at shape (1, 3, 224, 224)\n",
            "\n",
            "image 1/1 /content/Data-medical/test/Vitiligo/roi20.jpg: 224x224 Vitiligo 1.00, Benign melanocytic nevus 0.00, Normal skin 0.00, Melanoma 0.00, Tinea circinata 0.00, 4.4ms\n",
            "Speed: 2.6ms preprocess, 4.4ms inference, 0.0ms postprocess per image at shape (1, 3, 224, 224)\n",
            "\n",
            "image 1/1 /content/Data-medical/test/Vitiligo/roi447.jpg: 224x224 Vitiligo 1.00, Wart 0.00, Tinea Versicolor 0.00, Psoraisis 0.00, Tinea capitis 0.00, 4.6ms\n",
            "Speed: 7.7ms preprocess, 4.6ms inference, 0.0ms postprocess per image at shape (1, 3, 224, 224)\n",
            "\n",
            "image 1/1 /content/Data-medical/test/Vitiligo/90.png: 224x224 Vitiligo 0.84, Tinea Versicolor 0.16, Tinea circinata 0.00, Wart 0.00, Herpes Zoster 0.00, 4.3ms\n",
            "Speed: 1.9ms preprocess, 4.3ms inference, 0.0ms postprocess per image at shape (1, 3, 224, 224)\n",
            "\n",
            "image 1/1 /content/Data-medical/test/Basal cell carcinoma/bcc1.jpg: 224x224 Basal cell carcinoma 1.00, Melanoma 0.00, Benign melanocytic nevus 0.00, Wart 0.00, Tinea circinata 0.00, 6.0ms\n",
            "Speed: 17.9ms preprocess, 6.0ms inference, 0.0ms postprocess per image at shape (1, 3, 224, 224)\n",
            "\n",
            "image 1/1 /content/Data-medical/test/Basal cell carcinoma/basal-cell-carcinoma-0019.jpg: 224x224 Basal cell carcinoma 1.00, Melanoma 0.00, Herpes Zoster 0.00, Wart 0.00, Tinea circinata 0.00, 4.8ms\n",
            "Speed: 13.4ms preprocess, 4.8ms inference, 0.0ms postprocess per image at shape (1, 3, 224, 224)\n",
            "\n",
            "image 1/1 /content/Data-medical/test/Basal cell carcinoma/nodular-nose (1).jpg: 224x224 Basal cell carcinoma 1.00, Wart 0.00, Tinea circinata 0.00, Alopecia areata 0.00, Benign melanocytic nevus 0.00, 4.6ms\n",
            "Speed: 9.6ms preprocess, 4.6ms inference, 0.0ms postprocess per image at shape (1, 3, 224, 224)\n",
            "\n",
            "image 1/1 /content/Data-medical/test/Basal cell carcinoma/F1.large (1).jpg: 224x224 Melanoma 1.00, Basal cell carcinoma 0.00, Benign melanocytic nevus 0.00, Wart 0.00, Psoraisis 0.00, 4.9ms\n",
            "Speed: 21.8ms preprocess, 4.9ms inference, 0.0ms postprocess per image at shape (1, 3, 224, 224)\n",
            "\n",
            "image 1/1 /content/Data-medical/test/Basal cell carcinoma/41379_2006_Article_BF3800512_Fig1_HTML.jpg: 224x224 Basal cell carcinoma 1.00, Wart 0.00, Herpes Zoster 0.00, Tinea circinata 0.00, Psoraisis 0.00, 4.6ms\n",
            "Speed: 7.8ms preprocess, 4.6ms inference, 0.0ms postprocess per image at shape (1, 3, 224, 224)\n",
            "\n",
            "image 1/1 /content/Data-medical/test/Basal cell carcinoma/Picture1.jpg: 224x224 Basal cell carcinoma 1.00, Melanoma 0.00, Wart 0.00, Tinea circinata 0.00, Herpes Zoster 0.00, 4.8ms\n",
            "Speed: 23.5ms preprocess, 4.8ms inference, 0.0ms postprocess per image at shape (1, 3, 224, 224)\n",
            "\n",
            "image 1/1 /content/Data-medical/test/Basal cell carcinoma/Basal-cell_Carcinoma-022045e9eefb4d8e86741e5222c84279.jpg: 224x224 Basal cell carcinoma 0.96, Wart 0.04, Melanoma 0.00, Vitiligo 0.00, Tinea circinata 0.00, 4.7ms\n",
            "Speed: 7.1ms preprocess, 4.7ms inference, 0.0ms postprocess per image at shape (1, 3, 224, 224)\n",
            "\n",
            "image 1/1 /content/Data-medical/test/Basal cell carcinoma/C313H-Cfinal-processed-pigmented-BCC.jpg: 224x224 Basal cell carcinoma 1.00, Melanoma 0.00, Wart 0.00, Tinea circinata 0.00, Herpes Zoster 0.00, 5.0ms\n",
            "Speed: 64.8ms preprocess, 5.0ms inference, 0.1ms postprocess per image at shape (1, 3, 224, 224)\n",
            "\n",
            "image 1/1 /content/Data-medical/test/Basal cell carcinoma/cropped_e6f8495eed1360437c981c59fe561560adf81f3f.jpg: 224x224 Herpes Zoster 1.00, Wart 0.00, Vitiligo 0.00, Melanoma 0.00, Basal cell carcinoma 0.00, 4.7ms\n",
            "Speed: 10.0ms preprocess, 4.7ms inference, 0.0ms postprocess per image at shape (1, 3, 224, 224)\n",
            "\n",
            "image 1/1 /content/Data-medical/test/Basal cell carcinoma/bcc2.jpg: 224x224 Basal cell carcinoma 1.00, Herpes Zoster 0.00, Psoraisis 0.00, Tinea circinata 0.00, Melanoma 0.00, 4.8ms\n",
            "Speed: 23.8ms preprocess, 4.8ms inference, 0.0ms postprocess per image at shape (1, 3, 224, 224)\n",
            "\n",
            "image 1/1 /content/Data-medical/test/Basal cell carcinoma/BCCMacro-nodular-1024x1024.jpg: 224x224 Basal cell carcinoma 1.00, Wart 0.00, Tinea circinata 0.00, Melanoma 0.00, Psoraisis 0.00, 4.9ms\n",
            "Speed: 57.0ms preprocess, 4.9ms inference, 0.0ms postprocess per image at shape (1, 3, 224, 224)\n",
            "\n",
            "image 1/1 /content/Data-medical/test/Basal cell carcinoma/Screen+Shot+2023-08-16+at+10.02.04+AM.png: 224x224 Basal cell carcinoma 1.00, Wart 0.00, Tinea circinata 0.00, Melanoma 0.00, Tinea capitis 0.00, 4.7ms\n",
            "Speed: 3.6ms preprocess, 4.7ms inference, 0.0ms postprocess per image at shape (1, 3, 224, 224)\n",
            "\n",
            "image 1/1 /content/Data-medical/test/Basal cell carcinoma/FmxbfUe (1).jpg: 224x224 Basal cell carcinoma 1.00, Wart 0.00, Normal skin 0.00, Melanoma 0.00, Tinea circinata 0.00, 4.6ms\n",
            "Speed: 9.6ms preprocess, 4.6ms inference, 0.0ms postprocess per image at shape (1, 3, 224, 224)\n",
            "\n",
            "image 1/1 /content/Data-medical/test/Basal cell carcinoma/basal-cell-carcinoma-kelowna (1).jpg: 224x224 Basal cell carcinoma 0.99, Benign melanocytic nevus 0.01, Melanoma 0.00, Herpes Zoster 0.00, Tinea circinata 0.00, 4.4ms\n",
            "Speed: 6.3ms preprocess, 4.4ms inference, 0.0ms postprocess per image at shape (1, 3, 224, 224)\n",
            "\n",
            "image 1/1 /content/Data-medical/test/Basal cell carcinoma/225 (27).jpeg: 224x224 Basal cell carcinoma 1.00, Melanoma 0.00, Wart 0.00, Psoraisis 0.00, Herpes Zoster 0.00, 4.3ms\n",
            "Speed: 2.3ms preprocess, 4.3ms inference, 0.1ms postprocess per image at shape (1, 3, 224, 224)\n",
            "\n",
            "image 1/1 /content/Data-medical/test/Basal cell carcinoma/related_case.jpg: 224x224 Basal cell carcinoma 1.00, Herpes Zoster 0.00, Tinea circinata 0.00, Wart 0.00, Melanoma 0.00, 4.4ms\n",
            "Speed: 12.1ms preprocess, 4.4ms inference, 0.0ms postprocess per image at shape (1, 3, 224, 224)\n",
            "\n",
            "image 1/1 /content/Data-medical/test/Basal cell carcinoma/melanoma1-WatermarkedWyJXYXRlcm1hcmtlZCJd.jpg: 224x224 Basal cell carcinoma 1.00, Melanoma 0.00, Normal skin 0.00, Wart 0.00, Herpes Zoster 0.00, 4.6ms\n",
            "Speed: 9.3ms preprocess, 4.6ms inference, 0.0ms postprocess per image at shape (1, 3, 224, 224)\n",
            "\n",
            "image 1/1 /content/Data-medical/test/Basal cell carcinoma/339615_2_En_15_Fig1_HTML.jpg: 224x224 Basal cell carcinoma 1.00, Wart 0.00, Melanoma 0.00, Tinea circinata 0.00, Herpes Zoster 0.00, 5.1ms\n",
            "Speed: 29.8ms preprocess, 5.1ms inference, 0.0ms postprocess per image at shape (1, 3, 224, 224)\n",
            "\n",
            "image 1/1 /content/Data-medical/test/Basal cell carcinoma/c0572179-800px-wm.jpg: 224x224 Wart 0.95, Basal cell carcinoma 0.05, Herpes Zoster 0.00, Melanoma 0.00, Normal skin 0.00, 4.8ms\n",
            "Speed: 30.5ms preprocess, 4.8ms inference, 0.1ms postprocess per image at shape (1, 3, 224, 224)\n",
            "\n",
            "image 1/1 /content/Data-medical/test/Basal cell carcinoma/basalCellCarcinomaBCC_6170_lg.jpg: 224x224 Basal cell carcinoma 1.00, Herpes Zoster 0.00, Melanoma 0.00, Tinea circinata 0.00, Vitiligo 0.00, 4.6ms\n",
            "Speed: 12.7ms preprocess, 4.6ms inference, 0.0ms postprocess per image at shape (1, 3, 224, 224)\n",
            "\n",
            "image 1/1 /content/Data-medical/test/Alopecia areata/Alopecia-areata.png: 224x224 Alopecia areata 1.00, Tinea capitis 0.00, Tinea Versicolor 0.00, Wart 0.00, Vitiligo 0.00, 4.4ms\n",
            "Speed: 2.6ms preprocess, 4.4ms inference, 0.1ms postprocess per image at shape (1, 3, 224, 224)\n",
            "\n",
            "image 1/1 /content/Data-medical/test/Alopecia areata/20240627_095545.jpg: 224x224 Alopecia areata 1.00, Normal skin 0.00, Vitiligo 0.00, Melanoma 0.00, Herpes Zoster 0.00, 4.6ms\n",
            "Speed: 15.4ms preprocess, 4.6ms inference, 0.0ms postprocess per image at shape (1, 3, 224, 224)\n",
            "\n",
            "image 1/1 /content/Data-medical/test/Alopecia areata/JSSTD-6-101-g001.png: 224x224 Alopecia areata 0.63, Tinea capitis 0.37, Psoraisis 0.00, Wart 0.00, Basal cell carcinoma 0.00, 4.7ms\n",
            "Speed: 6.4ms preprocess, 4.7ms inference, 0.0ms postprocess per image at shape (1, 3, 224, 224)\n",
            "\n",
            "image 1/1 /content/Data-medical/test/Alopecia areata/1323.jpg: 224x224 Alopecia areata 1.00, Tinea capitis 0.00, Melanoma 0.00, Vitiligo 0.00, Normal skin 0.00, 4.9ms\n",
            "Speed: 16.4ms preprocess, 4.9ms inference, 0.0ms postprocess per image at shape (1, 3, 224, 224)\n",
            "\n",
            "image 1/1 /content/Data-medical/test/Alopecia areata/F1.large (1).jpg: 224x224 Alopecia areata 0.59, Tinea capitis 0.41, Basal cell carcinoma 0.00, Psoraisis 0.00, Herpes Zoster 0.00, 4.7ms\n",
            "Speed: 9.4ms preprocess, 4.7ms inference, 0.0ms postprocess per image at shape (1, 3, 224, 224)\n",
            "\n",
            "image 1/1 /content/Data-medical/test/Alopecia areata/c0567878-800px-wm.jpg: 224x224 Alopecia areata 1.00, Wart 0.00, Basal cell carcinoma 0.00, Tinea capitis 0.00, Herpes Zoster 0.00, 5.0ms\n",
            "Speed: 33.9ms preprocess, 5.0ms inference, 0.0ms postprocess per image at shape (1, 3, 224, 224)\n",
            "\n",
            "image 1/1 /content/Data-medical/test/Alopecia areata/VWH-DermNetNZ-Alopecia-02-8594d84014464b3c9d21fae4db954234.jpg: 224x224 Alopecia areata 1.00, Tinea capitis 0.00, Tinea circinata 0.00, Vitiligo 0.00, Melanoma 0.00, 4.9ms\n",
            "Speed: 12.6ms preprocess, 4.9ms inference, 0.0ms postprocess per image at shape (1, 3, 224, 224)\n",
            "\n",
            "image 1/1 /content/Data-medical/test/Alopecia areata/alopecia-areata-experience-hair-loss-women-anne-lise-nadeau.jpg: 224x224 Alopecia areata 1.00, Vitiligo 0.00, Herpes Zoster 0.00, Wart 0.00, Normal skin 0.00, 5.0ms\n",
            "Speed: 12.2ms preprocess, 5.0ms inference, 0.0ms postprocess per image at shape (1, 3, 224, 224)\n",
            "\n",
            "image 1/1 /content/Data-medical/test/Alopecia areata/alopecia-areata-3.jpg: 224x224 Alopecia areata 1.00, Vitiligo 0.00, Tinea capitis 0.00, Benign melanocytic nevus 0.00, Normal skin 0.00, 4.9ms\n",
            "Speed: 17.8ms preprocess, 4.9ms inference, 0.0ms postprocess per image at shape (1, 3, 224, 224)\n",
            "\n",
            "image 1/1 /content/Data-medical/test/Alopecia areata/sddefault.jpg: 224x224 Alopecia areata 1.00, Psoraisis 0.00, Basal cell carcinoma 0.00, Melanoma 0.00, Tinea capitis 0.00, 4.7ms\n",
            "Speed: 14.2ms preprocess, 4.7ms inference, 0.0ms postprocess per image at shape (1, 3, 224, 224)\n",
            "\n",
            "image 1/1 /content/Data-medical/test/Alopecia areata/Thirteen-years-male-with-multiple-patches-of-hair-loss-so-called-alopecia-areata-like.png: 224x224 Alopecia areata 1.00, Tinea capitis 0.00, Tinea circinata 0.00, Psoraisis 0.00, Wart 0.00, 4.6ms\n",
            "Speed: 4.0ms preprocess, 4.6ms inference, 0.0ms postprocess per image at shape (1, 3, 224, 224)\n",
            "\n",
            "image 1/1 /content/Data-medical/test/Alopecia areata/dermlook1009-case1_72648.jpg: 224x224 Alopecia areata 1.00, Normal skin 0.00, Wart 0.00, Melanoma 0.00, Benign melanocytic nevus 0.00, 4.6ms\n",
            "Speed: 9.8ms preprocess, 4.6ms inference, 0.0ms postprocess per image at shape (1, 3, 224, 224)\n",
            "\n",
            "image 1/1 /content/Data-medical/test/Alopecia areata/skin-conditions-alopecia.jpg: 224x224 Alopecia areata 1.00, Vitiligo 0.00, Wart 0.00, Basal cell carcinoma 0.00, Normal skin 0.00, 4.8ms\n",
            "Speed: 15.3ms preprocess, 4.8ms inference, 0.0ms postprocess per image at shape (1, 3, 224, 224)\n",
            "\n",
            "image 1/1 /content/Data-medical/test/Alopecia areata/case_41 (1).jpg: 224x224 Tinea capitis 0.92, Alopecia areata 0.08, Psoraisis 0.00, Vitiligo 0.00, Wart 0.00, 4.8ms\n",
            "Speed: 13.6ms preprocess, 4.8ms inference, 0.0ms postprocess per image at shape (1, 3, 224, 224)\n",
            "\n",
            "image 1/1 /content/Data-medical/test/Alopecia areata/Alopecia_areata_09 (1).png: 224x224 Alopecia areata 1.00, Tinea capitis 0.00, Basal cell carcinoma 0.00, Melanoma 0.00, Wart 0.00, 4.4ms\n",
            "Speed: 2.6ms preprocess, 4.4ms inference, 0.0ms postprocess per image at shape (1, 3, 224, 224)\n",
            "\n",
            "image 1/1 /content/Data-medical/test/Alopecia areata/20240627_095540.jpg: 224x224 Alopecia areata 0.94, Normal skin 0.06, Wart 0.00, Vitiligo 0.00, Herpes Zoster 0.00, 4.6ms\n",
            "Speed: 12.0ms preprocess, 4.6ms inference, 0.0ms postprocess per image at shape (1, 3, 224, 224)\n",
            "\n",
            "image 1/1 /content/Data-medical/test/Alopecia areata/Clinical-view-of-the-typical-triangular-alopecic-patch-with-a-small-fringe-of-terminal.png: 224x224 Alopecia areata 1.00, Normal skin 0.00, Psoraisis 0.00, Herpes Zoster 0.00, Tinea capitis 0.00, 6.0ms\n",
            "Speed: 7.4ms preprocess, 6.0ms inference, 0.0ms postprocess per image at shape (1, 3, 224, 224)\n"
          ]
        }
      ],
      "source": [
        "def get_image_paths_and_labels(folder_path):\n",
        "    image_paths = []\n",
        "    labels = []\n",
        "    for class_idx, class_name in enumerate(classes):\n",
        "        class_dir = os.path.join(folder_path, class_name)\n",
        "        if not os.path.exists(class_dir):\n",
        "            continue\n",
        "        for img_name in os.listdir(class_dir):\n",
        "            image_paths.append(os.path.join(class_dir, img_name))\n",
        "            labels.append(class_name)\n",
        "    return image_paths, labels\n",
        "\n",
        "# Get test images and labels\n",
        "test_folder = 'Data-medical/test'\n",
        "test_image_paths, true_labels = get_image_paths_and_labels(test_folder)\n",
        "\n",
        "# Get predictions\n",
        "pred_labels = []\n",
        "for img_path in test_image_paths:\n",
        "    results = model(img_path)  # Predict on single image\n",
        "    names_dict = results[0].names\n",
        "    probs = results[0].probs.data.tolist()\n",
        "    pred_labels.append(names_dict[np.argmax(probs)])\n",
        "\n",
        "# Convert to numpy arrays\n",
        "true_labels = np.array(true_labels)\n",
        "pred_labels = np.array(pred_labels)\n",
        "\n",
        "le = LabelEncoder()\n",
        "le.fit(true_labels)  # Ensure all true classes are captured\n",
        "true_labels = le.transform(true_labels)\n",
        "pred_labels = le.transform(pred_labels)"
      ]
    },
    {
      "cell_type": "code",
      "execution_count": 36,
      "metadata": {
        "colab": {
          "base_uri": "https://localhost:8080/"
        },
        "id": "6AFKjkr08M2O",
        "outputId": "2bd32040-7208-4d20-c84a-e44dabc2116a"
      },
      "outputs": [
        {
          "output_type": "stream",
          "name": "stdout",
          "text": [
            "\n",
            "Classification Report:\n",
            "                          precision    recall  f1-score   support\n",
            "\n",
            "Benign melanocytic nevus     0.8889    0.9412    0.9143        17\n",
            "                Melanoma     0.8500    0.8500    0.8500        20\n",
            "                    Wart     0.8750    0.8750    0.8750        24\n",
            "           Herpes Zoster     0.9200    1.0000    0.9583        23\n",
            "           Tinea capitis     0.9310    0.9310    0.9310        29\n",
            "         Tinea circinata     0.8571    0.9474    0.9000        19\n",
            "               Psoraisis     0.9167    0.8800    0.8980        25\n",
            "             Normal skin     0.9524    0.8696    0.9091        23\n",
            "        Tinea Versicolor     0.8667    0.9286    0.8966        14\n",
            "                Vitiligo     0.9375    0.8824    0.9091        17\n",
            "    Basal cell carcinoma     0.9394    0.9688    0.9538        32\n",
            "         Alopecia areata     0.9000    0.7826    0.8372        23\n",
            "\n",
            "                accuracy                         0.9060       266\n",
            "               macro avg     0.9029    0.9047    0.9027       266\n",
            "            weighted avg     0.9068    0.9060    0.9054       266\n",
            "\n"
          ]
        }
      ],
      "source": [
        "# Classification report\n",
        "print(\"\\nClassification Report:\")\n",
        "print(classification_report(true_labels, pred_labels, target_names=classes, digits=4))"
      ]
    },
    {
      "cell_type": "code",
      "execution_count": 37,
      "metadata": {
        "colab": {
          "base_uri": "https://localhost:8080/"
        },
        "id": "lf_v5cgP8M2O",
        "outputId": "b017d57b-5cb8-4f0d-9410-6bb55d56fa91"
      },
      "outputs": [
        {
          "output_type": "stream",
          "name": "stdout",
          "text": [
            "\n",
            "Confusion Matrix:\n",
            "[[16  0  0  0  0  0  0  0  1  0  0  0]\n",
            " [ 0 17  0  1  1  0  0  0  0  0  0  1]\n",
            " [ 0  1 21  0  1  0  0  0  0  0  0  1]\n",
            " [ 0  0  0 23  0  0  0  0  0  0  0  0]\n",
            " [ 0  0  2  0 27  0  0  0  0  0  0  0]\n",
            " [ 0  0  0  0  0 18  0  0  0  0  1  0]\n",
            " [ 0  0  0  1  0  0 22  1  0  1  0  0]\n",
            " [ 0  0  0  0  0  2  1 20  0  0  0  0]\n",
            " [ 1  0  0  0  0  0  0  0 13  0  0  0]\n",
            " [ 1  1  0  0  0  0  0  0  0 15  0  0]\n",
            " [ 0  0  0  0  0  1  0  0  0  0 31  0]\n",
            " [ 0  1  1  0  0  0  1  0  1  0  1 18]]\n"
          ]
        }
      ],
      "source": [
        "# Confusion matrix\n",
        "cm = confusion_matrix(true_labels, pred_labels)\n",
        "print(\"\\nConfusion Matrix:\")\n",
        "print(cm)"
      ]
    },
    {
      "cell_type": "code",
      "execution_count": 38,
      "metadata": {
        "colab": {
          "base_uri": "https://localhost:8080/"
        },
        "id": "onItbVDT8M2O",
        "outputId": "ae87ed5c-bf8e-4b0a-faab-1a0745c4e6e5"
      },
      "outputs": [
        {
          "output_type": "stream",
          "name": "stdout",
          "text": [
            "\n",
            "Per-class metrics:\n",
            "Benign melanocytic nevus:\n",
            "  TP: 16, FP: 2, FN: 1\n",
            "  Precision: 0.8889, Recall: 0.9412, F1: 0.9143\n",
            "\n",
            "Melanoma:\n",
            "  TP: 17, FP: 3, FN: 3\n",
            "  Precision: 0.8500, Recall: 0.8500, F1: 0.8500\n",
            "\n",
            "Wart:\n",
            "  TP: 21, FP: 3, FN: 3\n",
            "  Precision: 0.8750, Recall: 0.8750, F1: 0.8750\n",
            "\n",
            "Herpes Zoster:\n",
            "  TP: 23, FP: 2, FN: 0\n",
            "  Precision: 0.9200, Recall: 1.0000, F1: 0.9583\n",
            "\n",
            "Tinea capitis:\n",
            "  TP: 27, FP: 2, FN: 2\n",
            "  Precision: 0.9310, Recall: 0.9310, F1: 0.9310\n",
            "\n",
            "Tinea circinata:\n",
            "  TP: 18, FP: 3, FN: 1\n",
            "  Precision: 0.8571, Recall: 0.9474, F1: 0.9000\n",
            "\n",
            "Psoraisis:\n",
            "  TP: 22, FP: 2, FN: 3\n",
            "  Precision: 0.9167, Recall: 0.8800, F1: 0.8980\n",
            "\n",
            "Normal skin:\n",
            "  TP: 20, FP: 1, FN: 3\n",
            "  Precision: 0.9524, Recall: 0.8696, F1: 0.9091\n",
            "\n",
            "Tinea Versicolor:\n",
            "  TP: 13, FP: 2, FN: 1\n",
            "  Precision: 0.8667, Recall: 0.9286, F1: 0.8966\n",
            "\n",
            "Vitiligo:\n",
            "  TP: 15, FP: 1, FN: 2\n",
            "  Precision: 0.9375, Recall: 0.8824, F1: 0.9091\n",
            "\n",
            "Basal cell carcinoma:\n",
            "  TP: 31, FP: 2, FN: 1\n",
            "  Precision: 0.9394, Recall: 0.9688, F1: 0.9538\n",
            "\n",
            "Alopecia areata:\n",
            "  TP: 18, FP: 2, FN: 5\n",
            "  Precision: 0.9000, Recall: 0.7826, F1: 0.8372\n",
            "\n"
          ]
        }
      ],
      "source": [
        "# Calculate per-class metrics\n",
        "FP = cm.sum(axis=0) - np.diag(cm)  # False Positives\n",
        "FN = cm.sum(axis=1) - np.diag(cm)  # False Negatives\n",
        "TP = np.diag(cm)                   # True Positives\n",
        "\n",
        "print(\"\\nPer-class metrics:\")\n",
        "for i, class_name in enumerate(classes):\n",
        "    precision = TP[i] / (TP[i] + FP[i]) if (TP[i] + FP[i]) > 0 else 0\n",
        "    recall = TP[i] / (TP[i] + FN[i]) if (TP[i] + FN[i]) > 0 else 0\n",
        "    f1 = 2 * (precision * recall) / (precision + recall) if (precision + recall) > 0 else 0\n",
        "\n",
        "    print(f\"{class_name}:\")\n",
        "    print(f\"  TP: {TP[i]}, FP: {FP[i]}, FN: {FN[i]}\")\n",
        "    print(f\"  Precision: {precision:.4f}, Recall: {recall:.4f}, F1: {f1:.4f}\\n\")"
      ]
    },
    {
      "cell_type": "markdown",
      "metadata": {
        "id": "mUBr2yHdwn1K"
      },
      "source": [
        "# Make Prediction For some Random Image"
      ]
    },
    {
      "cell_type": "code",
      "execution_count": null,
      "metadata": {
        "id": "JAyPQvbH9Lo6"
      },
      "outputs": [],
      "source": [
        "model_predict = YOLO('models/new_model.pt')"
      ]
    },
    {
      "cell_type": "code",
      "execution_count": null,
      "metadata": {
        "id": "MdZ6cLLS9DA3"
      },
      "outputs": [],
      "source": [
        "results = model_predict('D:\\skin-Diseases-Detection-main\\data\\Tinea capitis\\A-5-year-old-boy-with-a-large-kerion-celsi-before-treatment.png')\n",
        "\n",
        "names_dict = results[0].names\n",
        "\n",
        "probs = results[0].probs.data.tolist()\n",
        "\n",
        "print(names_dict)\n",
        "print(probs)\n",
        "\n",
        "print(names_dict[np.argmax(probs)])"
      ]
    },
    {
      "cell_type": "code",
      "execution_count": null,
      "metadata": {
        "id": "8QoxV7Ti8M2P"
      },
      "outputs": [],
      "source": []
    }
  ],
  "metadata": {
    "accelerator": "GPU",
    "colab": {
      "gpuType": "A100",
      "provenance": [],
      "machine_shape": "hm"
    },
    "kernelspec": {
      "display_name": "Python 3",
      "name": "python3"
    },
    "language_info": {
      "codemirror_mode": {
        "name": "ipython",
        "version": 3
      },
      "file_extension": ".py",
      "mimetype": "text/x-python",
      "name": "python",
      "nbconvert_exporter": "python",
      "pygments_lexer": "ipython3",
      "version": "3.11.13"
    }
  },
  "nbformat": 4,
  "nbformat_minor": 0
}